{
 "cells": [
  {
   "cell_type": "code",
   "execution_count": 1,
   "id": "414b6b86-9e38-4aab-b44a-0fd2dfb473a7",
   "metadata": {},
   "outputs": [],
   "source": [
    "import queue\n",
    "from random import Random\n",
    "from "
   ]
  },
  {
   "cell_type": "code",
   "execution_count": 34,
   "id": "95481021-63d2-4f73-9713-0b7d11af0627",
   "metadata": {},
   "outputs": [],
   "source": [
    "def task(name, work_queue):\n",
    "    # if work_queue.empty():\n",
    "    #     print(f\"Task {name} has nothing to do\")\n",
    "    while not work_queue.empty():\n",
    "        count = work_queue.get()\n",
    "        total = 0\n",
    "        print(f\"Task {name} running\")\n",
    "        for i in range(count):\n",
    "            total += 1\n",
    "            yield\n",
    "        print(f\"Task {name} Total: {total}\")\n",
    "        \n",
    "\n",
    "\n",
    "def main():\n",
    "    # create a queue of work\n",
    "    work_queue = queue.Queue()\n",
    "\n",
    "    # put some work in queue\n",
    "    for i in [15, 10, 5, 2]:\n",
    "        work_queue.put(i)\n",
    "\n",
    "    tasks = [task(\"one\", work_queue), task(\"two\", work_queue)]\n",
    "\n",
    "    done = False\n",
    "    while not done:\n",
    "        for t in tasks:\n",
    "            try:\n",
    "                next(t)\n",
    "            except StopIteration:\n",
    "                tasks.remove(t)\n",
    "            if len(tasks) == 0:\n",
    "                done = True"
   ]
  },
  {
   "cell_type": "code",
   "execution_count": 35,
   "id": "d16b1848-a95f-403e-a369-5f0bfa5a37a8",
   "metadata": {},
   "outputs": [
    {
     "name": "stdout",
     "output_type": "stream",
     "text": [
      "Task one running\n",
      "Task two running\n",
      "Task two Total: 10\n",
      "Task two running\n",
      "Task one Total: 15\n",
      "Task one running\n",
      "Task two Total: 5\n",
      "Task one Total: 2\n"
     ]
    }
   ],
   "source": [
    "main()"
   ]
  },
  {
   "cell_type": "code",
   "execution_count": 36,
   "id": "87e1ac69-c132-475a-9b92-789132e7dc97",
   "metadata": {},
   "outputs": [],
   "source": [
    "def random_gen(sample_list, seed):\n",
    "    r = Random()\n",
    "    r.seed(seed)\n",
    "    r.shuffle(sample_list)\n",
    "    for i in sample_list:\n",
    "        yield i\n",
    "    print(\"Done\")"
   ]
  },
  {
   "cell_type": "code",
   "execution_count": 29,
   "id": "aef0bd89-331e-4ed7-876f-f995bcaf8266",
   "metadata": {},
   "outputs": [],
   "source": [
    "random_gen = random_gen(list(range(3)), 1)"
   ]
  },
  {
   "cell_type": "code",
   "execution_count": 30,
   "id": "b231fe12-f6d9-4748-9a6d-f6e9fb4f10f7",
   "metadata": {},
   "outputs": [
    {
     "data": {
      "text/plain": [
       "1"
      ]
     },
     "execution_count": 30,
     "metadata": {},
     "output_type": "execute_result"
    }
   ],
   "source": [
    "next(random_gen)"
   ]
  },
  {
   "cell_type": "code",
   "execution_count": 37,
   "id": "81724936-3343-46c2-abc2-5cd250fe5f67",
   "metadata": {},
   "outputs": [
    {
     "name": "stdout",
     "output_type": "stream",
     "text": [
      "Task one running\n",
      "Task two running\n",
      "Task two Total: 10\n",
      "Task two running\n",
      "Task one Total: 15\n",
      "Task one running\n",
      "Task two Total: 5\n",
      "Task one Total: 2\n"
     ]
    }
   ],
   "source": [
    "main()"
   ]
  },
  {
   "cell_type": "code",
   "execution_count": null,
   "id": "c207ca95-3512-40f5-ae7a-ad6fd92be88c",
   "metadata": {},
   "outputs": [],
   "source": []
  }
 ],
 "metadata": {
  "kernelspec": {
   "display_name": "py311",
   "language": "python",
   "name": "pytorch"
  },
  "language_info": {
   "codemirror_mode": {
    "name": "ipython",
    "version": 3
   },
   "file_extension": ".py",
   "mimetype": "text/x-python",
   "name": "python",
   "nbconvert_exporter": "python",
   "pygments_lexer": "ipython3",
   "version": "3.11.4"
  }
 },
 "nbformat": 4,
 "nbformat_minor": 5
}
