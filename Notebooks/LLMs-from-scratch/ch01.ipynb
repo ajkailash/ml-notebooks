{
 "cells": [
  {
   "cell_type": "code",
   "execution_count": 1,
   "id": "ab86638b-acc1-4ecb-9a83-67bab912a5b5",
   "metadata": {},
   "outputs": [],
   "source": [
    "import re"
   ]
  },
  {
   "cell_type": "code",
   "execution_count": 2,
   "id": "df48262d-2831-4cdd-80c9-3d203948516f",
   "metadata": {},
   "outputs": [],
   "source": [
    "with open(\"./data/the-verdict.txt\", \"r\", encoding=\"utf-8\") as f:\n",
    "    raw_text = f.read()"
   ]
  },
  {
   "cell_type": "code",
   "execution_count": 3,
   "id": "2f2f1d84-21f8-47c5-8242-8618efac4bda",
   "metadata": {},
   "outputs": [
    {
     "name": "stdout",
     "output_type": "stream",
     "text": [
      "Total number of characters: 20479\n"
     ]
    }
   ],
   "source": [
    "print(\"Total number of characters:\", len(raw_text))"
   ]
  },
  {
   "cell_type": "code",
   "execution_count": 4,
   "id": "87d0f55a-f2b1-4427-b455-4bcd4f4fce7f",
   "metadata": {},
   "outputs": [
    {
     "name": "stdout",
     "output_type": "stream",
     "text": [
      "I HAD always thought Jack Gisburn rather a cheap genius--though a good fellow enough--so it was no \n"
     ]
    }
   ],
   "source": [
    "print(raw_text[:99])"
   ]
  },
  {
   "cell_type": "code",
   "execution_count": 5,
   "id": "3498d471-7231-4bc1-80aa-429c2a2fbd92",
   "metadata": {},
   "outputs": [],
   "source": [
    "preprocessed = re.split(r'([,.?_!\"()\\']|--|\\s)', raw_text)\n",
    "preprocessed = [item.strip() for item in preprocessed if item.strip()]\n",
    "all_tokens = sorted(set(preprocessed))\n",
    "all_tokens.extend([\"<|endoftext|>\", \"<|unk|>\"])"
   ]
  },
  {
   "cell_type": "code",
   "execution_count": 6,
   "id": "1284f154-48b2-4033-b8f6-541fb3cbe325",
   "metadata": {},
   "outputs": [],
   "source": [
    "vocab_size = len(all_tokens)"
   ]
  },
  {
   "cell_type": "code",
   "execution_count": 7,
   "id": "fc05f5d2-bad8-4924-ae4b-a8d3a3d5dd7a",
   "metadata": {},
   "outputs": [
    {
     "data": {
      "text/plain": [
       "1161"
      ]
     },
     "execution_count": 7,
     "metadata": {},
     "output_type": "execute_result"
    }
   ],
   "source": [
    "vocab_size"
   ]
  },
  {
   "cell_type": "code",
   "execution_count": 8,
   "id": "582a68fc-e271-4e52-becd-24ee26360cf1",
   "metadata": {},
   "outputs": [],
   "source": [
    "vocab = {token: idx for idx, token in enumerate(all_tokens)}"
   ]
  },
  {
   "cell_type": "code",
   "execution_count": 9,
   "id": "2ec0d082-037f-464c-8a5e-69eca1029dd1",
   "metadata": {},
   "outputs": [
    {
     "data": {
      "text/plain": [
       "1161"
      ]
     },
     "execution_count": 9,
     "metadata": {},
     "output_type": "execute_result"
    }
   ],
   "source": [
    "len(vocab)"
   ]
  },
  {
   "cell_type": "code",
   "execution_count": 10,
   "id": "6458b5b2-ad2f-4b7d-b28c-8c3707aa0020",
   "metadata": {},
   "outputs": [],
   "source": [
    "class SimpleTokenizer:\n",
    "    def __init__(self, vocab):\n",
    "        self.str_to_int = vocab\n",
    "        self.int_to_str = {v:k for k, v in vocab.items()}\n",
    "\n",
    "    def encode(self, text):\n",
    "        preprocessed = re.split(r'([,.?_!\"()\\']|--|\\s)', text)\n",
    "        preprocessed = [item.strip() for item in preprocessed if item.strip()]\n",
    "        ids = [self.str_to_int[s] if s in self.str_to_int else self.str_to_int['<|unk|>'] for s in preprocessed]\n",
    "        return ids\n",
    "\n",
    "    def decode(self, ids):\n",
    "        text = \" \".join([simple_tokenizer.int_to_str[i] for i in ids])\n",
    "        text = re.sub(r'\\s+([,.?_!\"()\\'])', r'\\1', text)\n",
    "        return text"
   ]
  },
  {
   "cell_type": "code",
   "execution_count": 11,
   "id": "7cac03d2-3f86-4d1f-827c-8cbad85cc095",
   "metadata": {},
   "outputs": [],
   "source": [
    "simple_tokenizer = SimpleTokenizer(vocab)"
   ]
  },
  {
   "cell_type": "code",
   "execution_count": 12,
   "id": "767be5ad-2d76-49d4-ac88-816ef03f77f8",
   "metadata": {},
   "outputs": [],
   "source": [
    "text = \"\"\"\"It's the last he painted, you know,\" \n",
    "           Mrs. Gisburn said with pardonable pride.\"\"\""
   ]
  },
  {
   "cell_type": "code",
   "execution_count": 13,
   "id": "c322055c-3c63-476a-a2d0-a2df5fc48a8d",
   "metadata": {},
   "outputs": [],
   "source": [
    "ids = simple_tokenizer.encode(text)"
   ]
  },
  {
   "cell_type": "code",
   "execution_count": 14,
   "id": "fbba86fc-ef02-4765-a673-81b66b6a7526",
   "metadata": {},
   "outputs": [
    {
     "data": {
      "text/plain": [
       "'\" It\\' s the last he painted, you know,\" Mrs. Gisburn said with pardonable pride.'"
      ]
     },
     "execution_count": 14,
     "metadata": {},
     "output_type": "execute_result"
    }
   ],
   "source": [
    "simple_tokenizer.decode(ids)"
   ]
  },
  {
   "cell_type": "code",
   "execution_count": 15,
   "id": "4b6ec49a-626a-4a41-a133-6958117c438f",
   "metadata": {},
   "outputs": [
    {
     "data": {
      "text/plain": [
       "[1160, 5, 362, 1155, 642, 1000, 7, 1160, 1024, 6, 119, 1160, 10]"
      ]
     },
     "execution_count": 15,
     "metadata": {},
     "output_type": "execute_result"
    }
   ],
   "source": [
    "simple_tokenizer.encode(\"Hello, do you like tea. Is this-- a test?\")"
   ]
  },
  {
   "cell_type": "code",
   "execution_count": 16,
   "id": "216f756e-37c0-4a57-a0bd-3b4c228d42d4",
   "metadata": {},
   "outputs": [],
   "source": [
    "text1 = \"Hello, world. My first program!!\"\n",
    "text2 = \"Please provide feedback and help me grow.\""
   ]
  },
  {
   "cell_type": "code",
   "execution_count": 17,
   "id": "24419311-f69b-4466-8967-c52f4fbb8c54",
   "metadata": {},
   "outputs": [],
   "source": [
    "token_ids = simple_tokenizer.encode(\"<|endoftext|>\".join([text1, text2]))"
   ]
  },
  {
   "cell_type": "code",
   "execution_count": 18,
   "id": "85dea7bd-f557-4977-9582-0ceec599e867",
   "metadata": {},
   "outputs": [
    {
     "data": {
      "text/plain": [
       "'<|unk|>, <|unk|>. My first <|unk|>!! <|unk|> <|unk|> <|unk|> and <|unk|> me <|unk|>.'"
      ]
     },
     "execution_count": 18,
     "metadata": {},
     "output_type": "execute_result"
    }
   ],
   "source": [
    "simple_tokenizer.decode(token_ids)"
   ]
  },
  {
   "cell_type": "code",
   "execution_count": null,
   "id": "188bc8b5-d027-4ebe-8400-458286b59cd4",
   "metadata": {},
   "outputs": [],
   "source": []
  },
  {
   "cell_type": "markdown",
   "id": "90fb448b-1cb2-41b1-860c-4e908fba8ef8",
   "metadata": {},
   "source": [
    "# BPE"
   ]
  },
  {
   "cell_type": "code",
   "execution_count": 20,
   "id": "c09d59b0-3727-4852-b4c1-3ad0b0e3abdd",
   "metadata": {},
   "outputs": [],
   "source": [
    "import tiktoken\n",
    "import importlib"
   ]
  },
  {
   "cell_type": "code",
   "execution_count": 24,
   "id": "56ef9da8-5da1-41d5-a604-21ca4f62b893",
   "metadata": {},
   "outputs": [
    {
     "name": "stdout",
     "output_type": "stream",
     "text": [
      "Tiktoken version: 0.7.0\n"
     ]
    }
   ],
   "source": [
    "print(f\"tiktoken version: {importlib.metadata.version('tiktoken')}\")"
   ]
  },
  {
   "cell_type": "code",
   "execution_count": 25,
   "id": "74bb6efb-f014-41d6-bf12-6aaec3bebcc7",
   "metadata": {},
   "outputs": [],
   "source": [
    "tokenizer = tiktoken.get_encoding(\"gpt2\")"
   ]
  },
  {
   "cell_type": "code",
   "execution_count": 34,
   "id": "921dcb56-2186-4d53-a14b-b3116890d697",
   "metadata": {},
   "outputs": [],
   "source": [
    "text = \"Hello, do you like tea? <|endoftext|> In the sunlit terraces\" \"of someunknownPlace.\""
   ]
  },
  {
   "cell_type": "code",
   "execution_count": 36,
   "id": "292aa53a-b7e2-40ea-af92-3c33dba25d1a",
   "metadata": {},
   "outputs": [],
   "source": [
    "enc_text = tokenizer.encode(raw_text)"
   ]
  },
  {
   "cell_type": "code",
   "execution_count": 37,
   "id": "2816c27f-21d9-47d7-9b77-34e8549ed99e",
   "metadata": {},
   "outputs": [
    {
     "data": {
      "text/plain": [
       "5145"
      ]
     },
     "execution_count": 37,
     "metadata": {},
     "output_type": "execute_result"
    }
   ],
   "source": [
    "len(enc_text)"
   ]
  },
  {
   "cell_type": "code",
   "execution_count": 40,
   "id": "4688d1ea-e10e-4f99-ad94-0c9a489eadf3",
   "metadata": {},
   "outputs": [],
   "source": [
    "enc_sample = enc_text[50:]"
   ]
  },
  {
   "cell_type": "code",
   "execution_count": 41,
   "id": "824e0cc0-7750-4c49-854f-e295d766d722",
   "metadata": {},
   "outputs": [],
   "source": [
    "context_size = 5"
   ]
  },
  {
   "cell_type": "code",
   "execution_count": 42,
   "id": "c9bfca13-897c-496f-be23-f6ce12294118",
   "metadata": {},
   "outputs": [
    {
     "data": {
      "text/plain": [
       "[290, 4920, 2241, 287, 257]"
      ]
     },
     "execution_count": 42,
     "metadata": {},
     "output_type": "execute_result"
    }
   ],
   "source": [
    "enc_sample[:context_size]"
   ]
  },
  {
   "cell_type": "code",
   "execution_count": 44,
   "id": "e4424949-c8ce-4085-99f6-16add55d58c8",
   "metadata": {},
   "outputs": [
    {
     "data": {
      "text/plain": [
       "[4920, 2241, 287, 257, 4489]"
      ]
     },
     "execution_count": 44,
     "metadata": {},
     "output_type": "execute_result"
    }
   ],
   "source": [
    "enc_sample[1:context_size+1]"
   ]
  },
  {
   "cell_type": "code",
   "execution_count": 48,
   "id": "708755fb-ec41-4531-a138-26f02bd7adf4",
   "metadata": {},
   "outputs": [
    {
     "name": "stdout",
     "output_type": "stream",
     "text": [
      " and --->  established\n",
      " and established --->  himself\n",
      " and established himself --->  in\n",
      " and established himself in --->  a\n",
      " and established himself in a --->  vill\n"
     ]
    }
   ],
   "source": [
    "for i in range(1, context_size + 1):\n",
    "    context = enc_sample[:i]\n",
    "    desired = enc_sample[i]\n",
    "    print(tokenizer.decode(context), \"--->\", tokenizer.decode([desired]))"
   ]
  },
  {
   "cell_type": "markdown",
   "id": "bddd19d3-81b9-4e3a-8de3-bfd1c9e5b2fb",
   "metadata": {},
   "source": [
    "### Building a dataloader in torch"
   ]
  }
 ],
 "metadata": {
  "kernelspec": {
   "display_name": "py311",
   "language": "python",
   "name": "pytorch"
  },
  "language_info": {
   "codemirror_mode": {
    "name": "ipython",
    "version": 3
   },
   "file_extension": ".py",
   "mimetype": "text/x-python",
   "name": "python",
   "nbconvert_exporter": "python",
   "pygments_lexer": "ipython3",
   "version": "3.11.4"
  }
 },
 "nbformat": 4,
 "nbformat_minor": 5
}
