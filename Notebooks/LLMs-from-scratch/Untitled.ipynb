{
 "cells": [
  {
   "cell_type": "code",
   "execution_count": 14,
   "id": "681c8f2c-99c4-40da-82dc-c4120808a69d",
   "metadata": {},
   "outputs": [],
   "source": [
    "import torch"
   ]
  },
  {
   "cell_type": "code",
   "execution_count": 15,
   "id": "57c37553-b702-4c32-830c-7546e6a17b0d",
   "metadata": {},
   "outputs": [],
   "source": [
    "inputs = torch.randn(6, 3)"
   ]
  },
  {
   "cell_type": "code",
   "execution_count": 16,
   "id": "5e9d2d0b-71b9-4723-8690-3ab270a450a5",
   "metadata": {},
   "outputs": [],
   "source": [
    "query = inputs[1]"
   ]
  },
  {
   "cell_type": "code",
   "execution_count": 17,
   "id": "c2efc631-97d5-4783-b5aa-837474d8b503",
   "metadata": {},
   "outputs": [],
   "source": [
    "attn_scores = torch.empty(inputs.shape[0])"
   ]
  },
  {
   "cell_type": "code",
   "execution_count": 18,
   "id": "929cc9ce-bb5f-46a5-a3ce-89a6f7c65f9f",
   "metadata": {},
   "outputs": [],
   "source": [
    "for i, x_i in enumerate(inputs):\n",
    "    attn_scores[i] = torch.dot(query, x_i)"
   ]
  },
  {
   "cell_type": "code",
   "execution_count": 19,
   "id": "15cdd8ec-8cbe-435a-a596-38335cd2e26e",
   "metadata": {},
   "outputs": [
    {
     "data": {
      "text/plain": [
       "tensor([ 1.7235,  1.7504,  0.3208, -1.1579,  0.4826, -2.2256])"
      ]
     },
     "execution_count": 19,
     "metadata": {},
     "output_type": "execute_result"
    }
   ],
   "source": [
    "attn_scores"
   ]
  },
  {
   "cell_type": "code",
   "execution_count": 24,
   "id": "eddd915b-6be4-41df-8499-cad8e79dfe57",
   "metadata": {},
   "outputs": [
    {
     "data": {
      "text/plain": [
       "tensor([ 1.9282,  1.9584,  0.3589, -1.2954,  0.5399, -2.4900])"
      ]
     },
     "execution_count": 24,
     "metadata": {},
     "output_type": "execute_result"
    }
   ],
   "source": [
    "(attn_scores / attn_scores.sum())"
   ]
  },
  {
   "cell_type": "code",
   "execution_count": 31,
   "id": "ea9d9391-461c-44f2-95eb-8df701926b33",
   "metadata": {},
   "outputs": [
    {
     "data": {
      "text/plain": [
       "tensor([0.3791, 0.3895, 0.0932, 0.0213, 0.1096, 0.0073])"
      ]
     },
     "execution_count": 31,
     "metadata": {},
     "output_type": "execute_result"
    }
   ],
   "source": [
    "torch.exp(attn_scores)/torch.sum(torch.exp(attn_scores))"
   ]
  },
  {
   "cell_type": "code",
   "execution_count": null,
   "id": "c366946c-f237-4602-890e-2a846be1007e",
   "metadata": {},
   "outputs": [],
   "source": []
  }
 ],
 "metadata": {
  "kernelspec": {
   "display_name": "Python 3 (ipykernel)",
   "language": "python",
   "name": "python3"
  },
  "language_info": {
   "codemirror_mode": {
    "name": "ipython",
    "version": 3
   },
   "file_extension": ".py",
   "mimetype": "text/x-python",
   "name": "python",
   "nbconvert_exporter": "python",
   "pygments_lexer": "ipython3",
   "version": "3.11.4"
  }
 },
 "nbformat": 4,
 "nbformat_minor": 5
}
