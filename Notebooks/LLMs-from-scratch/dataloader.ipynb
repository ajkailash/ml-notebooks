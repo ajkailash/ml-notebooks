{
 "cells": [
  {
   "cell_type": "code",
   "execution_count": 1,
   "id": "8a235dd4-4fcf-44b2-b77c-c7ddc28b3cef",
   "metadata": {},
   "outputs": [],
   "source": [
    "import tiktoken\n",
    "from torch.utils.data import Dataset, DataLoader\n",
    "import torch"
   ]
  },
  {
   "cell_type": "code",
   "execution_count": 26,
   "id": "890172cf-8641-4d38-b5dc-82e5e745f7d9",
   "metadata": {},
   "outputs": [],
   "source": [
    "with open('./data/the-verdict.txt', 'r', encoding='utf-8') as f:\n",
    "    raw_text = f.read()"
   ]
  },
  {
   "cell_type": "code",
   "execution_count": 27,
   "id": "2aba3046-21e2-4592-a871-64cdd9cfe13d",
   "metadata": {},
   "outputs": [],
   "source": [
    "MAX_SEQ_LENGTH = 4\n",
    "STRIDE = 1"
   ]
  },
  {
   "cell_type": "code",
   "execution_count": 28,
   "id": "27c5d4e6-04ee-4959-aadb-1411c5bf2d48",
   "metadata": {},
   "outputs": [],
   "source": [
    "class GPTDatasetV1(Dataset):\n",
    "    def __init__(self, txt, tokenizer, max_seq_length, stride):\n",
    "        self.token_ids = tokenizer.encode(raw_text, allowed_special={\"<|endoftext|>\"})\n",
    "        self.input_ids = []\n",
    "        self.target_ids = []\n",
    "        for i in range(0, len(self.token_ids) - max_seq_length, stride):\n",
    "            input_chunk = self.token_ids[i: i + max_seq_length]\n",
    "            target_chunk = self.token_ids[i+1: i + max_seq_length + 1]\n",
    "            self.input_ids.append(torch.tensor(input_chunk))\n",
    "            self.target_ids.append(torch.tensor(target_chunk))\n",
    "\n",
    "    def __len__(self):\n",
    "        return len(self.input_ids)\n",
    "\n",
    "    def __getitem__(self, idx):\n",
    "        return self.input_ids[idx], self.target_ids[idx]"
   ]
  },
  {
   "cell_type": "code",
   "execution_count": 29,
   "id": "a7fb7f21-945e-49fc-b25a-62e2adad6f4b",
   "metadata": {},
   "outputs": [],
   "source": [
    "def create_dataloader(text: str, max_seq_length: int, \n",
    "                      stride: int, batch_size: int, \n",
    "                      shuffle: bool):\n",
    "    tokenizer = tiktoken.get_encoding(\"gpt2\")\n",
    "    dataset = GPTDatasetV1(text, tokenizer, max_seq_length, stride)\n",
    "    dataloader = DataLoader(dataset=dataset, batch_size=batch_size, shuffle=shuffle)\n",
    "    return dataloader"
   ]
  },
  {
   "cell_type": "code",
   "execution_count": 31,
   "id": "75c0c594-fb40-426f-b5c1-8c3a24708109",
   "metadata": {},
   "outputs": [],
   "source": [
    "dataloader = create_dataloader(raw_text, MAX_SEQ_LENGTH, STRIDE, 2, False)"
   ]
  },
  {
   "cell_type": "code",
   "execution_count": 32,
   "id": "f4874a5c-169e-4079-afbc-34675127f918",
   "metadata": {},
   "outputs": [],
   "source": [
    "inp, target = next(iter(dataloader))"
   ]
  },
  {
   "cell_type": "code",
   "execution_count": 36,
   "id": "a2b1ee89-f705-4322-b4a2-e7524d78fab2",
   "metadata": {},
   "outputs": [
    {
     "data": {
      "text/plain": [
       "torch.Size([2, 4])"
      ]
     },
     "execution_count": 36,
     "metadata": {},
     "output_type": "execute_result"
    }
   ],
   "source": [
    "inp.shape"
   ]
  },
  {
   "cell_type": "code",
   "execution_count": 35,
   "id": "d0820afe-36be-46b1-9243-ea846f8e5db5",
   "metadata": {},
   "outputs": [
    {
     "data": {
      "text/plain": [
       "tensor([[ 367, 2885, 1464, 1807],\n",
       "        [2885, 1464, 1807, 3619]])"
      ]
     },
     "execution_count": 35,
     "metadata": {},
     "output_type": "execute_result"
    }
   ],
   "source": [
    "target"
   ]
  },
  {
   "cell_type": "code",
   "execution_count": 37,
   "id": "aee58578-23f5-46c7-8d58-a23357decda5",
   "metadata": {},
   "outputs": [],
   "source": [
    "vocab_size = 6\n",
    "embed_dim = 3"
   ]
  },
  {
   "cell_type": "code",
   "execution_count": 40,
   "id": "25aa6275-7a11-4ddb-8c1a-b5bbdd6ffacc",
   "metadata": {},
   "outputs": [],
   "source": [
    "embeddding_layer = torch.nn.Embedding(num_embeddings=6, embedding_dim=embed_dim)"
   ]
  },
  {
   "cell_type": "code",
   "execution_count": 42,
   "id": "81633c72-c271-40e2-8fe0-e705e8edded1",
   "metadata": {},
   "outputs": [],
   "source": [
    "sample_tensor = torch.tensor([0, 1, 2, 3, 4, 5])"
   ]
  },
  {
   "cell_type": "code",
   "execution_count": 43,
   "id": "bab154f6-55a3-4b73-86aa-8d6246ab3265",
   "metadata": {},
   "outputs": [
    {
     "data": {
      "text/plain": [
       "Parameter containing:\n",
       "tensor([[ 0.3030,  0.2982,  1.0058],\n",
       "        [-1.9074,  1.9568, -0.5934],\n",
       "        [-0.3699, -0.1898,  1.5559],\n",
       "        [ 0.6711,  0.1754, -1.9705],\n",
       "        [ 1.3260,  1.8966, -0.5805],\n",
       "        [ 0.8884,  0.8905, -0.7011]], requires_grad=True)"
      ]
     },
     "execution_count": 43,
     "metadata": {},
     "output_type": "execute_result"
    }
   ],
   "source": [
    "embeddding_layer.weight"
   ]
  },
  {
   "cell_type": "code",
   "execution_count": 45,
   "id": "00ee1854-0220-4f55-b4df-713dd457adb0",
   "metadata": {},
   "outputs": [
    {
     "data": {
      "text/plain": [
       "tensor([[ 0.3030,  0.2982,  1.0058],\n",
       "        [-1.9074,  1.9568, -0.5934],\n",
       "        [-0.3699, -0.1898,  1.5559],\n",
       "        [ 0.6711,  0.1754, -1.9705],\n",
       "        [ 1.3260,  1.8966, -0.5805],\n",
       "        [ 0.8884,  0.8905, -0.7011]], grad_fn=<EmbeddingBackward0>)"
      ]
     },
     "execution_count": 45,
     "metadata": {},
     "output_type": "execute_result"
    }
   ],
   "source": [
    "embeddding_layer(sample_tensor)"
   ]
  },
  {
   "cell_type": "code",
   "execution_count": null,
   "id": "85fa5984-978f-49bf-b7e3-c9843d03723a",
   "metadata": {},
   "outputs": [],
   "source": []
  }
 ],
 "metadata": {
  "kernelspec": {
   "display_name": "Python 3 (ipykernel)",
   "language": "python",
   "name": "python3"
  },
  "language_info": {
   "codemirror_mode": {
    "name": "ipython",
    "version": 3
   },
   "file_extension": ".py",
   "mimetype": "text/x-python",
   "name": "python",
   "nbconvert_exporter": "python",
   "pygments_lexer": "ipython3",
   "version": "3.11.4"
  }
 },
 "nbformat": 4,
 "nbformat_minor": 5
}
