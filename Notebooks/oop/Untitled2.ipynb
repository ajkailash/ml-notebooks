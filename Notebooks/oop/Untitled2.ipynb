{
 "cells": [
  {
   "cell_type": "code",
   "execution_count": 3,
   "id": "af084fd8-fd5c-4ae6-ac93-e552bd9cfe50",
   "metadata": {},
   "outputs": [],
   "source": [
    "from numbers import Real"
   ]
  },
  {
   "cell_type": "code",
   "execution_count": 4,
   "id": "5578aa8c-edc1-4e0a-a017-8bd703a75e8b",
   "metadata": {},
   "outputs": [
    {
     "data": {
      "text/plain": [
       "\u001b[0;31mInit signature:\u001b[0m \u001b[0mReal\u001b[0m\u001b[0;34m(\u001b[0m\u001b[0;34m)\u001b[0m\u001b[0;34m\u001b[0m\u001b[0;34m\u001b[0m\u001b[0m\n",
       "\u001b[0;31mDocstring:\u001b[0m     \n",
       "To Complex, Real adds the operations that work on real numbers.\n",
       "\n",
       "In short, those are: a conversion to float, trunc(), divmod,\n",
       "%, <, <=, >, and >=.\n",
       "\n",
       "Real also provides defaults for the derived operations.\n",
       "\u001b[0;31mFile:\u001b[0m           ~/miniconda3/lib/python3.11/numbers.py\n",
       "\u001b[0;31mType:\u001b[0m           ABCMeta\n",
       "\u001b[0;31mSubclasses:\u001b[0m     Rational"
      ]
     },
     "metadata": {},
     "output_type": "display_data"
    }
   ],
   "source": [
    "Real?"
   ]
  },
  {
   "cell_type": "code",
   "execution_count": 51,
   "id": "b0672fcf-ab6d-4b71-ab52-63011f189cd6",
   "metadata": {},
   "outputs": [],
   "source": [
    "class Vector:\n",
    "    def __init__(self, *components):\n",
    "        if len(components) < 1:\n",
    "            raise ValueError(\"Cannot create an empty vector\")\n",
    "        for component in components:\n",
    "            if not isinstance(component, Real):\n",
    "                raise ValueError(\"Vector should contain only real numbers\")\n",
    "        self._components = components\n",
    "\n",
    "    def __len__(self):\n",
    "        return len(self._components)\n",
    "\n",
    "    @property\n",
    "    def components(self):\n",
    "        return self._components\n",
    "\n",
    "    def __repr__(self):\n",
    "        return f\"Vector{self.components}\"\n",
    "\n",
    "    def __add__(self, other):\n",
    "        if not self.validate_type_and_dim(other):\n",
    "            return NotImplemented\n",
    "\n",
    "        components = (x+y for x, y in zip(self.components, other.components))\n",
    "        return Vector(*components)\n",
    "\n",
    "\n",
    "    def __sub__(self, other):\n",
    "        if not self.validate_type_and_dim(other):\n",
    "            return NotImplemented\n",
    "\n",
    "        components = (x-y for x, y in zip(self.components, other.components))\n",
    "        return Vector(*components)\n",
    "\n",
    "\n",
    "    def __mul__(self, other):\n",
    "        if isinstance(other, Real):\n",
    "            components = (other * x for x in self.components)\n",
    "            return Vector(*components)\n",
    "\n",
    "        elif self.validate_type_and_dim(other):\n",
    "            components = (x*y for x, y in zip(self.components, other.components))\n",
    "            return sum(components)\n",
    "\n",
    "        else:\n",
    "            NotImplemented\n",
    "\n",
    "    def __rmul__(self, other):\n",
    "        return self * other\n",
    "            \n",
    "        \n",
    "    def validate_type_and_dim(self, v):\n",
    "        return isinstance(v, Vector) and len(v) == len(self)\n",
    "\n"
   ]
  },
  {
   "cell_type": "code",
   "execution_count": 52,
   "id": "e2c0d5f5-ed0b-4b2a-8033-3510b956f611",
   "metadata": {},
   "outputs": [],
   "source": [
    "v1 = Vector(1, 10, 20, 30)\n",
    "v2 = Vector(2, 3, 4, 5)"
   ]
  },
  {
   "cell_type": "code",
   "execution_count": 53,
   "id": "03bd8dd1-8b03-49cf-8dff-c22da80a685c",
   "metadata": {},
   "outputs": [
    {
     "data": {
      "text/plain": [
       "Vector(3, 13, 24, 35)"
      ]
     },
     "execution_count": 53,
     "metadata": {},
     "output_type": "execute_result"
    }
   ],
   "source": [
    "v1 + v2"
   ]
  },
  {
   "cell_type": "code",
   "execution_count": 54,
   "id": "cab23a68-c881-45a7-82f0-0cdc9db97e39",
   "metadata": {},
   "outputs": [
    {
     "data": {
      "text/plain": [
       "Vector(1, -7, -16, -25)"
      ]
     },
     "execution_count": 54,
     "metadata": {},
     "output_type": "execute_result"
    }
   ],
   "source": [
    "v2 - v1"
   ]
  },
  {
   "cell_type": "code",
   "execution_count": 56,
   "id": "e0c1e8ac-3654-40c0-8e12-3c326a931c45",
   "metadata": {},
   "outputs": [
    {
     "name": "stdout",
     "output_type": "stream",
     "text": [
      "__mul__ called\n"
     ]
    },
    {
     "data": {
      "text/plain": [
       "262"
      ]
     },
     "execution_count": 56,
     "metadata": {},
     "output_type": "execute_result"
    }
   ],
   "source": [
    "v1 * v2"
   ]
  },
  {
   "cell_type": "code",
   "execution_count": null,
   "id": "1f5505af-959f-4346-a961-51afeb0e4c09",
   "metadata": {},
   "outputs": [],
   "source": []
  }
 ],
 "metadata": {
  "kernelspec": {
   "display_name": "Python 3 (ipykernel)",
   "language": "python",
   "name": "python3"
  },
  "language_info": {
   "codemirror_mode": {
    "name": "ipython",
    "version": 3
   },
   "file_extension": ".py",
   "mimetype": "text/x-python",
   "name": "python",
   "nbconvert_exporter": "python",
   "pygments_lexer": "ipython3",
   "version": "3.11.4"
  }
 },
 "nbformat": 4,
 "nbformat_minor": 5
}
