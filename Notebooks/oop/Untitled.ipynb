{
 "cells": [
  {
   "cell_type": "code",
   "execution_count": 31,
   "id": "b31efe6c-b3d7-4f19-a3eb-332f89e32584",
   "metadata": {},
   "outputs": [],
   "source": [
    "import math\n",
    "import urllib\n",
    "from time import perf_counter"
   ]
  },
  {
   "cell_type": "code",
   "execution_count": 24,
   "id": "f455d44b-4bfe-4fc2-b70f-790fcbbeba11",
   "metadata": {},
   "outputs": [],
   "source": [
    "class Circle:\n",
    "    def __init__(self, radius):\n",
    "        self._radius = radius\n",
    "        self._area = None\n",
    "        \n",
    "    @property\n",
    "    def radius(self):\n",
    "        return self._radius\n",
    "\n",
    "    @property\n",
    "    def area(self):\n",
    "        if self._area == None:\n",
    "            self._area = round(math.pi * (self.radius ** 2), 2)\n",
    "        return self._area\n",
    "\n",
    "    @radius.setter\n",
    "    def radius(self, r):\n",
    "        if r < 0:\n",
    "            raise ValueError(\"Radius must be non negative\")\n",
    "        self._radius = r\n",
    "        self._area = None"
   ]
  },
  {
   "cell_type": "code",
   "execution_count": 25,
   "id": "66b3924b-9462-41a6-a63a-3d1c65932a69",
   "metadata": {},
   "outputs": [],
   "source": [
    "c = Circle(2)"
   ]
  },
  {
   "cell_type": "code",
   "execution_count": 26,
   "id": "bb230b30-97e6-4039-9828-0ce4cd9b47f0",
   "metadata": {},
   "outputs": [
    {
     "data": {
      "text/plain": [
       "12.57"
      ]
     },
     "execution_count": 26,
     "metadata": {},
     "output_type": "execute_result"
    }
   ],
   "source": [
    "c.area"
   ]
  },
  {
   "cell_type": "code",
   "execution_count": 27,
   "id": "d82172f4-cc31-4886-a1ab-d1b09068c8d9",
   "metadata": {},
   "outputs": [],
   "source": [
    "c.radius = 10"
   ]
  },
  {
   "cell_type": "code",
   "execution_count": 28,
   "id": "c1f920a4-a040-4b40-9859-05addc51e8e3",
   "metadata": {},
   "outputs": [
    {
     "data": {
      "text/plain": [
       "314.16"
      ]
     },
     "execution_count": 28,
     "metadata": {},
     "output_type": "execute_result"
    }
   ],
   "source": [
    "c.area"
   ]
  },
  {
   "cell_type": "code",
   "execution_count": 39,
   "id": "352a3087-332d-4a46-b5f5-79ee5e5aa898",
   "metadata": {},
   "outputs": [],
   "source": [
    "class WebPage:\n",
    "    def __init__(self, url):\n",
    "        self._url = url\n",
    "        self._page = None\n",
    "        self._page_size = None\n",
    "        self._load_time = None\n",
    "        \n",
    "    @property\n",
    "    def url(self):\n",
    "        return self._url\n",
    "\n",
    "    @url.setter\n",
    "    def url(self, value):\n",
    "        self._url = value\n",
    "        self._page = None\n",
    "\n",
    "    @property\n",
    "    def page(self):\n",
    "        if self._page is None:\n",
    "            self.download_page()\n",
    "        return self._page\n",
    "\n",
    "    @property\n",
    "    def page_size(self):\n",
    "        if self._page is None:\n",
    "            self.download_page()\n",
    "        return self._page_size\n",
    "        \n",
    "    @property\n",
    "    def time_elapsed(self):\n",
    "        if self._page is None:\n",
    "            self.download_page()\n",
    "        return self._load_time\n",
    "\n",
    "    def download_page(self):\n",
    "        self._page_size = None\n",
    "        self._load_time = None\n",
    "        start_time = perf_counter()\n",
    "        with urllib.request.urlopen(self._url) as f:\n",
    "            self._page = f.read()\n",
    "\n",
    "        end_time = perf_counter()\n",
    "        self._load_time = end_time - start_time\n",
    "        self._page_size = len(self._page)    "
   ]
  },
  {
   "cell_type": "code",
   "execution_count": 40,
   "id": "0a2c27a5-6c13-4268-9179-2f5e0a658de9",
   "metadata": {},
   "outputs": [],
   "source": [
    "w = WebPage(\"https://www.google.com\")"
   ]
  },
  {
   "cell_type": "code",
   "execution_count": 41,
   "id": "2364a36b-d112-4f54-b147-747361fa7ad6",
   "metadata": {},
   "outputs": [
    {
     "data": {
      "text/plain": [
       "0.2838235000381246"
      ]
     },
     "execution_count": 41,
     "metadata": {},
     "output_type": "execute_result"
    }
   ],
   "source": [
    "w.time_elapsed"
   ]
  },
  {
   "cell_type": "code",
   "execution_count": 42,
   "id": "4b8e6b21-a763-4372-87a1-d761d4713d10",
   "metadata": {},
   "outputs": [
    {
     "data": {
      "text/plain": [
       "23147"
      ]
     },
     "execution_count": 42,
     "metadata": {},
     "output_type": "execute_result"
    }
   ],
   "source": [
    "w.page_size"
   ]
  },
  {
   "cell_type": "code",
   "execution_count": null,
   "id": "86ded9ed-6de7-4872-a260-03856555cd5d",
   "metadata": {},
   "outputs": [],
   "source": []
  }
 ],
 "metadata": {
  "kernelspec": {
   "display_name": "py311",
   "language": "python",
   "name": "pytorch"
  },
  "language_info": {
   "codemirror_mode": {
    "name": "ipython",
    "version": 3
   },
   "file_extension": ".py",
   "mimetype": "text/x-python",
   "name": "python",
   "nbconvert_exporter": "python",
   "pygments_lexer": "ipython3",
   "version": "3.11.4"
  }
 },
 "nbformat": 4,
 "nbformat_minor": 5
}
