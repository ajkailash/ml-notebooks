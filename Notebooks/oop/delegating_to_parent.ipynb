{
 "cells": [
  {
   "cell_type": "code",
   "execution_count": 12,
   "id": "e32676f5-e7c5-4bcf-ba4c-171acfee293b",
   "metadata": {},
   "outputs": [],
   "source": [
    "from numbers import Real\n",
    "import math"
   ]
  },
  {
   "cell_type": "code",
   "execution_count": 31,
   "id": "6cb0d1ea-28c2-4a95-9618-63c81c3d1b35",
   "metadata": {},
   "outputs": [],
   "source": [
    "class Circle:\n",
    "    def __init__(self, r):\n",
    "        self.radius = r\n",
    "        self._area = None\n",
    "        self._perimeter = None\n",
    "\n",
    "    @property\n",
    "    def radius(self):\n",
    "        return self._r\n",
    "\n",
    "    @radius.setter\n",
    "    def radius(self, value):\n",
    "        if isinstance(value, Real) and value > 0:\n",
    "            self._r = value\n",
    "            self._area = None\n",
    "            self._perimeter = None\n",
    "        else:\n",
    "            raise ValueError(\"Radius must be a non-negative real number\")\n",
    "    @property\n",
    "    def area(self):\n",
    "        if self._area == None:\n",
    "            self._area = math.pi * self.radius ** 2\n",
    "        return self._area\n",
    "\n",
    "    @property\n",
    "    def perimeter(self):\n",
    "        if self._perimeter == None:\n",
    "            self._perimeter = 2 * math.pi * self.radius\n",
    "        return self._perimeter        "
   ]
  },
  {
   "cell_type": "code",
   "execution_count": 32,
   "id": "9cf9f508-7a83-41a9-bf02-c815a3b89e7d",
   "metadata": {},
   "outputs": [],
   "source": [
    "class UnitCircle(Circle):\n",
    "    def __init__(self):\n",
    "        super().__init__(1)"
   ]
  },
  {
   "cell_type": "code",
   "execution_count": 35,
   "id": "b984d18e-56ec-4415-848b-1fc485e1f782",
   "metadata": {},
   "outputs": [],
   "source": [
    "u = UnitCircle()"
   ]
  },
  {
   "cell_type": "code",
   "execution_count": 38,
   "id": "ae92f3d0-d6b9-4491-ae74-c705e74e70fa",
   "metadata": {},
   "outputs": [
    {
     "data": {
      "text/plain": [
       "(1, 3.141592653589793, 6.283185307179586)"
      ]
     },
     "execution_count": 38,
     "metadata": {},
     "output_type": "execute_result"
    }
   ],
   "source": [
    "u.radius, u.area,  u.perimeter"
   ]
  },
  {
   "cell_type": "code",
   "execution_count": 39,
   "id": "f7bf8404-0ee9-4368-9b04-290ddba05b38",
   "metadata": {},
   "outputs": [],
   "source": [
    "u.radius = 3"
   ]
  },
  {
   "cell_type": "code",
   "execution_count": 40,
   "id": "b0a799a8-0d01-401a-8a9b-200971b81c49",
   "metadata": {},
   "outputs": [
    {
     "data": {
      "text/plain": [
       "(28.274333882308138, 18.84955592153876)"
      ]
     },
     "execution_count": 40,
     "metadata": {},
     "output_type": "execute_result"
    }
   ],
   "source": [
    "u.area,  u.perimeter"
   ]
  },
  {
   "cell_type": "code",
   "execution_count": null,
   "id": "75831fe8-3437-4010-ac71-0abcd1e0ab29",
   "metadata": {},
   "outputs": [],
   "source": []
  }
 ],
 "metadata": {
  "kernelspec": {
   "display_name": "Python 3 (ipykernel)",
   "language": "python",
   "name": "python3"
  },
  "language_info": {
   "codemirror_mode": {
    "name": "ipython",
    "version": 3
   },
   "file_extension": ".py",
   "mimetype": "text/x-python",
   "name": "python",
   "nbconvert_exporter": "python",
   "pygments_lexer": "ipython3",
   "version": "3.11.4"
  }
 },
 "nbformat": 4,
 "nbformat_minor": 5
}
