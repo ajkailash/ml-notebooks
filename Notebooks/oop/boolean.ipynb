{
 "cells": [
  {
   "cell_type": "markdown",
   "id": "b48d74c6-8b98-4b53-8ce6-2ab94c552fcc",
   "metadata": {},
   "source": [
    "## Boolean"
   ]
  },
  {
   "cell_type": "markdown",
   "id": "26594d58-2409-4735-9d4b-c02f91463a76",
   "metadata": {},
   "source": [
    "- Every object in python has an associated truth value"
   ]
  },
  {
   "cell_type": "code",
   "execution_count": 10,
   "id": "5638456c-f168-4b46-8ffe-d6f699b27309",
   "metadata": {},
   "outputs": [
    {
     "name": "stdout",
     "output_type": "stream",
     "text": [
      "False\n",
      "True\n"
     ]
    },
    {
     "data": {
      "text/plain": [
       "False"
      ]
     },
     "execution_count": 10,
     "metadata": {},
     "output_type": "execute_result"
    }
   ],
   "source": [
    "print(bool(0)) #zero will return False\n",
    "print(bool(10))  #Non zero number will return True\n",
    "bool(len([]))"
   ]
  },
  {
   "cell_type": "markdown",
   "id": "aaf15d6f-1056-4f3b-9b85-af700d05cd13",
   "metadata": {},
   "source": [
    "- By default the object instance will return True, when you apply the Bool function"
   ]
  },
  {
   "cell_type": "code",
   "execution_count": 15,
   "id": "84da2685-d49c-4c9c-8d3d-7ea55b6c9a57",
   "metadata": {},
   "outputs": [],
   "source": [
    "class EmptyClass:\n",
    "    pass"
   ]
  },
  {
   "cell_type": "code",
   "execution_count": 18,
   "id": "1f853593-2a26-45fc-a92d-f1756f51f66b",
   "metadata": {},
   "outputs": [
    {
     "data": {
      "text/plain": [
       "True"
      ]
     },
     "execution_count": 18,
     "metadata": {},
     "output_type": "execute_result"
    }
   ],
   "source": [
    "ec = EmptyClass()\n",
    "bool(ec)"
   ]
  },
  {
   "cell_type": "markdown",
   "id": "56acaa02-2fd7-438e-9e0d-30fbc31dc311",
   "metadata": {},
   "source": [
    "- We can change this default behavior either by implementing the __len__ method or __bool__ method"
   ]
  },
  {
   "cell_type": "code",
   "execution_count": 19,
   "id": "c3b365c0-ef62-4248-b845-f79ca4a04469",
   "metadata": {},
   "outputs": [],
   "source": [
    "class MyList:\n",
    "    def __init__(self, list):\n",
    "        self.list = list\n",
    "\n",
    "    def __len__(self):\n",
    "        return len(self.list)"
   ]
  },
  {
   "cell_type": "code",
   "execution_count": 20,
   "id": "eca99a1b-1250-4fef-ac06-c0fa7459604f",
   "metadata": {},
   "outputs": [],
   "source": [
    "l1 = MyList([])\n",
    "l2 = MyList([1, 2, 3])"
   ]
  },
  {
   "cell_type": "code",
   "execution_count": 22,
   "id": "3393273d-114d-46f1-a34b-192c10f66b56",
   "metadata": {},
   "outputs": [
    {
     "data": {
      "text/plain": [
       "(False, True)"
      ]
     },
     "execution_count": 22,
     "metadata": {},
     "output_type": "execute_result"
    }
   ],
   "source": [
    "bool(l1), bool(l2)"
   ]
  },
  {
   "cell_type": "code",
   "execution_count": 35,
   "id": "0f0c4c69-f0e0-4897-99a6-1880c17cfbc3",
   "metadata": {},
   "outputs": [],
   "source": [
    "class Point:\n",
    "    def __init__(self, x, y):\n",
    "        self.x = x \n",
    "        self.y = y\n",
    "    def __bool__(self):\n",
    "        return self.x != 0 or self.y != 0"
   ]
  },
  {
   "cell_type": "code",
   "execution_count": 36,
   "id": "4ea75a65-4c49-46ab-9592-830f482b3b7d",
   "metadata": {},
   "outputs": [],
   "source": [
    "p1 = Point(0, 1)\n",
    "p2 = Point(0, 0)"
   ]
  },
  {
   "cell_type": "code",
   "execution_count": 37,
   "id": "c6e68735-4435-4ff2-9a6b-f198380d42dc",
   "metadata": {},
   "outputs": [
    {
     "data": {
      "text/plain": [
       "(True, False)"
      ]
     },
     "execution_count": 37,
     "metadata": {},
     "output_type": "execute_result"
    }
   ],
   "source": [
    "bool(p1), bool(p2)"
   ]
  },
  {
   "cell_type": "code",
   "execution_count": null,
   "id": "d801f601-498c-4a9a-9c1b-c33f67f8f823",
   "metadata": {},
   "outputs": [],
   "source": []
  }
 ],
 "metadata": {
  "kernelspec": {
   "display_name": "Python 3 (ipykernel)",
   "language": "python",
   "name": "python3"
  },
  "language_info": {
   "codemirror_mode": {
    "name": "ipython",
    "version": 3
   },
   "file_extension": ".py",
   "mimetype": "text/x-python",
   "name": "python",
   "nbconvert_exporter": "python",
   "pygments_lexer": "ipython3",
   "version": "3.11.4"
  }
 },
 "nbformat": 4,
 "nbformat_minor": 5
}
