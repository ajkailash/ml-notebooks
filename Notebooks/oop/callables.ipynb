{
 "cells": [
  {
   "cell_type": "code",
   "execution_count": 1,
   "id": "fd297d33-c70f-4b84-a0f5-7988853a8d52",
   "metadata": {},
   "outputs": [],
   "source": [
    "from collections import defaultdict"
   ]
  },
  {
   "cell_type": "code",
   "execution_count": 27,
   "id": "25d16255-d91c-4467-abf8-8003d6349495",
   "metadata": {},
   "outputs": [],
   "source": [
    "# define a callable for the defaultdict factory\n",
    "# should not take any paramters\n",
    "def default_dict():\n",
    "    return 'N/A'"
   ]
  },
  {
   "cell_type": "code",
   "execution_count": 2,
   "id": "05c9d250-b975-4042-a047-c39caf7e97c4",
   "metadata": {},
   "outputs": [],
   "source": [
    "#define a callable as a class\n",
    "class DefaultValue:\n",
    "    def __init__(self):\n",
    "        self.counter = 0\n",
    "\n",
    "    def __call__(self):\n",
    "        self.counter +=1\n",
    "        return 'N/A'"
   ]
  },
  {
   "cell_type": "code",
   "execution_count": 3,
   "id": "a09ea7d3-102e-4fde-8ec4-aedaca568c08",
   "metadata": {},
   "outputs": [],
   "source": [
    "def_val = DefaultValue()"
   ]
  },
  {
   "cell_type": "code",
   "execution_count": 4,
   "id": "1c8aef1a-45cc-487c-8fbe-b7078dfb58c8",
   "metadata": {},
   "outputs": [],
   "source": [
    "d = defaultdict(def_val)"
   ]
  },
  {
   "cell_type": "code",
   "execution_count": 5,
   "id": "38df8724-bcb0-4605-9836-8a121903de46",
   "metadata": {},
   "outputs": [
    {
     "data": {
      "text/plain": [
       "'N/A'"
      ]
     },
     "execution_count": 5,
     "metadata": {},
     "output_type": "execute_result"
    }
   ],
   "source": [
    "d[\"a\"]"
   ]
  },
  {
   "cell_type": "code",
   "execution_count": 7,
   "id": "a65da94d-652a-4d79-8a9b-87bdbb0e499e",
   "metadata": {},
   "outputs": [],
   "source": [
    "d[\"b\"] = 100"
   ]
  },
  {
   "cell_type": "code",
   "execution_count": 8,
   "id": "75e14bb3-37d9-461f-89de-7bbcf1324085",
   "metadata": {},
   "outputs": [
    {
     "data": {
      "text/plain": [
       "dict_items([('a', 'N/A'), ('b', 100)])"
      ]
     },
     "execution_count": 8,
     "metadata": {},
     "output_type": "execute_result"
    }
   ],
   "source": [
    "d.items()"
   ]
  },
  {
   "cell_type": "code",
   "execution_count": 9,
   "id": "bf28d090-5f16-41c4-8e2f-3c4b826b2130",
   "metadata": {},
   "outputs": [
    {
     "data": {
      "text/plain": [
       "1"
      ]
     },
     "execution_count": 9,
     "metadata": {},
     "output_type": "execute_result"
    }
   ],
   "source": [
    "def_val.counter"
   ]
  },
  {
   "cell_type": "code",
   "execution_count": 1,
   "id": "44de2d10-f70f-4411-840d-c9b5bfdaf55e",
   "metadata": {},
   "outputs": [],
   "source": [
    "from time import perf_counter, sleep\n",
    "import random"
   ]
  },
  {
   "cell_type": "code",
   "execution_count": 18,
   "id": "f4e0d465-bab5-43d1-9164-5fd99698eff2",
   "metadata": {},
   "outputs": [],
   "source": []
  },
  {
   "cell_type": "code",
   "execution_count": 15,
   "id": "41a1049f-64e1-4ef7-8162-0e4356ab305d",
   "metadata": {},
   "outputs": [],
   "source": []
  },
  {
   "cell_type": "code",
   "execution_count": 10,
   "id": "01a51064-9a85-43a8-bf5b-21314a239480",
   "metadata": {},
   "outputs": [],
   "source": [
    "class Profiler:\n",
    "    def __init__(self, fn):\n",
    "        self.counter = 0\n",
    "        self.elapsed_time = 0\n",
    "        self.fn = fn\n",
    "        \n",
    "    def __call__(self, *args, **kwargs):\n",
    "        self.counter +=1\n",
    "        start_time = perf_counter()\n",
    "        result = self.fn(*args, **kwargs)\n",
    "        end_time = perf_counter()\n",
    "        self.elapsed_time += (end_time - start_time)\n",
    "        return result\n",
    "\n",
    "    @property\n",
    "    def avg_time(self):\n",
    "        return self.elapsed_time / self.counter"
   ]
  },
  {
   "cell_type": "code",
   "execution_count": 16,
   "id": "5dedf210-4b3b-4d87-9722-b00b4389a5c4",
   "metadata": {},
   "outputs": [],
   "source": [
    "@Profiler\n",
    "def func(a, b):\n",
    "    sleep(random.random())\n",
    "    return a + b"
   ]
  },
  {
   "cell_type": "code",
   "execution_count": 17,
   "id": "f6120241-d01f-486f-81e1-5f2220f9b411",
   "metadata": {},
   "outputs": [
    {
     "data": {
      "text/plain": [
       "10"
      ]
     },
     "execution_count": 17,
     "metadata": {},
     "output_type": "execute_result"
    }
   ],
   "source": [
    "func(5, 5)"
   ]
  },
  {
   "cell_type": "code",
   "execution_count": 18,
   "id": "5dce5cdd-7a00-4d88-ac43-c629c51b1606",
   "metadata": {},
   "outputs": [
    {
     "data": {
      "text/plain": [
       "1"
      ]
     },
     "execution_count": 18,
     "metadata": {},
     "output_type": "execute_result"
    }
   ],
   "source": [
    "func.counter"
   ]
  },
  {
   "cell_type": "code",
   "execution_count": null,
   "id": "64f80648-cf9b-4b22-9ad2-88b21c95aa2e",
   "metadata": {},
   "outputs": [],
   "source": []
  }
 ],
 "metadata": {
  "kernelspec": {
   "display_name": "py311",
   "language": "python",
   "name": "pytorch"
  },
  "language_info": {
   "codemirror_mode": {
    "name": "ipython",
    "version": 3
   },
   "file_extension": ".py",
   "mimetype": "text/x-python",
   "name": "python",
   "nbconvert_exporter": "python",
   "pygments_lexer": "ipython3",
   "version": "3.11.4"
  }
 },
 "nbformat": 4,
 "nbformat_minor": 5
}
