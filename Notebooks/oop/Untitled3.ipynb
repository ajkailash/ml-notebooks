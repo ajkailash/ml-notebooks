{
 "cells": [
  {
   "cell_type": "markdown",
   "id": "0340b241-d5f8-46c7-af8a-0dc9143917b7",
   "metadata": {},
   "source": [
    "## Rich comparisons"
   ]
  },
  {
   "cell_type": "code",
   "execution_count": 29,
   "id": "40dd7264-a832-4ba9-bebb-09959d4ee0e2",
   "metadata": {},
   "outputs": [],
   "source": [
    "from math import sqrt"
   ]
  },
  {
   "cell_type": "code",
   "execution_count": 56,
   "id": "0a47b2e6-1baf-4177-b6e8-0d2d8e9ddf91",
   "metadata": {},
   "outputs": [],
   "source": [
    "class Vector:\n",
    "    def __init__(self, x, y):\n",
    "        self.x = x\n",
    "        self.y = y\n",
    "\n",
    "    def __repr__(self):\n",
    "        return f\"Vector (x={self.x}, y={self.y})\"\n",
    "\n",
    "    def __eq__(self, other):\n",
    "        print(\"__eq called\")\n",
    "        if isinstance(other, tuple):\n",
    "            other = Vector(*other)\n",
    "        if isinstance(other, Vector):\n",
    "            return self.x == other.x and self.y == other.y\n",
    "        return NotImplemented\n",
    "\n",
    "    def __abs__(self):\n",
    "        l2_norm = sqrt(self.x ** 2 + self.y **2)\n",
    "        print(l2_norm)\n",
    "        return l2_norm\n",
    "\n",
    "    def __lt__(self, other):\n",
    "        print(\"__lt__ called\")\n",
    "        print(self)\n",
    "        print(other)\n",
    "        if isinstance(other, tuple):\n",
    "            other = Vector(*other)\n",
    "        if isinstance(other, Vector):\n",
    "            return abs(self) < abs(other)\n",
    "\n",
    "    def __le__(self, other):\n",
    "        print(\"__le__ called\")\n",
    "        return self == other and self < other"
   ]
  },
  {
   "cell_type": "code",
   "execution_count": 57,
   "id": "c69090d6-adf7-493c-ae01-325e686b4829",
   "metadata": {},
   "outputs": [],
   "source": [
    "v1 = Vector(1, 1)\n",
    "v2 = Vector(4, 4)\n",
    "v3 = (10, 1)"
   ]
  },
  {
   "cell_type": "code",
   "execution_count": 58,
   "id": "a6e3bd2c-6469-4f09-a68a-ba0db6288168",
   "metadata": {},
   "outputs": [
    {
     "name": "stdout",
     "output_type": "stream",
     "text": [
      "__lt__ called\n",
      "Vector (x=1, y=1)\n",
      "Vector (x=4, y=4)\n",
      "1.4142135623730951\n",
      "5.656854249492381\n"
     ]
    },
    {
     "data": {
      "text/plain": [
       "True"
      ]
     },
     "execution_count": 58,
     "metadata": {},
     "output_type": "execute_result"
    }
   ],
   "source": [
    "v1 < v2"
   ]
  },
  {
   "cell_type": "code",
   "execution_count": 47,
   "id": "23b9c236-7cfa-42c3-b568-80b29d4e31fe",
   "metadata": {},
   "outputs": [
    {
     "name": "stdout",
     "output_type": "stream",
     "text": [
      "__lt__ called\n",
      "1.4142135623730951\n",
      "5.656854249492381\n"
     ]
    },
    {
     "data": {
      "text/plain": [
       "True"
      ]
     },
     "execution_count": 47,
     "metadata": {},
     "output_type": "execute_result"
    }
   ],
   "source": [
    "v2 > v1"
   ]
  },
  {
   "cell_type": "code",
   "execution_count": 48,
   "id": "fc2de714-07ea-4869-9aa6-52517b8cb23b",
   "metadata": {},
   "outputs": [
    {
     "name": "stdout",
     "output_type": "stream",
     "text": [
      "__le__ called\n"
     ]
    },
    {
     "data": {
      "text/plain": [
       "False"
      ]
     },
     "execution_count": 48,
     "metadata": {},
     "output_type": "execute_result"
    }
   ],
   "source": [
    "v1 <= v2"
   ]
  },
  {
   "cell_type": "code",
   "execution_count": null,
   "id": "7c2bc3d4-74ea-401b-9995-04ef65f9ba54",
   "metadata": {},
   "outputs": [],
   "source": []
  }
 ],
 "metadata": {
  "kernelspec": {
   "display_name": "Python 3 (ipykernel)",
   "language": "python",
   "name": "python3"
  },
  "language_info": {
   "codemirror_mode": {
    "name": "ipython",
    "version": 3
   },
   "file_extension": ".py",
   "mimetype": "text/x-python",
   "name": "python",
   "nbconvert_exporter": "python",
   "pygments_lexer": "ipython3",
   "version": "3.11.4"
  }
 },
 "nbformat": 4,
 "nbformat_minor": 5
}
