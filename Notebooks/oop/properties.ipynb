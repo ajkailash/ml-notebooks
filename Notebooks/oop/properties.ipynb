{
 "cells": [
  {
   "cell_type": "markdown",
   "id": "bcc6559a-0e32-4e79-9adb-46dd54f10394",
   "metadata": {},
   "source": [
    "## Properties\n",
    "- Direct access to instance variables is discouraged"
   ]
  },
  {
   "cell_type": "code",
   "execution_count": 36,
   "id": "042076ed-ece1-4fbd-95dc-4b0acf6f57eb",
   "metadata": {},
   "outputs": [],
   "source": [
    "class Person:\n",
    "    def __init__(self, name):\n",
    "        self._name = name\n",
    "\n",
    "    def name(self):\n",
    "        return self._name\n",
    "\n",
    "    def set_name(self, value):\n",
    "        if isinstance(value, str) and len(value.strip()) > 0:\n",
    "            self._name = value.strip()\n",
    "        else:\n",
    "            raise ValueError(\"name must be a non-empty string\")\n",
    "\n",
    "    name = property(name)"
   ]
  },
  {
   "cell_type": "code",
   "execution_count": 8,
   "id": "8efc8124-d2f5-45e9-805a-ccbfc218291a",
   "metadata": {},
   "outputs": [],
   "source": [
    "class Person:\n",
    "    def __init__(self, name):\n",
    "        self._name = name\n",
    "\n",
    "    @property\n",
    "    def name(self):\n",
    "        return self._name\n",
    "    \n",
    "    @name.setter\n",
    "    def name(self, value):\n",
    "        if isinstance(value, str) and len(value.strip()) > 0:\n",
    "            self._name = value\n",
    "        else:\n",
    "            raise ValueError(\"Name my be non-empty string\")\n",
    "\n",
    "    @name.deleter\n",
    "    def name(self):\n",
    "        del self._name"
   ]
  },
  {
   "cell_type": "code",
   "execution_count": 9,
   "id": "8e9c89e8-302d-4408-8681-5562cc8a8a67",
   "metadata": {},
   "outputs": [],
   "source": [
    "p = Person(\"John\")"
   ]
  },
  {
   "cell_type": "code",
   "execution_count": 10,
   "id": "af830082-6843-4ebc-9f9b-46f90f18b42c",
   "metadata": {},
   "outputs": [
    {
     "data": {
      "text/plain": [
       "'John'"
      ]
     },
     "execution_count": 10,
     "metadata": {},
     "output_type": "execute_result"
    }
   ],
   "source": [
    "p.name"
   ]
  },
  {
   "cell_type": "code",
   "execution_count": 11,
   "id": "da571076-97cc-48e2-a8a7-211bf200cd1e",
   "metadata": {},
   "outputs": [],
   "source": [
    "p.name = \"Alex\" "
   ]
  },
  {
   "cell_type": "code",
   "execution_count": 12,
   "id": "28d2d1c6-b730-4d69-b101-33ccfbf31f3d",
   "metadata": {},
   "outputs": [
    {
     "data": {
      "text/plain": [
       "'Alex'"
      ]
     },
     "execution_count": 12,
     "metadata": {},
     "output_type": "execute_result"
    }
   ],
   "source": [
    "p.name"
   ]
  },
  {
   "cell_type": "code",
   "execution_count": 13,
   "id": "c7d330db-edee-425b-a2a4-bd0f08ef740e",
   "metadata": {},
   "outputs": [],
   "source": [
    "del p.name"
   ]
  },
  {
   "cell_type": "code",
   "execution_count": 14,
   "id": "fe770c95-62c2-4baa-86eb-7232f2d6e441",
   "metadata": {},
   "outputs": [
    {
     "ename": "AttributeError",
     "evalue": "'Person' object has no attribute '_name'",
     "output_type": "error",
     "traceback": [
      "\u001b[0;31m---------------------------------------------------------------------------\u001b[0m",
      "\u001b[0;31mAttributeError\u001b[0m                            Traceback (most recent call last)",
      "Cell \u001b[0;32mIn[14], line 1\u001b[0m\n\u001b[0;32m----> 1\u001b[0m p\u001b[38;5;241m.\u001b[39mname\n",
      "Cell \u001b[0;32mIn[8], line 7\u001b[0m, in \u001b[0;36mPerson.name\u001b[0;34m(self)\u001b[0m\n\u001b[1;32m      5\u001b[0m \u001b[38;5;129m@property\u001b[39m\n\u001b[1;32m      6\u001b[0m \u001b[38;5;28;01mdef\u001b[39;00m \u001b[38;5;21mname\u001b[39m(\u001b[38;5;28mself\u001b[39m):\n\u001b[0;32m----> 7\u001b[0m     \u001b[38;5;28;01mreturn\u001b[39;00m \u001b[38;5;28mself\u001b[39m\u001b[38;5;241m.\u001b[39m_name\n",
      "\u001b[0;31mAttributeError\u001b[0m: 'Person' object has no attribute '_name'"
     ]
    }
   ],
   "source": [
    "p.name"
   ]
  },
  {
   "cell_type": "code",
   "execution_count": null,
   "id": "55caa567-5312-4463-87ef-ffedf2993abe",
   "metadata": {},
   "outputs": [],
   "source": []
  }
 ],
 "metadata": {
  "kernelspec": {
   "display_name": "py311",
   "language": "python",
   "name": "pytorch"
  },
  "language_info": {
   "codemirror_mode": {
    "name": "ipython",
    "version": 3
   },
   "file_extension": ".py",
   "mimetype": "text/x-python",
   "name": "python",
   "nbconvert_exporter": "python",
   "pygments_lexer": "ipython3",
   "version": "3.11.4"
  }
 },
 "nbformat": 4,
 "nbformat_minor": 5
}
