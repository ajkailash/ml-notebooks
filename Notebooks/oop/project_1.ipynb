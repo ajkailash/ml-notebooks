{
 "cells": [
  {
   "cell_type": "code",
   "execution_count": 8,
   "id": "785d53d5-9758-4ff5-8eb6-a404654541db",
   "metadata": {},
   "outputs": [],
   "source": [
    "from datetime import datetime\n",
    "from datetime import timedelta\n",
    "import numbers"
   ]
  },
  {
   "cell_type": "code",
   "execution_count": null,
   "id": "3b19a787-f4d5-46fc-9973-e3235f18ac11",
   "metadata": {},
   "outputs": [],
   "source": []
  },
  {
   "cell_type": "code",
   "execution_count": 31,
   "id": "91c72725-64b8-4077-9a76-c78cdedb8723",
   "metadata": {},
   "outputs": [],
   "source": [
    "def gen_transaction_ids(start_id):\n",
    "    while True:\n",
    "        start_id += 1\n",
    "        yield start_id"
   ]
  },
  {
   "cell_type": "code",
   "execution_count": 38,
   "id": "48a773a2-b03a-4c62-bc50-904636c69bba",
   "metadata": {},
   "outputs": [],
   "source": [
    "transaction_counter = gen_transaction_ids(0)"
   ]
  },
  {
   "cell_type": "code",
   "execution_count": 39,
   "id": "c0a3cd05-5eb0-4a9b-b783-b5436f6450de",
   "metadata": {},
   "outputs": [
    {
     "data": {
      "text/plain": [
       "1"
      ]
     },
     "execution_count": 39,
     "metadata": {},
     "output_type": "execute_result"
    }
   ],
   "source": [
    "next(transaction_counter)"
   ]
  },
  {
   "cell_type": "code",
   "execution_count": 2,
   "id": "64350897-1fe6-4287-8c2e-a27ea445fdb4",
   "metadata": {},
   "outputs": [],
   "source": [
    "class TimeZone:\n",
    "    def __init__(self, name, offset_hours, offset_minutes):\n",
    "        if name is None or len(str(name).strip()) == 0:\n",
    "            raise ValueError(\"Timezone name cannot be empty\")\n",
    "\n",
    "        self._name = str(name).strip()\n",
    "\n",
    "        if not isinstance(offset_hours, numbers.Integral):\n",
    "            raise ValueError(\"Hours offset must be an integer\")\n",
    "\n",
    "\n",
    "        if not isinstance(offset_minutes, numbers.Integral):\n",
    "            raise ValueError(\"Minutes offset must be an integer\")\n",
    "\n",
    "\n",
    "        if abs(offset_minutes) > 59:\n",
    "            raise ValueError(\"Minutes offset must be in the range -59 to 59 (inclusive)\")\n",
    "\n",
    "\n",
    "        offset = timedelta(hours=offset_hours, minutes=offset_minutes)\n",
    "\n",
    "\n",
    "        if offset < timedelta(hours=-12, minutes=0) or offset > timedelta(hours=14, minutes=0):\n",
    "            raise ValueError(\"Offset must be between -12.00 and +14.00\")\n",
    "\n",
    "\n",
    "        self._offset_hours = offset_hours\n",
    "\n",
    "        self._offset_minutes = offset_minutes\n",
    "\n",
    "        self._offset = offset\n",
    "\n",
    "    @property\n",
    "    def offset(self):\n",
    "        return self._offset\n",
    "\n",
    "\n",
    "    @property\n",
    "    def name(self):\n",
    "        return self._name\n",
    "\n",
    "\n",
    "    def __eq__(self, other):\n",
    "        return (isinstance(other, TimeZone) and \n",
    "                self.name == other.name and \n",
    "                self._offset_hours == other._offset_hours and \n",
    "                self._offset_minutes == other._offset_minutes)\n",
    "\n",
    "\n",
    "    def __repr__(self):\n",
    "        return (f\"TimeZone(name='{self._name}', \" \n",
    "        f\"offset_hours={self._offset_hours}, \" \n",
    "        f\"offset_minutes = {self._offset_minutes})\")          "
   ]
  },
  {
   "cell_type": "code",
   "execution_count": 30,
   "id": "fcee11df-a1d5-479f-9e8b-de7f8bda2805",
   "metadata": {},
   "outputs": [
    {
     "name": "stdout",
     "output_type": "stream",
     "text": [
      "Offset must be between -12.00 and +14.00\n"
     ]
    }
   ],
   "source": [
    "# tz1 = TimeZone(\"PST\", -1, 0)\n",
    "try: \n",
    "    tz2 = TimeZone(\"ABC\", 24, 15)\n",
    "except ValueError as e:\n",
    "    print(e)"
   ]
  },
  {
   "cell_type": "code",
   "execution_count": null,
   "id": "c69f79da-bc6d-49a6-85ec-c77e0a6191ec",
   "metadata": {},
   "outputs": [],
   "source": [
    "class Account:\n",
    "    interest_rate = 0.07\n",
    "    transaction_counter = gen_transaction_ids(0)\n",
    "    def __init__(self, account_number, first_name, last_name):\n",
    "        self.account_number = account_number\n",
    "        self.first_name = first_name\n",
    "        self.last_name = last_name\n",
    "        self._balances = 0\n",
    "\n",
    "        @property\n",
    "        def balances(self):\n",
    "            return self._balances\n",
    "            \n",
    "        @balances.setter\n",
    "        def balances(self, value):\n",
    "            self._balances += value\n",
    "\n",
    "        def deposit(self, value):\n",
    "            if value <= 0:\n",
    "                raise ValueError(\"Deposited amount can't be zero or negative\")\n",
    "            self.balances += value\n",
    "            return\n",
    "\n",
    "        def withdrawl(self, value):\n",
    "            if value > self.balances:\n",
    "                raise ValueError(\"Withdrawl declined. Amount greater than remaining balance\")\n",
    "            self.balances -= value\n",
    "            \n",
    "\n",
    "        @classmethod\n",
    "        def calculate_interest(cls):\n",
    "            A = self.balances * (1 + interest_rate)\n",
    "            interest = A - self.balances\n",
    "            self.balances += interest\n",
    "\n",
    "        \n",
    "            "
   ]
  },
  {
   "cell_type": "code",
   "execution_count": null,
   "id": "ac8dfd6f-1312-4f08-97a3-897519e34799",
   "metadata": {},
   "outputs": [],
   "source": []
  }
 ],
 "metadata": {
  "kernelspec": {
   "display_name": "Python 3 (ipykernel)",
   "language": "python",
   "name": "python3"
  },
  "language_info": {
   "codemirror_mode": {
    "name": "ipython",
    "version": 3
   },
   "file_extension": ".py",
   "mimetype": "text/x-python",
   "name": "python",
   "nbconvert_exporter": "python",
   "pygments_lexer": "ipython3",
   "version": "3.11.4"
  }
 },
 "nbformat": 4,
 "nbformat_minor": 5
}
