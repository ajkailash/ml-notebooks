{
 "cells": [
  {
   "cell_type": "markdown",
   "id": "dd3e3ec8-77b7-4b7c-ae2c-326c8b7ae419",
   "metadata": {},
   "source": [
    "## hashing and equality"
   ]
  },
  {
   "cell_type": "markdown",
   "id": "cee71a04-3804-477f-a443-4a17419ad587",
   "metadata": {},
   "source": [
    "- All classes inherit from the object class\n",
    "- The object class has default methods like __eq__ and __hash__\n",
    "- Hash is calculated based on the memory address and the equality operation is done based on the memory address"
   ]
  },
  {
   "cell_type": "code",
   "execution_count": 22,
   "id": "eff54ed7-5ab4-4057-873a-5423d02c2577",
   "metadata": {},
   "outputs": [
    {
     "data": {
      "text/plain": [
       "['__class__',\n",
       " '__delattr__',\n",
       " '__dir__',\n",
       " '__doc__',\n",
       " '__eq__',\n",
       " '__format__',\n",
       " '__ge__',\n",
       " '__getattribute__',\n",
       " '__getstate__',\n",
       " '__gt__',\n",
       " '__hash__',\n",
       " '__init__',\n",
       " '__init_subclass__',\n",
       " '__le__',\n",
       " '__lt__',\n",
       " '__ne__',\n",
       " '__new__',\n",
       " '__reduce__',\n",
       " '__reduce_ex__',\n",
       " '__repr__',\n",
       " '__setattr__',\n",
       " '__sizeof__',\n",
       " '__str__',\n",
       " '__subclasshook__']"
      ]
     },
     "execution_count": 22,
     "metadata": {},
     "output_type": "execute_result"
    }
   ],
   "source": [
    "dir(object)"
   ]
  },
  {
   "cell_type": "code",
   "execution_count": 24,
   "id": "92602f2a-2dbc-4c51-be3a-2ce3b30f339e",
   "metadata": {},
   "outputs": [],
   "source": [
    "# Create an empty class\n",
    "class Person:\n",
    "    pass"
   ]
  },
  {
   "cell_type": "code",
   "execution_count": 25,
   "id": "35cb7571-be9f-4649-8c18-0331247dc09f",
   "metadata": {},
   "outputs": [],
   "source": [
    "p1 = Person()\n",
    "p2 = Person()"
   ]
  },
  {
   "cell_type": "code",
   "execution_count": 26,
   "id": "5ff289f9-d9a7-402c-973e-458c8b238918",
   "metadata": {},
   "outputs": [
    {
     "data": {
      "text/plain": [
       "(274670261, 274405969)"
      ]
     },
     "execution_count": 26,
     "metadata": {},
     "output_type": "execute_result"
    }
   ],
   "source": [
    "hash(p1), hash(p2)"
   ]
  },
  {
   "cell_type": "code",
   "execution_count": 27,
   "id": "fe99d3f9-f788-49dd-ab90-f7abaf440798",
   "metadata": {},
   "outputs": [
    {
     "data": {
      "text/plain": [
       "False"
      ]
     },
     "execution_count": 27,
     "metadata": {},
     "output_type": "execute_result"
    }
   ],
   "source": [
    "#The class constructor returns two different objects\n",
    "p1 == p2"
   ]
  },
  {
   "cell_type": "code",
   "execution_count": 28,
   "id": "f86a1676-0eaf-4876-bb8b-32ebea1db8ec",
   "metadata": {},
   "outputs": [],
   "source": [
    "# Lets overwrite the __eq__ method\n",
    "class Person:\n",
    "    def __init__(self, name):\n",
    "        self.name = name\n",
    "\n",
    "    def __eq__(self, other):\n",
    "        print(\"__eq__ called\")\n",
    "        return isinstance(other, Person) and self.name == other.name\n",
    "\n",
    "    def __repr__(self):\n",
    "        return f\"Person({self.name})\""
   ]
  },
  {
   "cell_type": "code",
   "execution_count": 29,
   "id": "cc089a56-cfff-4be7-871b-47b13b156a9b",
   "metadata": {},
   "outputs": [],
   "source": [
    "p1 = Person(\"John\")\n",
    "p2 = Person(\"John\")"
   ]
  },
  {
   "cell_type": "code",
   "execution_count": 30,
   "id": "c2c2bf11-08dd-41bb-a568-542d1429d562",
   "metadata": {},
   "outputs": [
    {
     "ename": "TypeError",
     "evalue": "unhashable type: 'Person'",
     "output_type": "error",
     "traceback": [
      "\u001b[0;31m---------------------------------------------------------------------------\u001b[0m",
      "\u001b[0;31mTypeError\u001b[0m                                 Traceback (most recent call last)",
      "Cell \u001b[0;32mIn[30], line 3\u001b[0m\n\u001b[1;32m      1\u001b[0m \u001b[38;5;66;03m#As soon as you overwrite the __eq__ method.\u001b[39;00m\n\u001b[1;32m      2\u001b[0m \u001b[38;5;66;03m#Python will remove the hash implementation\u001b[39;00m\n\u001b[0;32m----> 3\u001b[0m \u001b[38;5;28;43mhash\u001b[39;49m\u001b[43m(\u001b[49m\u001b[43mp1\u001b[49m\u001b[43m)\u001b[49m\n",
      "\u001b[0;31mTypeError\u001b[0m: unhashable type: 'Person'"
     ]
    }
   ],
   "source": [
    "#As soon as you overwrite the __eq__ method.\n",
    "#Python will remove the hash implementation\n",
    "hash(p1)"
   ]
  },
  {
   "cell_type": "code",
   "execution_count": 32,
   "id": "bb3452da-b33b-49e4-ad1c-d75bd8961d9d",
   "metadata": {},
   "outputs": [
    {
     "ename": "TypeError",
     "evalue": "unhashable type: 'Person'",
     "output_type": "error",
     "traceback": [
      "\u001b[0;31m---------------------------------------------------------------------------\u001b[0m",
      "\u001b[0;31mTypeError\u001b[0m                                 Traceback (most recent call last)",
      "Cell \u001b[0;32mIn[32], line 1\u001b[0m\n\u001b[0;32m----> 1\u001b[0m {p1: \u001b[38;5;124m\"\u001b[39m\u001b[38;5;124msome_value\u001b[39m\u001b[38;5;124m\"\u001b[39m}\n",
      "\u001b[0;31mTypeError\u001b[0m: unhashable type: 'Person'"
     ]
    }
   ],
   "source": [
    "{p1: \"some_value\"}"
   ]
  },
  {
   "cell_type": "markdown",
   "id": "b40a1607-b6bd-4252-9e46-9a479758e97d",
   "metadata": {},
   "source": [
    "- We create a hash using the name attribute\n",
    "- The attribute used to check the __eq__ method and compute the hash should be immutable. However, this is not possible.\n",
    "- So, we create name as a pseudo private variable using the underscore notation"
   ]
  },
  {
   "cell_type": "code",
   "execution_count": 33,
   "id": "19720b28-c3af-4f00-b1e8-dc0f2ab76921",
   "metadata": {},
   "outputs": [],
   "source": [
    "# Lets overwrite the __eq__ method\n",
    "class Person:\n",
    "    def __init__(self, name):\n",
    "        self._name = name\n",
    "\n",
    "    @property\n",
    "    def name(self):\n",
    "        return self._name\n",
    "\n",
    "    def __eq__(self, other):\n",
    "        print(\"__eq__ called\")\n",
    "        return isinstance(other, Person) and self.name == other.name\n",
    "\n",
    "    def __hash__(self):\n",
    "        return hash(self.name)\n",
    "\n",
    "    def __repr__(self):\n",
    "        return f\"Person({self.name})\""
   ]
  },
  {
   "cell_type": "code",
   "execution_count": 34,
   "id": "4405692c-2cd3-45e1-ba77-d74113e2bad6",
   "metadata": {},
   "outputs": [],
   "source": [
    "p1 = Person(\"John\")\n",
    "p2 = Person(\"John\")"
   ]
  },
  {
   "cell_type": "code",
   "execution_count": 35,
   "id": "b9b8e306-e585-47cc-9ee8-1fb19f42007c",
   "metadata": {},
   "outputs": [
    {
     "name": "stdout",
     "output_type": "stream",
     "text": [
      "__eq__ called\n"
     ]
    },
    {
     "data": {
      "text/plain": [
       "True"
      ]
     },
     "execution_count": 35,
     "metadata": {},
     "output_type": "execute_result"
    }
   ],
   "source": [
    "p1 == p2"
   ]
  },
  {
   "cell_type": "code",
   "execution_count": 20,
   "id": "1453d2d3-ef6f-4b72-b16b-a6698cc10672",
   "metadata": {},
   "outputs": [
    {
     "data": {
      "text/plain": [
       "(-443328252690683938, -443328252690683938)"
      ]
     },
     "execution_count": 20,
     "metadata": {},
     "output_type": "execute_result"
    }
   ],
   "source": [
    "hash(p1), hash(p2)"
   ]
  },
  {
   "cell_type": "code",
   "execution_count": 36,
   "id": "0bcfba15-1937-471e-8ee7-63af8b5ab8b5",
   "metadata": {},
   "outputs": [
    {
     "data": {
      "text/plain": [
       "{Person(John): 10}"
      ]
     },
     "execution_count": 36,
     "metadata": {},
     "output_type": "execute_result"
    }
   ],
   "source": [
    "{p1: 10}"
   ]
  },
  {
   "cell_type": "code",
   "execution_count": null,
   "id": "563e321d-ed29-4a68-b9de-720ed246504a",
   "metadata": {},
   "outputs": [],
   "source": []
  }
 ],
 "metadata": {
  "kernelspec": {
   "display_name": "Python 3 (ipykernel)",
   "language": "python",
   "name": "python3"
  },
  "language_info": {
   "codemirror_mode": {
    "name": "ipython",
    "version": 3
   },
   "file_extension": ".py",
   "mimetype": "text/x-python",
   "name": "python",
   "nbconvert_exporter": "python",
   "pygments_lexer": "ipython3",
   "version": "3.11.4"
  }
 },
 "nbformat": 4,
 "nbformat_minor": 5
}
