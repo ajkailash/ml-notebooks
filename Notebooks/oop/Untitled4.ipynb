{
 "cells": [
  {
   "cell_type": "markdown",
   "id": "a592b31c-c6be-459b-a734-5014dfeb6e73",
   "metadata": {},
   "source": [
    "## Overriding"
   ]
  },
  {
   "cell_type": "code",
   "execution_count": 5,
   "id": "7ae1a78e-0d74-4952-b202-541e19e6672e",
   "metadata": {},
   "outputs": [],
   "source": [
    "class Greeting:\n",
    "    def say_hello(self):\n",
    "        return \"Hello!!\"\n",
    "\n",
    "    def say_bye(self):\n",
    "        return \"Bye!!\""
   ]
  },
  {
   "cell_type": "code",
   "execution_count": 16,
   "id": "17ca5ae2-e949-4b6f-bee8-585761bea61e",
   "metadata": {},
   "outputs": [],
   "source": [
    "class New(Greeting):\n",
    "    pass\n",
    "    # def say_hello(self):\n",
    "    #     return \"yo\""
   ]
  },
  {
   "cell_type": "code",
   "execution_count": 33,
   "id": "90a9f2c4-4f0b-4f56-8ec5-28b3cd4315c0",
   "metadata": {},
   "outputs": [],
   "source": [
    "class Person:\n",
    "    def eat(self):\n",
    "        return f\"{self.__class__.__name__} eats\"\n",
    "\n",
    "    def work(self):\n",
    "        return f\"{self.__class__.__name__} works\"\n",
    "\n",
    "    def sleep(self):\n",
    "        return f\"{self.__class__.__name__} sleeps\""
   ]
  },
  {
   "cell_type": "code",
   "execution_count": 34,
   "id": "94695928-e23f-4856-8351-fbf5a5ed5e77",
   "metadata": {},
   "outputs": [],
   "source": [
    "p = Person()"
   ]
  },
  {
   "cell_type": "code",
   "execution_count": 37,
   "id": "b5fe2846-ee1e-4156-899f-b32ff4043a26",
   "metadata": {},
   "outputs": [
    {
     "data": {
      "text/plain": [
       "'Person sleeps'"
      ]
     },
     "execution_count": 37,
     "metadata": {},
     "output_type": "execute_result"
    }
   ],
   "source": [
    "p.sleep()"
   ]
  },
  {
   "cell_type": "code",
   "execution_count": 38,
   "id": "323bcaec-28cd-419e-9223-d98f813af772",
   "metadata": {},
   "outputs": [],
   "source": [
    "class Student(Person):\n",
    "    def work(self):\n",
    "        return f\"{self.__class__.__name__} works\""
   ]
  },
  {
   "cell_type": "code",
   "execution_count": 39,
   "id": "0cf46a1b-c1e4-450f-8e92-dadd84aab3f6",
   "metadata": {},
   "outputs": [],
   "source": [
    "s = Student()"
   ]
  },
  {
   "cell_type": "code",
   "execution_count": 43,
   "id": "8b76776b-2fbc-4b2a-894f-9fe0193e01af",
   "metadata": {},
   "outputs": [
    {
     "data": {
      "text/plain": [
       "'Student sleeps'"
      ]
     },
     "execution_count": 43,
     "metadata": {},
     "output_type": "execute_result"
    }
   ],
   "source": [
    "s.sleep()"
   ]
  },
  {
   "cell_type": "code",
   "execution_count": null,
   "id": "6fd21dcc-33df-45a9-950d-17ecc395e489",
   "metadata": {},
   "outputs": [],
   "source": []
  }
 ],
 "metadata": {
  "kernelspec": {
   "display_name": "py311",
   "language": "python",
   "name": "pytorch"
  },
  "language_info": {
   "codemirror_mode": {
    "name": "ipython",
    "version": 3
   },
   "file_extension": ".py",
   "mimetype": "text/x-python",
   "name": "python",
   "nbconvert_exporter": "python",
   "pygments_lexer": "ipython3",
   "version": "3.11.4"
  }
 },
 "nbformat": 4,
 "nbformat_minor": 5
}
