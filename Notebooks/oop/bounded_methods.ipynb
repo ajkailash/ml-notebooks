{
 "cells": [
  {
   "cell_type": "markdown",
   "id": "dad13fec-5478-4529-b148-bfcb067d4119",
   "metadata": {},
   "source": [
    "## Bound methods"
   ]
  },
  {
   "cell_type": "markdown",
   "id": "640a18b6-88e4-4917-96e7-888ede163ffc",
   "metadata": {},
   "source": [
    "- I've always wondered, why we add self as the first argument for any function defined within a class\n",
    "- Finally found out why :)\n",
    "- Bound methods. Which pass the class instantiation or the objects as the first argument"
   ]
  },
  {
   "cell_type": "code",
   "execution_count": 19,
   "id": "10d91ee1-2fd0-4f31-ba90-2fa02c80de53",
   "metadata": {},
   "outputs": [],
   "source": [
    "class Person:\n",
    "    def say_hello():\n",
    "        print(f\"Hello world\")"
   ]
  },
  {
   "cell_type": "code",
   "execution_count": 20,
   "id": "6799e0f9-dc83-44de-b0d7-fc512e8e24f0",
   "metadata": {},
   "outputs": [],
   "source": [
    "# create an instance of the class\n",
    "p = Person()"
   ]
  },
  {
   "cell_type": "code",
   "execution_count": 21,
   "id": "04083295-40bb-4fbc-b968-47c275bf7ae5",
   "metadata": {},
   "outputs": [
    {
     "data": {
      "text/plain": [
       "__main__.Person"
      ]
     },
     "execution_count": 21,
     "metadata": {},
     "output_type": "execute_result"
    }
   ],
   "source": [
    "type(p)"
   ]
  },
  {
   "cell_type": "code",
   "execution_count": 22,
   "id": "f5967225-f2d0-4294-88ec-a01a8a582a93",
   "metadata": {},
   "outputs": [
    {
     "data": {
      "text/plain": [
       "'0x10775c110'"
      ]
     },
     "execution_count": 22,
     "metadata": {},
     "output_type": "execute_result"
    }
   ],
   "source": [
    "# object address space\n",
    "hex(id(p))"
   ]
  },
  {
   "cell_type": "code",
   "execution_count": 23,
   "id": "8a11c91b-0c17-4283-8ee2-560eca38e66b",
   "metadata": {},
   "outputs": [
    {
     "ename": "TypeError",
     "evalue": "Person.say_hello() takes 0 positional arguments but 1 was given",
     "output_type": "error",
     "traceback": [
      "\u001b[0;31m---------------------------------------------------------------------------\u001b[0m",
      "\u001b[0;31mTypeError\u001b[0m                                 Traceback (most recent call last)",
      "Cell \u001b[0;32mIn[23], line 2\u001b[0m\n\u001b[1;32m      1\u001b[0m \u001b[38;5;66;03m# Now if you call the say_hello method using the object dot notation. It returns an exception saying one-positional arg was given. Eventhough nothing was passed.\u001b[39;00m\n\u001b[0;32m----> 2\u001b[0m p\u001b[38;5;241m.\u001b[39msay_hello()\n",
      "\u001b[0;31mTypeError\u001b[0m: Person.say_hello() takes 0 positional arguments but 1 was given"
     ]
    }
   ],
   "source": [
    "# Now if you call the say_hello method using the object dot notation. It returns an exception saying one-positional arg was given. Eventhough nothing was passed.\n",
    "p.say_hello()"
   ]
  },
  {
   "cell_type": "code",
   "execution_count": 24,
   "id": "94a15347-ea41-4dc9-b96f-c0a4ade1e243",
   "metadata": {},
   "outputs": [
    {
     "data": {
      "text/plain": [
       "<bound method Person.say_hello of <__main__.Person object at 0x10775c110>>"
      ]
     },
     "execution_count": 24,
     "metadata": {},
     "output_type": "execute_result"
    }
   ],
   "source": [
    "#lets check what say_hello is?\n",
    "# it returns back as a bound method\n",
    "# A bound method is a method, that has an object associated with it\n",
    "p.say_hello"
   ]
  },
  {
   "cell_type": "code",
   "execution_count": 25,
   "id": "cb260c93-846c-4be3-9005-b7a2f04123e1",
   "metadata": {},
   "outputs": [],
   "source": [
    "#so how to fix this\n",
    "#add self as the first arg of the function\n",
    "class Employee:\n",
    "    def print_args(self): \n",
    "        print(f\"Args passed: {self}\")\n",
    "    def greet(self):\n",
    "        print(\"Good morning\")"
   ]
  },
  {
   "cell_type": "code",
   "execution_count": 26,
   "id": "be9f4040-70c9-490e-aea2-18c7e0a24d84",
   "metadata": {},
   "outputs": [],
   "source": [
    "e = Employee()"
   ]
  },
  {
   "cell_type": "code",
   "execution_count": null,
   "id": "e032e144-8a07-477d-9a52-850b03797cd4",
   "metadata": {},
   "outputs": [],
   "source": [
    "print()"
   ]
  },
  {
   "cell_type": "code",
   "execution_count": 27,
   "id": "0de26392-b2bf-4d92-b00e-eb9483e63bcf",
   "metadata": {},
   "outputs": [
    {
     "name": "stdout",
     "output_type": "stream",
     "text": [
      "Good morning\n"
     ]
    }
   ],
   "source": [
    "e.greet()"
   ]
  },
  {
   "cell_type": "code",
   "execution_count": 28,
   "id": "1f693e0a-4a7d-4ca2-a67e-7fd111cbe71c",
   "metadata": {},
   "outputs": [
    {
     "name": "stdout",
     "output_type": "stream",
     "text": [
      "Args passed: <__main__.Employee object at 0x1077e6310>\n"
     ]
    }
   ],
   "source": [
    "e.print_args()"
   ]
  },
  {
   "cell_type": "code",
   "execution_count": null,
   "id": "fda90fe9-ecda-4170-aff6-349c4b34f2b1",
   "metadata": {},
   "outputs": [],
   "source": []
  }
 ],
 "metadata": {
  "kernelspec": {
   "display_name": "py311",
   "language": "python",
   "name": "pytorch"
  },
  "language_info": {
   "codemirror_mode": {
    "name": "ipython",
    "version": 3
   },
   "file_extension": ".py",
   "mimetype": "text/x-python",
   "name": "python",
   "nbconvert_exporter": "python",
   "pygments_lexer": "ipython3",
   "version": "3.11.4"
  }
 },
 "nbformat": 4,
 "nbformat_minor": 5
}
