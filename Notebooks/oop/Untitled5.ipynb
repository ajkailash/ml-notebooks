{
 "cells": [
  {
   "cell_type": "code",
   "execution_count": 8,
   "id": "0ff6f522-30d0-4e13-a311-81ef88ce27ec",
   "metadata": {},
   "outputs": [],
   "source": [
    "class Account:\n",
    "    interest_rate = 4\n",
    "    def __init__(self, account_number, balance):\n",
    "        self.account_number = account_number\n",
    "        self.balance = balance\n",
    "        self.account_type = \"Generic account\"\n",
    "\n",
    "    def __calcinterest__(self):\n",
    "        return f\"__calcinterest__ called with rate {self.interest_rate}\""
   ]
  },
  {
   "cell_type": "code",
   "execution_count": 11,
   "id": "449b375f-61ec-4111-9510-b80b3d7cc30c",
   "metadata": {},
   "outputs": [],
   "source": [
    "class Savings(Account):\n",
    "    interest_rate = 6\n",
    "    def __init__(self, account_number, balance):\n",
    "        self.account_number = account_number\n",
    "        self.balance = balance\n",
    "        self.account_type = \"Savings\""
   ]
  },
  {
   "cell_type": "code",
   "execution_count": 12,
   "id": "6f1f5071-f335-4098-b3b5-8feecc1abd36",
   "metadata": {},
   "outputs": [],
   "source": [
    "s = Savings(1, 10000)"
   ]
  },
  {
   "cell_type": "code",
   "execution_count": 15,
   "id": "8883af5a-7059-4ed0-9be8-00633619fd16",
   "metadata": {},
   "outputs": [],
   "source": [
    "a = Account(2, 5000)"
   ]
  },
  {
   "cell_type": "code",
   "execution_count": 14,
   "id": "023cb6b9-b673-48d1-8ec7-a835a6fc9940",
   "metadata": {},
   "outputs": [
    {
     "data": {
      "text/plain": [
       "'__calcinterest__ called with rate 6'"
      ]
     },
     "execution_count": 14,
     "metadata": {},
     "output_type": "execute_result"
    }
   ],
   "source": [
    "s.__calcinterest__()"
   ]
  },
  {
   "cell_type": "code",
   "execution_count": 16,
   "id": "cf4ba35a-bca1-4f81-9030-c04d8565a3ea",
   "metadata": {},
   "outputs": [
    {
     "data": {
      "text/plain": [
       "'__calcinterest__ called with rate 4'"
      ]
     },
     "execution_count": 16,
     "metadata": {},
     "output_type": "execute_result"
    }
   ],
   "source": [
    "a.__calcinterest__()"
   ]
  },
  {
   "cell_type": "code",
   "execution_count": 26,
   "id": "67b44823-d3e3-4dfb-809b-09caaedcdb82",
   "metadata": {},
   "outputs": [
    {
     "data": {
      "text/plain": [
       "('2', '3', '4', '5', '6', '7', '8', '9', 'J', 'Q', 'K', 'A', '10')"
      ]
     },
     "execution_count": 26,
     "metadata": {},
     "output_type": "execute_result"
    }
   ],
   "source": [
    "tuple(\"23456789JQKA\") + (\"10\", )"
   ]
  },
  {
   "cell_type": "code",
   "execution_count": null,
   "id": "4179372d-61e7-4797-9132-ecebcd2cc1ac",
   "metadata": {},
   "outputs": [],
   "source": []
  }
 ],
 "metadata": {
  "kernelspec": {
   "display_name": "Python 3 (ipykernel)",
   "language": "python",
   "name": "python3"
  },
  "language_info": {
   "codemirror_mode": {
    "name": "ipython",
    "version": 3
   },
   "file_extension": ".py",
   "mimetype": "text/x-python",
   "name": "python",
   "nbconvert_exporter": "python",
   "pygments_lexer": "ipython3",
   "version": "3.11.4"
  }
 },
 "nbformat": 4,
 "nbformat_minor": 5
}
