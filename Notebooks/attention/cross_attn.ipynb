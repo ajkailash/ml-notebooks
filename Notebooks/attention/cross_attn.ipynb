{
 "cells": [
  {
   "cell_type": "markdown",
   "id": "bcb3a782-dea0-46e7-85ae-c8d340268768",
   "metadata": {},
   "source": [
    "### Cross Attention"
   ]
  },
  {
   "cell_type": "code",
   "execution_count": 2,
   "id": "0ba0dd30-6973-4fe3-b5a5-0fe998fbc9bd",
   "metadata": {},
   "outputs": [],
   "source": [
    "import torch\n",
    "import torch.nn as nn"
   ]
  },
  {
   "cell_type": "markdown",
   "id": "0c1cf560-24bb-417c-b991-a9f81b574c58",
   "metadata": {},
   "source": [
    "In self attention, we compute work with the same sequence. In cross attention, we combine two different sequences.\n",
    "- Query matrix is computed from the one sequence (Decoder)\n",
    "- Key and value matrix from one sequence (typically comes from the encoder)\n",
    "- Sequence lenght for both sequece cab ve generative"
   ]
  },
  {
   "cell_type": "code",
   "execution_count": 12,
   "id": "96b75a23-eba9-4bd5-b9fb-dc62562d6a6f",
   "metadata": {},
   "outputs": [],
   "source": [
    "class CrossAttention(nn.Module):\n",
    "    def __init__(self, d_in, d_out_kq, d_out_v):\n",
    "        super().__init__()\n",
    "        self.d_out_kq = d_out_kq\n",
    "        self.w_query = nn.Parameter(torch.randn(d_in, d_out_kq))\n",
    "        self.w_key = nn.Parameter(torch.randn(d_in, d_out_kq))\n",
    "        self.w_value = nn.Parameter(torch.randn(d_in, d_out_v))\n",
    "        \n",
    "    def forward(self, x1, x2):\n",
    "        queries = x1 @ self.w_query\n",
    "\n",
    "        keys = x2 @ self.w_key \n",
    "\n",
    "        values = x2 @ self.w_value\n",
    "\n",
    "        atten_scores = queries @ keys.T\n",
    "\n",
    "        print(atten_scores.shape)\n",
    "\n",
    "        atten_weights = torch.softmax((atten_scores / self.d_out_kq ** 0.5), dim=-1)\n",
    "\n",
    "        return atten_weights @ values"
   ]
  },
  {
   "cell_type": "code",
   "execution_count": 13,
   "id": "11da46b8-07ab-437a-b9a3-dce56507e637",
   "metadata": {},
   "outputs": [],
   "source": [
    "x1 = torch.randn(6, 3)\n",
    "x2 = torch.randn(8, 3)"
   ]
  },
  {
   "cell_type": "code",
   "execution_count": 14,
   "id": "c8968aff-c42a-449e-97ed-308ac6b8ae14",
   "metadata": {},
   "outputs": [],
   "source": [
    "cross_attn = CrossAttention(3, 2, 4)"
   ]
  },
  {
   "cell_type": "code",
   "execution_count": 15,
   "id": "fa3afa62-4729-421a-b85f-841cdeacda80",
   "metadata": {},
   "outputs": [
    {
     "name": "stdout",
     "output_type": "stream",
     "text": [
      "torch.Size([6, 8])\n"
     ]
    }
   ],
   "source": [
    "out = cross_attn(x1, x2)"
   ]
  },
  {
   "cell_type": "code",
   "execution_count": 11,
   "id": "9b018361-c47c-4bc9-8502-f50596a34d34",
   "metadata": {},
   "outputs": [
    {
     "data": {
      "text/plain": [
       "torch.Size([6, 4])"
      ]
     },
     "execution_count": 11,
     "metadata": {},
     "output_type": "execute_result"
    }
   ],
   "source": [
    "out.shape"
   ]
  },
  {
   "cell_type": "code",
   "execution_count": null,
   "id": "9070b59a-a51d-4a98-a6ce-e0830c4f9c14",
   "metadata": {},
   "outputs": [],
   "source": []
  }
 ],
 "metadata": {
  "kernelspec": {
   "display_name": "py311",
   "language": "python",
   "name": "pytorch"
  },
  "language_info": {
   "codemirror_mode": {
    "name": "ipython",
    "version": 3
   },
   "file_extension": ".py",
   "mimetype": "text/x-python",
   "name": "python",
   "nbconvert_exporter": "python",
   "pygments_lexer": "ipython3",
   "version": "3.11.4"
  }
 },
 "nbformat": 4,
 "nbformat_minor": 5
}
