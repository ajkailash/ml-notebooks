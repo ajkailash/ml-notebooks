{
 "cells": [
  {
   "cell_type": "markdown",
   "id": "d38c5bea-1069-47ab-9465-34061ea3bd23",
   "metadata": {},
   "source": [
    "### Causal self attention or Masked self attention"
   ]
  },
  {
   "cell_type": "code",
   "execution_count": 1,
   "id": "f62e60f4-70d1-40d4-961e-bf1135fd3db3",
   "metadata": {},
   "outputs": [],
   "source": [
    "import torch\n",
    "import torch.nn as nn"
   ]
  },
  {
   "cell_type": "code",
   "execution_count": 2,
   "id": "1208e1f4-60db-445e-b046-c230cc766d20",
   "metadata": {},
   "outputs": [
    {
     "data": {
      "text/plain": [
       "<torch._C.Generator at 0x11204fd70>"
      ]
     },
     "execution_count": 2,
     "metadata": {},
     "output_type": "execute_result"
    }
   ],
   "source": [
    "torch.manual_seed(123)"
   ]
  },
  {
   "cell_type": "code",
   "execution_count": 3,
   "id": "b1cb11e7-ea71-497a-8109-c8cd339ef8b0",
   "metadata": {},
   "outputs": [],
   "source": [
    "d_in, d_out_kq, d_out_v = 3, 2, 4"
   ]
  },
  {
   "cell_type": "code",
   "execution_count": 4,
   "id": "c57f42ff-c15e-4240-8f6b-fca695ad7e75",
   "metadata": {},
   "outputs": [],
   "source": [
    "w_query = nn.Parameter(torch.randn(d_in, d_out_kq))\n",
    "w_key = nn.Parameter(torch.randn(d_in, d_out_kq))\n",
    "w_value = nn.Parameter(torch.randn(d_in, d_out_v))"
   ]
  },
  {
   "cell_type": "code",
   "execution_count": 5,
   "id": "ae8f5648-22f8-4b90-aa0a-7815482e9655",
   "metadata": {},
   "outputs": [],
   "source": [
    "x = torch.randn((6, d_in))"
   ]
  },
  {
   "cell_type": "code",
   "execution_count": 6,
   "id": "5b3e6516-22f0-48f4-8af7-34c5968ee274",
   "metadata": {},
   "outputs": [
    {
     "data": {
      "text/plain": [
       "torch.Size([6, 3])"
      ]
     },
     "execution_count": 6,
     "metadata": {},
     "output_type": "execute_result"
    }
   ],
   "source": [
    "x.shape"
   ]
  },
  {
   "cell_type": "code",
   "execution_count": 7,
   "id": "55bfd6bd-1074-4bed-b642-24d4e5ca590b",
   "metadata": {},
   "outputs": [],
   "source": [
    "queries = x @ w_query\n",
    "keys = x @ w_key\n",
    "values = x @ w_value"
   ]
  },
  {
   "cell_type": "code",
   "execution_count": 8,
   "id": "d9c2fe78-d8c8-42c8-b484-e85816d2f920",
   "metadata": {},
   "outputs": [],
   "source": [
    "#Masking procedure\n",
    "# Calculate attention scores (unnormalized)\n",
    "# Apply softmax to normalize the attention scores matrix to a probability distribution\n",
    "# Creat a lower triangular mask (Mask with 0's above diagonal)\n",
    "# Mask attention scores\n",
    "# Normalize the rows again"
   ]
  },
  {
   "cell_type": "code",
   "execution_count": 9,
   "id": "db7a1a39-cd17-443c-9d39-f46c57070681",
   "metadata": {},
   "outputs": [],
   "source": [
    "attn_scores = queries @ keys.T"
   ]
  },
  {
   "cell_type": "code",
   "execution_count": 10,
   "id": "1254f50d-24bc-4f6b-b750-678e8f805e64",
   "metadata": {},
   "outputs": [],
   "source": [
    "attn_weights = torch.softmax((attn_scores / d_out_kq ** 0.5), dim=-1)"
   ]
  },
  {
   "cell_type": "code",
   "execution_count": 11,
   "id": "9a79a2fc-880b-4d3e-9f8c-279d590b8c1c",
   "metadata": {},
   "outputs": [],
   "source": [
    "#mask out future tokens by applying a mask to the attention weight matrix"
   ]
  },
  {
   "cell_type": "code",
   "execution_count": 12,
   "id": "3380ebf4-e0e0-4c4e-8444-cedd8ef3c205",
   "metadata": {},
   "outputs": [],
   "source": [
    "context_size = attn_weights.shape[0]"
   ]
  },
  {
   "cell_type": "code",
   "execution_count": 13,
   "id": "f7c34a2f-3d3e-4e7e-b921-83ff4ee950fc",
   "metadata": {},
   "outputs": [],
   "source": [
    "mask = torch.tril(torch.ones(context_size, context_size))"
   ]
  },
  {
   "cell_type": "code",
   "execution_count": 14,
   "id": "5c0460ed-42b7-4ee8-8a36-32cb93425eb2",
   "metadata": {},
   "outputs": [
    {
     "data": {
      "text/plain": [
       "tensor([[1., 0., 0., 0., 0., 0.],\n",
       "        [1., 1., 0., 0., 0., 0.],\n",
       "        [1., 1., 1., 0., 0., 0.],\n",
       "        [1., 1., 1., 1., 0., 0.],\n",
       "        [1., 1., 1., 1., 1., 0.],\n",
       "        [1., 1., 1., 1., 1., 1.]])"
      ]
     },
     "execution_count": 14,
     "metadata": {},
     "output_type": "execute_result"
    }
   ],
   "source": [
    "mask"
   ]
  },
  {
   "cell_type": "code",
   "execution_count": 17,
   "id": "f3208ce6-6fbf-4a73-9118-741532c6e0b1",
   "metadata": {},
   "outputs": [
    {
     "data": {
      "text/plain": [
       "tensor([[0.2843, 0.1406, 0.0708, 0.1859, 0.2022, 0.1162],\n",
       "        [0.4084, 0.0497, 0.0132, 0.2621, 0.1949, 0.0716],\n",
       "        [0.2651, 0.1697, 0.0899, 0.1612, 0.1978, 0.1162],\n",
       "        [0.0861, 0.1763, 0.3177, 0.1171, 0.1168, 0.1859],\n",
       "        [0.2457, 0.1271, 0.0828, 0.2106, 0.1939, 0.1400],\n",
       "        [0.1144, 0.1889, 0.2594, 0.1273, 0.1365, 0.1735]],\n",
       "       grad_fn=<SoftmaxBackward0>)"
      ]
     },
     "execution_count": 17,
     "metadata": {},
     "output_type": "execute_result"
    }
   ],
   "source": [
    "attn_weights"
   ]
  },
  {
   "cell_type": "code",
   "execution_count": 23,
   "id": "d9147fe3-8cbc-4ff0-a2e4-6931cae12f8e",
   "metadata": {},
   "outputs": [],
   "source": [
    "masked_attn_weights = attn_weights * mask"
   ]
  },
  {
   "cell_type": "code",
   "execution_count": 27,
   "id": "3cc1cfc4-e54e-40bf-ae7d-5b4a07ddcafb",
   "metadata": {},
   "outputs": [],
   "source": [
    "norm_attn_w = masked_attn_weights / torch.sum(masked_attn_weights, dim=-1, keepdim=True)"
   ]
  },
  {
   "cell_type": "code",
   "execution_count": 30,
   "id": "4347a12d-2a8c-4951-87ff-86a5c58f6bc2",
   "metadata": {},
   "outputs": [
    {
     "data": {
      "text/plain": [
       "tensor([[1.0000, 0.0000, 0.0000, 0.0000, 0.0000, 0.0000],\n",
       "        [0.8914, 0.1086, 0.0000, 0.0000, 0.0000, 0.0000],\n",
       "        [0.5052, 0.3234, 0.1713, 0.0000, 0.0000, 0.0000],\n",
       "        [0.1235, 0.2529, 0.4556, 0.1680, 0.0000, 0.0000],\n",
       "        [0.2857, 0.1478, 0.0963, 0.2448, 0.2255, 0.0000],\n",
       "        [0.1144, 0.1889, 0.2594, 0.1273, 0.1365, 0.1735]],\n",
       "       grad_fn=<DivBackward0>)"
      ]
     },
     "execution_count": 30,
     "metadata": {},
     "output_type": "execute_result"
    }
   ],
   "source": [
    "norm_attn_w"
   ]
  },
  {
   "cell_type": "code",
   "execution_count": null,
   "id": "4da47e84-4357-41d2-9aaa-efd2a19d5687",
   "metadata": {},
   "outputs": [],
   "source": [
    "# Alternative Masking procedure\n",
    "# Calculate attention scores (unnormalized)\n",
    "# Creat a upper triangular mask (Mask with 0's below diagonal and 1's above diagonal)\n",
    "# Use masked fill to fill -torch.inf where mask is True\n",
    "# Apply softmax to normalize the attention scores matrix to a probability distribution"
   ]
  },
  {
   "cell_type": "code",
   "execution_count": 44,
   "id": "fe2061d9-079f-4e10-8b66-d036e742074c",
   "metadata": {},
   "outputs": [],
   "source": [
    "new_mask = torch.triu(torch.ones(context_size, context_size), diagonal=1)"
   ]
  },
  {
   "cell_type": "code",
   "execution_count": 45,
   "id": "8ba716c9-e7ef-47f7-bad1-7d0bbc76c442",
   "metadata": {},
   "outputs": [
    {
     "data": {
      "text/plain": [
       "tensor([[0., 1., 1., 1., 1., 1.],\n",
       "        [0., 0., 1., 1., 1., 1.],\n",
       "        [0., 0., 0., 1., 1., 1.],\n",
       "        [0., 0., 0., 0., 1., 1.],\n",
       "        [0., 0., 0., 0., 0., 1.],\n",
       "        [0., 0., 0., 0., 0., 0.]])"
      ]
     },
     "execution_count": 45,
     "metadata": {},
     "output_type": "execute_result"
    }
   ],
   "source": [
    "new_mask"
   ]
  },
  {
   "cell_type": "code",
   "execution_count": 47,
   "id": "62686a74-4e14-44b4-8b79-8fa8f3e2fb11",
   "metadata": {},
   "outputs": [],
   "source": [
    "masked = attn_scores.masked_fill(new_mask.bool(), -torch.inf)"
   ]
  },
  {
   "cell_type": "code",
   "execution_count": 49,
   "id": "b1cc5e7b-6567-40c8-9332-ae9c9c82bb5d",
   "metadata": {},
   "outputs": [
    {
     "data": {
      "text/plain": [
       "tensor([[1.0000, 0.0000, 0.0000, 0.0000, 0.0000, 0.0000],\n",
       "        [0.8914, 0.1086, 0.0000, 0.0000, 0.0000, 0.0000],\n",
       "        [0.5052, 0.3234, 0.1713, 0.0000, 0.0000, 0.0000],\n",
       "        [0.1235, 0.2529, 0.4556, 0.1680, 0.0000, 0.0000],\n",
       "        [0.2857, 0.1478, 0.0963, 0.2448, 0.2255, 0.0000],\n",
       "        [0.1144, 0.1889, 0.2594, 0.1273, 0.1365, 0.1735]],\n",
       "       grad_fn=<SoftmaxBackward0>)"
      ]
     },
     "execution_count": 49,
     "metadata": {},
     "output_type": "execute_result"
    }
   ],
   "source": [
    "torch.softmax((masked/ d_out_kq**0.5), dim=-1)"
   ]
  },
  {
   "cell_type": "code",
   "execution_count": null,
   "id": "f7f09105-1cf9-42ee-8152-0d9ae0294771",
   "metadata": {},
   "outputs": [],
   "source": []
  }
 ],
 "metadata": {
  "kernelspec": {
   "display_name": "py311",
   "language": "python",
   "name": "pytorch"
  },
  "language_info": {
   "codemirror_mode": {
    "name": "ipython",
    "version": 3
   },
   "file_extension": ".py",
   "mimetype": "text/x-python",
   "name": "python",
   "nbconvert_exporter": "python",
   "pygments_lexer": "ipython3",
   "version": "3.11.4"
  }
 },
 "nbformat": 4,
 "nbformat_minor": 5
}
