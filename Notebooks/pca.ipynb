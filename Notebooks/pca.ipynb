{
 "cells": [
  {
   "cell_type": "markdown",
   "id": "2a61051e-169c-42c6-a669-b43ca4ee32c7",
   "metadata": {},
   "source": [
    "## Principal Component Analysis"
   ]
  },
  {
   "cell_type": "markdown",
   "id": "78f400f0-3ffa-44cb-a850-885a2d145441",
   "metadata": {},
   "source": [
    "### What is PCA\n",
    "- PCA is a dimensionality reduction technique.\n",
    "- PCA doesn't remove features/dimensions. PCA combines the variables to new features. These features are called principal components.\n",
    "- PCA transforms the data to a new coordinate system such that greatest variance lie on the first coordinate (called the first principal component)\n",
    "- Variance equals information. More variance -> More information.\n",
    "- Reducing dimensions with PCA can distort the pairwise euclidean distance between the points."
   ]
  },
  {
   "cell_type": "markdown",
   "id": "bbaef50d-b12f-4704-8f49-bffa980318bb",
   "metadata": {},
   "source": [
    "### Implementing PCA with Python"
   ]
  },
  {
   "cell_type": "code",
   "execution_count": 1,
   "id": "a08185e5-5edb-4374-8046-ccbdde088149",
   "metadata": {},
   "outputs": [],
   "source": [
    "import numpy as np\n",
    "import pandas as pd\n",
    "from sklearn.datasets import make_blobs\n",
    "from sklearn.preprocessing import StandardScaler\n",
    "from sklearn.decomposition import PCA\n",
    "import matplotlib.pyplot as plt\n",
    "import seaborn as sns"
   ]
  },
  {
   "cell_type": "code",
   "execution_count": 2,
   "id": "b3cfd9ec-5c04-4e2f-b949-e1a54cd83578",
   "metadata": {},
   "outputs": [],
   "source": [
    "#Generate sample dataset\n",
    "x, y = make_blobs(n_samples=1000, n_features=3, centers=3, random_state=0, cluster_std=[1, 2, 3], center_box=(10.0, 65))"
   ]
  },
  {
   "cell_type": "code",
   "execution_count": 3,
   "id": "911a76df-66b4-478b-9018-385a3c152778",
   "metadata": {},
   "outputs": [],
   "source": [
    "#standardize the features\n",
    "scaler = StandardScaler()\n",
    "x = scaler.fit_transform(x)"
   ]
  },
  {
   "cell_type": "code",
   "execution_count": 4,
   "id": "83435a86-559d-45ab-871e-e7f7c36aefbc",
   "metadata": {},
   "outputs": [],
   "source": [
    "#create a dataframe with features x and label y\n",
    "col_names = [f\"x{idx}\" for idx in range(x.shape[1])]\n",
    "df = pd.DataFrame(x, columns=col_names)\n",
    "df[\"cluster_label\"] = y"
   ]
  },
  {
   "cell_type": "code",
   "execution_count": 5,
   "id": "951692d4-f409-451a-ad2b-4361a258b865",
   "metadata": {},
   "outputs": [
    {
     "data": {
      "text/html": [
       "<div>\n",
       "<style scoped>\n",
       "    .dataframe tbody tr th:only-of-type {\n",
       "        vertical-align: middle;\n",
       "    }\n",
       "\n",
       "    .dataframe tbody tr th {\n",
       "        vertical-align: top;\n",
       "    }\n",
       "\n",
       "    .dataframe thead th {\n",
       "        text-align: right;\n",
       "    }\n",
       "</style>\n",
       "<table border=\"1\" class=\"dataframe\">\n",
       "  <thead>\n",
       "    <tr style=\"text-align: right;\">\n",
       "      <th></th>\n",
       "      <th>x0</th>\n",
       "      <th>x1</th>\n",
       "      <th>x2</th>\n",
       "      <th>cluster_label</th>\n",
       "    </tr>\n",
       "  </thead>\n",
       "  <tbody>\n",
       "    <tr>\n",
       "      <th>0</th>\n",
       "      <td>-0.366353</td>\n",
       "      <td>1.022466</td>\n",
       "      <td>1.166899</td>\n",
       "      <td>2</td>\n",
       "    </tr>\n",
       "    <tr>\n",
       "      <th>1</th>\n",
       "      <td>-1.179214</td>\n",
       "      <td>1.318905</td>\n",
       "      <td>1.047407</td>\n",
       "      <td>2</td>\n",
       "    </tr>\n",
       "    <tr>\n",
       "      <th>2</th>\n",
       "      <td>0.346441</td>\n",
       "      <td>-1.360488</td>\n",
       "      <td>-0.417740</td>\n",
       "      <td>1</td>\n",
       "    </tr>\n",
       "    <tr>\n",
       "      <th>3</th>\n",
       "      <td>0.507115</td>\n",
       "      <td>0.055279</td>\n",
       "      <td>-0.890964</td>\n",
       "      <td>0</td>\n",
       "    </tr>\n",
       "    <tr>\n",
       "      <th>4</th>\n",
       "      <td>-0.185192</td>\n",
       "      <td>0.937566</td>\n",
       "      <td>0.930304</td>\n",
       "      <td>2</td>\n",
       "    </tr>\n",
       "  </tbody>\n",
       "</table>\n",
       "</div>"
      ],
      "text/plain": [
       "         x0        x1        x2  cluster_label\n",
       "0 -0.366353  1.022466  1.166899              2\n",
       "1 -1.179214  1.318905  1.047407              2\n",
       "2  0.346441 -1.360488 -0.417740              1\n",
       "3  0.507115  0.055279 -0.890964              0\n",
       "4 -0.185192  0.937566  0.930304              2"
      ]
     },
     "execution_count": 5,
     "metadata": {},
     "output_type": "execute_result"
    }
   ],
   "source": [
    "#Return the first five rows of the dataframe\n",
    "df.head()"
   ]
  },
  {
   "cell_type": "code",
   "execution_count": 6,
   "id": "b4191ce8-5e10-45c0-b8c3-e63a6ffb7116",
   "metadata": {},
   "outputs": [
    {
     "data": {
      "text/html": [
       "<div>\n",
       "<style scoped>\n",
       "    .dataframe tbody tr th:only-of-type {\n",
       "        vertical-align: middle;\n",
       "    }\n",
       "\n",
       "    .dataframe tbody tr th {\n",
       "        vertical-align: top;\n",
       "    }\n",
       "\n",
       "    .dataframe thead th {\n",
       "        text-align: right;\n",
       "    }\n",
       "</style>\n",
       "<table border=\"1\" class=\"dataframe\">\n",
       "  <thead>\n",
       "    <tr style=\"text-align: right;\">\n",
       "      <th></th>\n",
       "      <th>x0</th>\n",
       "      <th>x1</th>\n",
       "      <th>x2</th>\n",
       "    </tr>\n",
       "  </thead>\n",
       "  <tbody>\n",
       "    <tr>\n",
       "      <th>0</th>\n",
       "      <td>-0.366353</td>\n",
       "      <td>1.022466</td>\n",
       "      <td>1.166899</td>\n",
       "    </tr>\n",
       "    <tr>\n",
       "      <th>1</th>\n",
       "      <td>-1.179214</td>\n",
       "      <td>1.318905</td>\n",
       "      <td>1.047407</td>\n",
       "    </tr>\n",
       "    <tr>\n",
       "      <th>2</th>\n",
       "      <td>0.346441</td>\n",
       "      <td>-1.360488</td>\n",
       "      <td>-0.417740</td>\n",
       "    </tr>\n",
       "    <tr>\n",
       "      <th>3</th>\n",
       "      <td>0.507115</td>\n",
       "      <td>0.055279</td>\n",
       "      <td>-0.890964</td>\n",
       "    </tr>\n",
       "    <tr>\n",
       "      <th>4</th>\n",
       "      <td>-0.185192</td>\n",
       "      <td>0.937566</td>\n",
       "      <td>0.930304</td>\n",
       "    </tr>\n",
       "    <tr>\n",
       "      <th>...</th>\n",
       "      <td>...</td>\n",
       "      <td>...</td>\n",
       "      <td>...</td>\n",
       "    </tr>\n",
       "    <tr>\n",
       "      <th>995</th>\n",
       "      <td>0.474014</td>\n",
       "      <td>0.190684</td>\n",
       "      <td>-0.943930</td>\n",
       "    </tr>\n",
       "    <tr>\n",
       "      <th>996</th>\n",
       "      <td>-1.272723</td>\n",
       "      <td>0.995603</td>\n",
       "      <td>1.102096</td>\n",
       "    </tr>\n",
       "    <tr>\n",
       "      <th>997</th>\n",
       "      <td>0.682884</td>\n",
       "      <td>0.165590</td>\n",
       "      <td>-0.640817</td>\n",
       "    </tr>\n",
       "    <tr>\n",
       "      <th>998</th>\n",
       "      <td>0.234362</td>\n",
       "      <td>0.022165</td>\n",
       "      <td>-0.866339</td>\n",
       "    </tr>\n",
       "    <tr>\n",
       "      <th>999</th>\n",
       "      <td>0.511228</td>\n",
       "      <td>0.351796</td>\n",
       "      <td>-0.747912</td>\n",
       "    </tr>\n",
       "  </tbody>\n",
       "</table>\n",
       "<p>1000 rows × 3 columns</p>\n",
       "</div>"
      ],
      "text/plain": [
       "           x0        x1        x2\n",
       "0   -0.366353  1.022466  1.166899\n",
       "1   -1.179214  1.318905  1.047407\n",
       "2    0.346441 -1.360488 -0.417740\n",
       "3    0.507115  0.055279 -0.890964\n",
       "4   -0.185192  0.937566  0.930304\n",
       "..        ...       ...       ...\n",
       "995  0.474014  0.190684 -0.943930\n",
       "996 -1.272723  0.995603  1.102096\n",
       "997  0.682884  0.165590 -0.640817\n",
       "998  0.234362  0.022165 -0.866339\n",
       "999  0.511228  0.351796 -0.747912\n",
       "\n",
       "[1000 rows x 3 columns]"
      ]
     },
     "execution_count": 6,
     "metadata": {},
     "output_type": "execute_result"
    }
   ],
   "source": [
    "df[col_names]"
   ]
  },
  {
   "cell_type": "code",
   "execution_count": 7,
   "id": "7aec4ebd-9746-4996-ad5e-567e6ac28c68",
   "metadata": {},
   "outputs": [],
   "source": [
    "pca = PCA()\n",
    "_ = pca.fit_transform(df[col_names])"
   ]
  },
  {
   "cell_type": "code",
   "execution_count": 8,
   "id": "acbf9434-8c01-4197-8cc8-8c21dba3cded",
   "metadata": {},
   "outputs": [],
   "source": [
    "pc_components = np.arange(pca.n_components_)+1"
   ]
  },
  {
   "cell_type": "markdown",
   "id": "d0d2d9e1-511c-438f-be05-4ab1aa24bb22",
   "metadata": {},
   "source": [
    "### Plotting Explained Variance"
   ]
  },
  {
   "cell_type": "code",
   "execution_count": 9,
   "id": "e6d5720d-0db7-4863-ab9f-222cf4fc38b5",
   "metadata": {},
   "outputs": [
    {
     "data": {
      "text/plain": [
       "Text(0.5, 1.0, 'Scree plot')"
      ]
     },
     "execution_count": 9,
     "metadata": {},
     "output_type": "execute_result"
    },
    {
     "data": {
      "image/png": "[encoded data removed]",
      "text/plain": [
       "<Figure size 1200x600 with 1 Axes>"
      ]
     },
     "metadata": {},
     "output_type": "display_data"
    }
   ],
   "source": [
    "fig, ax = plt.subplots(1, 1, figsize=(12, 6))\n",
    "ax.bar(x=pc_components, height=pca.explained_variance_ratio_, color=\"b\")\n",
    "ax.plot(pc_components, np.cumsum(pca.explained_variance_ratio_), color=\"black\", linestyle=\"-\", marker=\"o\")\n",
    "ax.set_xticks(pc_components)\n",
    "ax.set_xlabel(\"N-th principal component\")\n",
    "ax.set_ylabel(\"Variance Explained\")\n",
    "ax.set_title(\"Scree plot\")"
   ]
  },
  {
   "cell_type": "code",
   "execution_count": 10,
   "id": "5861878b-8c0f-4602-8537-6fcb80b42017",
   "metadata": {},
   "outputs": [
    {
     "data": {
      "text/plain": [
       "array([1, 2, 3])"
      ]
     },
     "execution_count": 10,
     "metadata": {},
     "output_type": "execute_result"
    }
   ],
   "source": [
    "pc_components"
   ]
  },
  {
   "cell_type": "code",
   "execution_count": 15,
   "id": "85581697-0937-4f37-be4a-ac310645a3b4",
   "metadata": {},
   "outputs": [
    {
     "data": {
      "image/png": "[encoded data removed]",
      "text/plain": [
       "<Figure size 640x480 with 2 Axes>"
      ]
     },
     "metadata": {},
     "output_type": "display_data"
    }
   ],
   "source": [
    "_ = sns.set(style='whitegrid', font_scale=1.2)\n",
    "_ = sns.heatmap(pca.components_ ** 2, \n",
    "                yticklabels=[\"PCA\"+str(x) for x in range(1,pca.n_components_+1)],\n",
    "                xticklabels=list(col_names),\n",
    "               annot=True)"
   ]
  },
  {
   "cell_type": "code",
   "execution_count": null,
   "id": "5900c5a7-34d1-42fd-bc1e-3739fa0acad2",
   "metadata": {},
   "outputs": [],
   "source": []
  }
 ],
 "metadata": {
  "kernelspec": {
   "display_name": "Python 3 (ipykernel)",
   "language": "python",
   "name": "python3"
  },
  "language_info": {
   "codemirror_mode": {
    "name": "ipython",
    "version": 3
   },
   "file_extension": ".py",
   "mimetype": "text/x-python",
   "name": "python",
   "nbconvert_exporter": "python",
   "pygments_lexer": "ipython3",
   "version": "3.10.13"
  }
 },
 "nbformat": 4,
 "nbformat_minor": 5
}
