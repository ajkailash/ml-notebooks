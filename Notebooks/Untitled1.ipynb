{
 "cells": [
  {
   "cell_type": "code",
   "execution_count": 1,
   "id": "66c3c326-5916-4e1d-8bb9-12a0ad6dd69e",
   "metadata": {},
   "outputs": [],
   "source": [
    "import random\n",
    "import matplotlib.pyplot as plt\n",
    "import numpy as np"
   ]
  },
  {
   "cell_type": "code",
   "execution_count": 2,
   "id": "dbb1a1ca-bfa3-4bfa-9642-64e0803b48bd",
   "metadata": {},
   "outputs": [],
   "source": [
    "x0 = [round(random.uniform(-1, 1),2) for i in range(100)]\n",
    "x1 = [round(2 * i + random.uniform(-1, 1), 2)for i in x0]"
   ]
  },
  {
   "cell_type": "code",
   "execution_count": 40,
   "id": "63ebe6d2-1aea-4005-ab27-e3b95a4d40e2",
   "metadata": {},
   "outputs": [
    {
     "data": {
      "text/plain": [
       "[0.29, -0.86, -0.31, -0.88, -0.84, 0.64, 0.85, 0.05, 0.34, 0.9]"
      ]
     },
     "execution_count": 40,
     "metadata": {},
     "output_type": "execute_result"
    }
   ],
   "source": [
    "x0[:10]"
   ]
  },
  {
   "cell_type": "code",
   "execution_count": 41,
   "id": "3a7e8859-2ac6-4220-a86c-7ff77397a015",
   "metadata": {},
   "outputs": [
    {
     "data": {
      "text/plain": [
       "[-0.3, -2.29, -0.0, -2.75, -2.23, 1.65, 1.45, -0.34, 1.66, 2.38]"
      ]
     },
     "execution_count": 41,
     "metadata": {},
     "output_type": "execute_result"
    }
   ],
   "source": [
    "x1[:10]"
   ]
  },
  {
   "cell_type": "code",
   "execution_count": 3,
   "id": "961d184b-0999-4276-a9d0-cade506a425f",
   "metadata": {},
   "outputs": [],
   "source": [
    "x = np.stack((x0, x1), axis=0)"
   ]
  },
  {
   "cell_type": "code",
   "execution_count": 4,
   "id": "8c950c9c-db51-4981-a44e-1eecdc383074",
   "metadata": {},
   "outputs": [],
   "source": [
    "covariance_matrix = np.cov(m=x)"
   ]
  },
  {
   "cell_type": "code",
   "execution_count": 6,
   "id": "6c942bae-85d6-4c2c-baa8-476f793e4c9b",
   "metadata": {},
   "outputs": [],
   "source": [
    "v_original = [np.array([[1,0.2]]), np.array([[-1,1.5]]), np.array([[1.5,-1.3]]), np.array([[1,1.4]])]"
   ]
  },
  {
   "cell_type": "code",
   "execution_count": 23,
   "id": "b1447d04-c3c7-46a1-b1c1-ec7358c1fe7e",
   "metadata": {},
   "outputs": [
    {
     "data": {
      "text/plain": [
       "(-2.5, 2.5)"
      ]
     },
     "execution_count": 23,
     "metadata": {},
     "output_type": "execute_result"
    },
    {
     "data": {
      "image/png": "[encoded data removed]",
      "text/plain": [
       "<Figure size 600x400 with 1 Axes>"
      ]
     },
     "metadata": {},
     "output_type": "display_data"
    }
   ],
   "source": [
    "fig, ax = plt.subplots(nrows=1, ncols=1, figsize=(6, 4))\n",
    "ax.scatter(x0, x1)\n",
    "for v in v_original:\n",
    "    v_transformed = v.dot(covariance_matrix)\n",
    "    origin = np.array([[0, 0], [0, 0]])\n",
    "    ax.quiver(*origin, v[:, 0], v[:, 1], color=[\"black\"], scale=4)\n",
    "    ax.quiver(*origin, v_transformed[:, 0], v_transformed[:, 1], color=['#C6A477'], scale=10)\n",
    "\n",
    "ax.set_xlim([-2.5, 2.5])\n",
    "ax.set_ylim([-2.5, 2.5])"
   ]
  },
  {
   "cell_type": "code",
   "execution_count": 25,
   "id": "7e9810c7-9773-4200-896e-d508716cf91c",
   "metadata": {},
   "outputs": [],
   "source": [
    "eigen_values, eigen_vectors = np.linalg.eig(covariance_matrix)"
   ]
  },
  {
   "cell_type": "code",
   "execution_count": 29,
   "id": "ecd0626e-589d-4eb5-b26c-6979c2dceae3",
   "metadata": {},
   "outputs": [
    {
     "data": {
      "text/plain": [
       "array([[-0.92736156, -0.37416647],\n",
       "       [ 0.37416647, -0.92736156]])"
      ]
     },
     "execution_count": 29,
     "metadata": {},
     "output_type": "execute_result"
    }
   ],
   "source": [
    "eigen_vectors"
   ]
  },
  {
   "cell_type": "code",
   "execution_count": 34,
   "id": "7f97075f-00ac-456f-a1f4-541914c33d82",
   "metadata": {},
   "outputs": [],
   "source": [
    "idx = eigen_values.argsort()[::-1]"
   ]
  },
  {
   "cell_type": "code",
   "execution_count": 35,
   "id": "6dbbe1bd-6295-45ef-a361-d03d7731983c",
   "metadata": {},
   "outputs": [
    {
     "data": {
      "text/plain": [
       "array([[-0.37416647, -0.92736156],\n",
       "       [-0.92736156,  0.37416647]])"
      ]
     },
     "execution_count": 35,
     "metadata": {},
     "output_type": "execute_result"
    }
   ],
   "source": [
    "eigen_vectors[:, idx]"
   ]
  },
  {
   "cell_type": "code",
   "execution_count": 39,
   "id": "ce0c7d58-5d2d-4cc6-b404-fc1d80ba4d00",
   "metadata": {},
   "outputs": [
    {
     "data": {
      "text/plain": [
       "array([-0.37416647, -0.92736156])"
      ]
     },
     "execution_count": 39,
     "metadata": {},
     "output_type": "execute_result"
    }
   ],
   "source": [
    "eigen_vectors[:, 1]"
   ]
  },
  {
   "cell_type": "code",
   "execution_count": null,
   "id": "1faab201-d2fe-47e4-bc73-fb65a4bbf2b0",
   "metadata": {},
   "outputs": [],
   "source": []
  }
 ],
 "metadata": {
  "kernelspec": {
   "display_name": "py311",
   "language": "python",
   "name": "pytorch"
  },
  "language_info": {
   "codemirror_mode": {
    "name": "ipython",
    "version": 3
   },
   "file_extension": ".py",
   "mimetype": "text/x-python",
   "name": "python",
   "nbconvert_exporter": "python",
   "pygments_lexer": "ipython3",
   "version": "3.11.4"
  }
 },
 "nbformat": 4,
 "nbformat_minor": 5
}
