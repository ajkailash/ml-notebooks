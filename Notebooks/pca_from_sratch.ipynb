{
 "cells": [
  {
   "cell_type": "code",
   "execution_count": 13,
   "id": "9b280a2a-3ece-4e91-8fe9-8aab7e36d5b2",
   "metadata": {},
   "outputs": [],
   "source": [
    "import numpy as np\n",
    "from sklearn.datasets import make_blobs\n",
    "from sklearn.preprocessing import StandardScaler\n",
    "from sklearn.decomposition import PCA\n",
    "import matplotlib.pyplot as plt"
   ]
  },
  {
   "cell_type": "code",
   "execution_count": 30,
   "id": "75e0a1fc-18f3-4cb9-8276-d27701b6f86b",
   "metadata": {},
   "outputs": [],
   "source": [
    "#sample data\n",
    "x, y = make_blobs(n_samples=1000, n_features=3, centers=3, cluster_std=[1, 2, 3], center_box=(10, 65))"
   ]
  },
  {
   "cell_type": "code",
   "execution_count": 31,
   "id": "b5722482-c871-48c2-ac7f-f6e97479a1af",
   "metadata": {},
   "outputs": [],
   "source": [
    "class PCA:\n",
    "    def __init__(self, n_components):\n",
    "        self.n_components = n_components\n",
    "        self.mean = None\n",
    "        self.eigen_values = None\n",
    "        self.components = None\n",
    "\n",
    "    def fit(self, x):\n",
    "        self.mean = np.mean(x, axis=0).reshape(1, -1)\n",
    "        #center data\n",
    "        x_centered = (x - self.mean)\n",
    "        #calculate the covariance matrix\n",
    "        C = np.cov(x_centered.T)\n",
    "\n",
    "        eigen_values, eigen_vectors = np.linalg.eig(C)\n",
    "\n",
    "        idx = eigen_values.argsort()[::-1]\n",
    "        eigen_values = eigen_values[idx]\n",
    "        eigen_vectors = eigen_vectors[:, idx]\n",
    "        self.eigen_values = eigen_values\n",
    "\n",
    "        if self.n_components is not None:\n",
    "            eigen_vectors = eigen_vectors[:, :self.n_components]\n",
    "\n",
    "        self.components = eigen_vectors / np.linalg.norm(eigen_vectors, axis=0, keepdims=True)\n",
    "\n",
    "\n",
    "    def transform(self, x):\n",
    "        x_centered = x - self.mean\n",
    "        x_transformed = np.matmul(x_centered, self.components)\n",
    "        return x_transformed"
   ]
  },
  {
   "cell_type": "code",
   "execution_count": 32,
   "id": "c7f60e83-6e3a-46c6-bc86-2d36b1a87550",
   "metadata": {},
   "outputs": [],
   "source": [
    "pca = PCA(n_components=2)"
   ]
  },
  {
   "cell_type": "code",
   "execution_count": 33,
   "id": "ede4ec85-d612-429a-b0c4-374962dffdf7",
   "metadata": {},
   "outputs": [],
   "source": [
    "pca.fit(x)"
   ]
  },
  {
   "cell_type": "code",
   "execution_count": 34,
   "id": "e793dd6b-c7a0-408e-98d2-5ead9e6c796e",
   "metadata": {},
   "outputs": [],
   "source": [
    "x_out = pca.transform(x)"
   ]
  },
  {
   "cell_type": "code",
   "execution_count": 36,
   "id": "8173ef20-9c77-489d-83d1-f4594e39a1d5",
   "metadata": {},
   "outputs": [
    {
     "data": {
      "text/plain": [
       "array([179.23164069,  55.99116949,   4.33877392])"
      ]
     },
     "execution_count": 36,
     "metadata": {},
     "output_type": "execute_result"
    }
   ],
   "source": [
    "pca.eigen_values"
   ]
  },
  {
   "cell_type": "code",
   "execution_count": 37,
   "id": "128023ac-b229-4be4-8dda-f869cc981d8e",
   "metadata": {},
   "outputs": [
    {
     "data": {
      "text/plain": [
       "array([[  6.58718746,   8.38028987],\n",
       "       [-21.17966719,   0.43004255],\n",
       "       [-17.31022301,  -3.55174894],\n",
       "       [ 10.41341649,  -9.38873384],\n",
       "       [  6.86225384,   9.01251292],\n",
       "       [  7.4799175 ,  11.15785827],\n",
       "       [ 11.91502013,  -5.38435278],\n",
       "       [ 14.93258769,  -8.70157555],\n",
       "       [  7.60986705,   8.94188451],\n",
       "       [-17.7363714 ,  -1.00787666]])"
      ]
     },
     "execution_count": 37,
     "metadata": {},
     "output_type": "execute_result"
    }
   ],
   "source": [
    "x_out[:10]"
   ]
  },
  {
   "cell_type": "code",
   "execution_count": 41,
   "id": "13ba0fb0-3221-49c7-960f-43e8988f79ff",
   "metadata": {},
   "outputs": [
    {
     "data": {
      "text/plain": [
       "array([[-0.8953118 ,  0.20050131],\n",
       "       [ 0.44542684,  0.39612558],\n",
       "       [ 0.00342198,  0.89603781]])"
      ]
     },
     "execution_count": 41,
     "metadata": {},
     "output_type": "execute_result"
    }
   ],
   "source": [
    "pca.components"
   ]
  },
  {
   "cell_type": "code",
   "execution_count": null,
   "id": "27ff53f1-1db5-4c71-8cf9-d1fe3c66e642",
   "metadata": {},
   "outputs": [],
   "source": []
  },
  {
   "cell_type": "code",
   "execution_count": 38,
   "id": "6c1f3e32-340b-4c02-8c1d-d2fcfb29c8b6",
   "metadata": {},
   "outputs": [
    {
     "data": {
      "text/plain": [
       "<matplotlib.collections.PathCollection at 0x17a735cd0>"
      ]
     },
     "execution_count": 38,
     "metadata": {},
     "output_type": "execute_result"
    },
    {
     "data": {
      "image/png": "[encoded data removed]",
      "text/plain": [
       "<Figure size 600x400 with 1 Axes>"
      ]
     },
     "metadata": {},
     "output_type": "display_data"
    }
   ],
   "source": [
    "fig, ax = plt.subplots(nrows=1, ncols=1, figsize=(6, 4))\n",
    "ax.scatter(x_out[:, 0], x_out[:, 1])\n",
    "origin = np.array([[0, 0], [0, 0]])\n",
    "ax.quiver(*origin, eigen_vectors[:, 0], eigen_vectors[:, 1], scale=10)"
   ]
  },
  {
   "cell_type": "code",
   "execution_count": 28,
   "id": "204ffa3e-49b9-4d6f-8266-14617fa4b8f6",
   "metadata": {},
   "outputs": [
    {
     "data": {
      "text/plain": [
       "(2,)"
      ]
     },
     "execution_count": 28,
     "metadata": {},
     "output_type": "execute_result"
    }
   ],
   "source": [
    "origin.shape"
   ]
  },
  {
   "cell_type": "code",
   "execution_count": 21,
   "id": "c9bd0315-1b49-4f1b-99a1-3ae10194d5f8",
   "metadata": {},
   "outputs": [
    {
     "data": {
      "text/plain": [
       "0.13161255632153845"
      ]
     },
     "execution_count": 21,
     "metadata": {},
     "output_type": "execute_result"
    }
   ],
   "source": [
    "eigen_vectors[:, 1][0]"
   ]
  },
  {
   "cell_type": "code",
   "execution_count": 19,
   "id": "377ede54-0f6f-476b-a5d6-d52d6e805b90",
   "metadata": {},
   "outputs": [
    {
     "data": {
      "text/plain": [
       "\u001b[0;31mSignature:\u001b[0m \u001b[0max\u001b[0m\u001b[0;34m.\u001b[0m\u001b[0mquiver\u001b[0m\u001b[0;34m(\u001b[0m\u001b[0;34m*\u001b[0m\u001b[0margs\u001b[0m\u001b[0;34m,\u001b[0m \u001b[0mdata\u001b[0m\u001b[0;34m=\u001b[0m\u001b[0;32mNone\u001b[0m\u001b[0;34m,\u001b[0m \u001b[0;34m**\u001b[0m\u001b[0mkwargs\u001b[0m\u001b[0;34m)\u001b[0m\u001b[0;34m\u001b[0m\u001b[0;34m\u001b[0m\u001b[0m\n",
       "\u001b[0;31mDocstring:\u001b[0m\n",
       "Plot a 2D field of arrows.\n",
       "\n",
       "Call signature::\n",
       "\n",
       "  quiver([X, Y], U, V, [C], **kwargs)\n",
       "\n",
       "*X*, *Y* define the arrow locations, *U*, *V* define the arrow directions, and\n",
       "*C* optionally sets the color.\n",
       "\n",
       "**Arrow length**\n",
       "\n",
       "The default settings auto-scales the length of the arrows to a reasonable size.\n",
       "To change this behavior see the *scale* and *scale_units* parameters.\n",
       "\n",
       "**Arrow shape**\n",
       "\n",
       "The arrow shape is determined by *width*, *headwidth*, *headlength* and\n",
       "*headaxislength*. See the notes below.\n",
       "\n",
       "**Arrow styling**\n",
       "\n",
       "Each arrow is internally represented by a filled polygon with a default edge\n",
       "linewidth of 0. As a result, an arrow is rather a filled area, not a line with\n",
       "a head, and `.PolyCollection` properties like *linewidth*, *edgecolor*,\n",
       "*facecolor*, etc. act accordingly.\n",
       "\n",
       "\n",
       "Parameters\n",
       "----------\n",
       "X, Y : 1D or 2D array-like, optional\n",
       "    The x and y coordinates of the arrow locations.\n",
       "\n",
       "    If not given, they will be generated as a uniform integer meshgrid based\n",
       "    on the dimensions of *U* and *V*.\n",
       "\n",
       "    If *X* and *Y* are 1D but *U*, *V* are 2D, *X*, *Y* are expanded to 2D\n",
       "    using ``X, Y = np.meshgrid(X, Y)``. In this case ``len(X)`` and ``len(Y)``\n",
       "    must match the column and row dimensions of *U* and *V*.\n",
       "\n",
       "U, V : 1D or 2D array-like\n",
       "    The x and y direction components of the arrow vectors. The interpretation\n",
       "    of these components (in data or in screen space) depends on *angles*.\n",
       "\n",
       "    *U* and *V* must have the same number of elements, matching the number of\n",
       "    arrow locations in  *X*, *Y*. *U* and *V* may be masked. Locations masked\n",
       "    in any of *U*, *V*, and *C* will not be drawn.\n",
       "\n",
       "C : 1D or 2D array-like, optional\n",
       "    Numeric data that defines the arrow colors by colormapping via *norm* and\n",
       "    *cmap*.\n",
       "\n",
       "    This does not support explicit colors. If you want to set colors directly,\n",
       "    use *color* instead.  The size of *C* must match the number of arrow\n",
       "    locations.\n",
       "\n",
       "angles : {'uv', 'xy'} or array-like, default: 'uv'\n",
       "    Method for determining the angle of the arrows.\n",
       "\n",
       "    - 'uv': Arrow direction in screen coordinates. Use this if the arrows\n",
       "      symbolize a quantity that is not based on *X*, *Y* data coordinates.\n",
       "\n",
       "      If *U* == *V* the orientation of the arrow on the plot is 45 degrees\n",
       "      counter-clockwise from the  horizontal axis (positive to the right).\n",
       "\n",
       "    - 'xy': Arrow direction in data coordinates, i.e. the arrows point from\n",
       "      (x, y) to (x+u, y+v). Use this e.g. for plotting a gradient field.\n",
       "\n",
       "    - Arbitrary angles may be specified explicitly as an array of values\n",
       "      in degrees, counter-clockwise from the horizontal axis.\n",
       "\n",
       "      In this case *U*, *V* is only used to determine the length of the\n",
       "      arrows.\n",
       "\n",
       "    Note: inverting a data axis will correspondingly invert the\n",
       "    arrows only with ``angles='xy'``.\n",
       "\n",
       "pivot : {'tail', 'mid', 'middle', 'tip'}, default: 'tail'\n",
       "    The part of the arrow that is anchored to the *X*, *Y* grid. The arrow\n",
       "    rotates about this point.\n",
       "\n",
       "    'mid' is a synonym for 'middle'.\n",
       "\n",
       "scale : float, optional\n",
       "    Scales the length of the arrow inversely.\n",
       "\n",
       "    Number of data units per arrow length unit, e.g., m/s per plot width; a\n",
       "    smaller scale parameter makes the arrow longer. Default is *None*.\n",
       "\n",
       "    If *None*, a simple autoscaling algorithm is used, based on the average\n",
       "    vector length and the number of vectors. The arrow length unit is given by\n",
       "    the *scale_units* parameter.\n",
       "\n",
       "scale_units : {'width', 'height', 'dots', 'inches', 'x', 'y', 'xy'}, optional\n",
       "    If the *scale* kwarg is *None*, the arrow length unit. Default is *None*.\n",
       "\n",
       "    e.g. *scale_units* is 'inches', *scale* is 2.0, and ``(u, v) = (1, 0)``,\n",
       "    then the vector will be 0.5 inches long.\n",
       "\n",
       "    If *scale_units* is 'width' or 'height', then the vector will be half the\n",
       "    width/height of the axes.\n",
       "\n",
       "    If *scale_units* is 'x' then the vector will be 0.5 x-axis\n",
       "    units. To plot vectors in the x-y plane, with u and v having\n",
       "    the same units as x and y, use\n",
       "    ``angles='xy', scale_units='xy', scale=1``.\n",
       "\n",
       "units : {'width', 'height', 'dots', 'inches', 'x', 'y', 'xy'}, default: 'width'\n",
       "    Affects the arrow size (except for the length). In particular, the shaft\n",
       "    *width* is measured in multiples of this unit.\n",
       "\n",
       "    Supported values are:\n",
       "\n",
       "    - 'width', 'height': The width or height of the Axes.\n",
       "    - 'dots', 'inches': Pixels or inches based on the figure dpi.\n",
       "    - 'x', 'y', 'xy': *X*, *Y* or :math:`\\sqrt{X^2 + Y^2}` in data units.\n",
       "\n",
       "    The following table summarizes how these values affect the visible arrow\n",
       "    size under zooming and figure size changes:\n",
       "\n",
       "    =================  =================   ==================\n",
       "    units              zoom                figure size change\n",
       "    =================  =================   ==================\n",
       "    'x', 'y', 'xy'     arrow size scales   —\n",
       "    'width', 'height'  —                   arrow size scales\n",
       "    'dots', 'inches'   —                   —\n",
       "    =================  =================   ==================\n",
       "\n",
       "width : float, optional\n",
       "    Shaft width in arrow units. All head parameters are relative to *width*.\n",
       "\n",
       "    The default depends on choice of *units* above, and number of vectors;\n",
       "    a typical starting value is about 0.005 times the width of the plot.\n",
       "\n",
       "headwidth : float, default: 3\n",
       "    Head width as multiple of shaft *width*. See the notes below.\n",
       "\n",
       "headlength : float, default: 5\n",
       "    Head length as multiple of shaft *width*. See the notes below.\n",
       "\n",
       "headaxislength : float, default: 4.5\n",
       "    Head length at shaft intersection as multiple of shaft *width*.\n",
       "    See the notes below.\n",
       "\n",
       "minshaft : float, default: 1\n",
       "    Length below which arrow scales, in units of head length. Do not\n",
       "    set this to less than 1, or small arrows will look terrible!\n",
       "\n",
       "minlength : float, default: 1\n",
       "    Minimum length as a multiple of shaft width; if an arrow length\n",
       "    is less than this, plot a dot (hexagon) of this diameter instead.\n",
       "\n",
       "color : color or color sequence, optional\n",
       "    Explicit color(s) for the arrows. If *C* has been set, *color* has no\n",
       "    effect.\n",
       "\n",
       "    This is a synonym for the `.PolyCollection` *facecolor* parameter.\n",
       "\n",
       "Other Parameters\n",
       "----------------\n",
       "data : indexable object, optional\n",
       "    If given, all parameters also accept a string ``s``, which is\n",
       "    interpreted as ``data[s]`` (unless this raises an exception).\n",
       "\n",
       "**kwargs : `~matplotlib.collections.PolyCollection` properties, optional\n",
       "    All other keyword arguments are passed on to `.PolyCollection`:\n",
       "\n",
       "    Properties:\n",
       "    agg_filter: a filter function, which takes a (m, n, 3) float array and a dpi value, and returns a (m, n, 3) array and two offsets from the bottom left corner of the image\n",
       "    alpha: array-like or scalar or None\n",
       "    animated: bool\n",
       "    antialiased or aa or antialiaseds: bool or list of bools\n",
       "    array: array-like or None\n",
       "    capstyle: `.CapStyle` or {'butt', 'projecting', 'round'}\n",
       "    clim: (vmin: float, vmax: float)\n",
       "    clip_box: `~matplotlib.transforms.BboxBase` or None\n",
       "    clip_on: bool\n",
       "    clip_path: Patch or (Path, Transform) or None\n",
       "    cmap: `.Colormap` or str or None\n",
       "    color: color or list of RGBA tuples\n",
       "    edgecolor or ec or edgecolors: color or list of colors or 'face'\n",
       "    facecolor or facecolors or fc: color or list of colors\n",
       "    figure: `~matplotlib.figure.Figure`\n",
       "    gid: str\n",
       "    hatch: {'/', '\\\\', '|', '-', '+', 'x', 'o', 'O', '.', '*'}\n",
       "    in_layout: bool\n",
       "    joinstyle: `.JoinStyle` or {'miter', 'round', 'bevel'}\n",
       "    label: object\n",
       "    linestyle or dashes or linestyles or ls: str or tuple or list thereof\n",
       "    linewidth or linewidths or lw: float or list of floats\n",
       "    mouseover: bool\n",
       "    norm: `.Normalize` or str or None\n",
       "    offset_transform or transOffset: `.Transform`\n",
       "    offsets: (N, 2) or (2,) array-like\n",
       "    path_effects: list of `.AbstractPathEffect`\n",
       "    paths: list of array-like\n",
       "    picker: None or bool or float or callable\n",
       "    pickradius: float\n",
       "    rasterized: bool\n",
       "    sizes: `numpy.ndarray` or None\n",
       "    sketch_params: (scale: float, length: float, randomness: float)\n",
       "    snap: bool or None\n",
       "    transform: `~matplotlib.transforms.Transform`\n",
       "    url: str\n",
       "    urls: list of str or None\n",
       "    verts: list of array-like\n",
       "    verts_and_codes: unknown\n",
       "    visible: bool\n",
       "    zorder: float\n",
       "\n",
       "Returns\n",
       "-------\n",
       "`~matplotlib.quiver.Quiver`\n",
       "\n",
       "See Also\n",
       "--------\n",
       ".Axes.quiverkey : Add a key to a quiver plot.\n",
       "\n",
       "Notes\n",
       "-----\n",
       "\n",
       "**Arrow shape**\n",
       "\n",
       "The arrow is drawn as a polygon using the nodes as shown below. The values\n",
       "*headwidth*, *headlength*, and *headaxislength* are in units of *width*.\n",
       "\n",
       ".. image:: /_static/quiver_sizes.svg\n",
       "   :width: 500px\n",
       "\n",
       "The defaults give a slightly swept-back arrow. Here are some guidelines how to\n",
       "get other head shapes:\n",
       "\n",
       "- To make the head a triangle, make *headaxislength* the same as *headlength*.\n",
       "- To make the arrow more pointed, reduce *headwidth* or increase *headlength*\n",
       "  and *headaxislength*.\n",
       "- To make the head smaller relative to the shaft, scale down all the head\n",
       "  parameters proportionally.\n",
       "- To remove the head completely, set all *head* parameters to 0.\n",
       "- To get a diamond-shaped head, make *headaxislength* larger than *headlength*.\n",
       "- Warning: For *headaxislength* < (*headlength* / *headwidth*), the \"headaxis\"\n",
       "  nodes (i.e. the ones connecting the head with the shaft) will protrude out\n",
       "  of the head in forward direction so that the arrow head looks broken.\n",
       "\u001b[0;31mFile:\u001b[0m      ~/miniconda3/envs/torch/lib/python3.11/site-packages/matplotlib/axes/_axes.py\n",
       "\u001b[0;31mType:\u001b[0m      method"
      ]
     },
     "metadata": {},
     "output_type": "display_data"
    }
   ],
   "source": [
    "ax.quiver?"
   ]
  },
  {
   "cell_type": "code",
   "execution_count": null,
   "id": "5e2b950f-bbdc-48e3-9f5a-c1aac6b6c6fc",
   "metadata": {},
   "outputs": [],
   "source": []
  },
  {
   "cell_type": "code",
   "execution_count": 14,
   "id": "66904824-7e38-40fd-a9c6-dfb915e24366",
   "metadata": {},
   "outputs": [],
   "source": [
    "# Norm check"
   ]
  },
  {
   "cell_type": "code",
   "execution_count": 39,
   "id": "e4be26f6-84ae-4f18-8721-d8db8ce82572",
   "metadata": {},
   "outputs": [],
   "source": [
    "sample = np.array([[1, 0, 1], [2, 1, 0], [1, 2, 5]])"
   ]
  },
  {
   "cell_type": "code",
   "execution_count": 40,
   "id": "7d5afaca-b5e0-42fa-b31c-1d72bbd21f8e",
   "metadata": {},
   "outputs": [
    {
     "data": {
      "text/plain": [
       "array([[1, 0, 1],\n",
       "       [2, 1, 0],\n",
       "       [1, 2, 5]])"
      ]
     },
     "execution_count": 40,
     "metadata": {},
     "output_type": "execute_result"
    }
   ],
   "source": [
    "sample"
   ]
  },
  {
   "cell_type": "code",
   "execution_count": 41,
   "id": "f393c9a1-2843-42d6-bf15-7bb7357cf702",
   "metadata": {},
   "outputs": [
    {
     "data": {
      "text/plain": [
       "array([2.44948974, 2.23606798, 5.09901951])"
      ]
     },
     "execution_count": 41,
     "metadata": {},
     "output_type": "execute_result"
    }
   ],
   "source": [
    "np.linalg.norm(sample, axis=0)"
   ]
  },
  {
   "cell_type": "code",
   "execution_count": 46,
   "id": "73e2ec8b-b6d3-49fd-afb2-d54b252608f2",
   "metadata": {},
   "outputs": [],
   "source": [
    "s_norm = sample / np.sqrt(np.sum(np.square(sample), axis=0, keepdims=True))"
   ]
  },
  {
   "cell_type": "code",
   "execution_count": 48,
   "id": "12ea416a-09ce-4e57-972e-70885a5d150c",
   "metadata": {},
   "outputs": [
    {
     "data": {
      "text/plain": [
       "array([1., 1., 1.])"
      ]
     },
     "execution_count": 48,
     "metadata": {},
     "output_type": "execute_result"
    }
   ],
   "source": [
    "np.linalg.norm(s_norm, axis=0)"
   ]
  },
  {
   "cell_type": "code",
   "execution_count": 38,
   "id": "6bc91f54-f995-4f53-b697-73d40b5fa986",
   "metadata": {},
   "outputs": [
    {
     "data": {
      "text/plain": [
       "array([[ 0.6229931 , -0.60844027,  0.49160964],\n",
       "       [-0.08322544,  0.5733494 ,  0.815073  ],\n",
       "       [ 0.77778732,  0.54869928, -0.30655501]])"
      ]
     },
     "execution_count": 38,
     "metadata": {},
     "output_type": "execute_result"
    }
   ],
   "source": [
    "eigen_vectors"
   ]
  },
  {
   "cell_type": "code",
   "execution_count": null,
   "id": "71ac7171-fb5b-486e-9908-6f39fe781962",
   "metadata": {},
   "outputs": [],
   "source": []
  }
 ],
 "metadata": {
  "kernelspec": {
   "display_name": "py311",
   "language": "python",
   "name": "pytorch"
  },
  "language_info": {
   "codemirror_mode": {
    "name": "ipython",
    "version": 3
   },
   "file_extension": ".py",
   "mimetype": "text/x-python",
   "name": "python",
   "nbconvert_exporter": "python",
   "pygments_lexer": "ipython3",
   "version": "3.11.4"
  }
 },
 "nbformat": 4,
 "nbformat_minor": 5
}
