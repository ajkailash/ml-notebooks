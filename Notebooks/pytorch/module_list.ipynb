{
 "cells": [
  {
   "cell_type": "code",
   "execution_count": 3,
   "id": "91961f6b-b328-4efe-859f-ff37af067bc4",
   "metadata": {},
   "outputs": [],
   "source": [
    "import torch\n",
    "import torch.nn as nn"
   ]
  },
  {
   "cell_type": "markdown",
   "id": "a29e2f0a-7b6b-4bb6-9369-54906ca622b5",
   "metadata": {},
   "source": [
    "### Difference between nn.Sequential and nn.ModuleList"
   ]
  },
  {
   "cell_type": "markdown",
   "id": "56ec6ed4-9f33-49eb-a4e2-1e4108459ea7",
   "metadata": {},
   "source": [
    "- In nn.Sequential, the various nn.Modules (conv, batchnorm, activation, ...) wrapped are connected.\n",
    "- nn.Sequential has a forward() method.\n",
    "- nn.ModuleList does not have a forward() function."
   ]
  },
  {
   "cell_type": "code",
   "execution_count": 7,
   "id": "95cbb2fc-8d41-4651-8532-27f02cc847d0",
   "metadata": {},
   "outputs": [],
   "source": [
    "class SampleModel(nn.Module):\n",
    "    def __init__(self, sizes):\n",
    "        super().__init__()\n",
    "        self.sizes = sizes\n",
    "        self.layers = nn.ModuleList([nn.Linear(in_features=in_c, out_features=out_c) for in_c, out_c in zip(sizes, sizes[1:])])\n",
    "        self.trace = []\n",
    "        \n",
    "    def forward(self, x):\n",
    "        for layer in self.layers:\n",
    "            self.trace.append(layer(x))"
   ]
  },
  {
   "cell_type": "code",
   "execution_count": 8,
   "id": "7c54977c-63b8-4015-91fb-52b838109c9e",
   "metadata": {},
   "outputs": [],
   "source": [
    "model = SampleModel([64, 128, 192])"
   ]
  },
  {
   "cell_type": "code",
   "execution_count": 9,
   "id": "d5809b66-bfa0-46db-874f-fd89d9110e43",
   "metadata": {},
   "outputs": [
    {
     "data": {
      "text/plain": [
       "SampleModel(\n",
       "  (layers): ModuleList(\n",
       "    (0): Linear(in_features=64, out_features=128, bias=True)\n",
       "    (1): Linear(in_features=128, out_features=192, bias=True)\n",
       "  )\n",
       ")"
      ]
     },
     "execution_count": 9,
     "metadata": {},
     "output_type": "execute_result"
    }
   ],
   "source": [
    "model"
   ]
  },
  {
   "cell_type": "code",
   "execution_count": null,
   "id": "404c2b89-28ea-4c26-8984-d3997db46224",
   "metadata": {},
   "outputs": [],
   "source": []
  }
 ],
 "metadata": {
  "kernelspec": {
   "display_name": "Python 3 (ipykernel)",
   "language": "python",
   "name": "python3"
  },
  "language_info": {
   "codemirror_mode": {
    "name": "ipython",
    "version": 3
   },
   "file_extension": ".py",
   "mimetype": "text/x-python",
   "name": "python",
   "nbconvert_exporter": "python",
   "pygments_lexer": "ipython3",
   "version": "3.10.13"
  }
 },
 "nbformat": 4,
 "nbformat_minor": 5
}
