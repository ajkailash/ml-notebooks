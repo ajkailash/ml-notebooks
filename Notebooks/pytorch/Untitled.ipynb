{
 "cells": [
  {
   "cell_type": "code",
   "execution_count": 1,
   "id": "45752f47-f2dd-4568-beb3-7a1f79196a57",
   "metadata": {},
   "outputs": [],
   "source": [
    "import torch\n",
    "import torch.nn as nn"
   ]
  },
  {
   "cell_type": "markdown",
   "id": "066e11b0-981d-4856-8b4e-183426a1e1b2",
   "metadata": {},
   "source": [
    "## Basics of torchscript"
   ]
  },
  {
   "cell_type": "code",
   "execution_count": 2,
   "id": "8e5cea67-aa41-40ab-ad66-308908c363bd",
   "metadata": {},
   "outputs": [],
   "source": [
    "class MyCell(nn.Module):\n",
    "    def __init__(self):\n",
    "        super(MyCell, self).__init__()\n",
    "        self.linear = nn.Linear(4, 4)\n",
    "\n",
    "    def forward(self, x, h):\n",
    "        new_h = torch.tanh(self.linear(x) + h)\n",
    "        return new_h"
   ]
  },
  {
   "cell_type": "code",
   "execution_count": 3,
   "id": "aa6b1090-eebd-4be4-86d8-d157c9015d21",
   "metadata": {},
   "outputs": [],
   "source": [
    "my_cell = MyCell()\n",
    "x, h = torch.randn(3, 4), torch.randn(3, 4)"
   ]
  },
  {
   "cell_type": "code",
   "execution_count": 4,
   "id": "97d22bf6-9018-40ea-a09a-19e56dd7777c",
   "metadata": {},
   "outputs": [
    {
     "data": {
      "text/plain": [
       "tensor([[ 0.0673, -0.0938,  0.9959,  0.2214],\n",
       "        [-0.4325,  0.5852,  0.7935, -0.6296],\n",
       "        [ 0.1401, -0.2619, -0.8487,  0.6698]], grad_fn=<TanhBackward0>)"
      ]
     },
     "execution_count": 4,
     "metadata": {},
     "output_type": "execute_result"
    }
   ],
   "source": [
    "my_cell(x, h)"
   ]
  },
  {
   "cell_type": "code",
   "execution_count": 6,
   "id": "6e6258b2-99a5-47f6-8421-415a592c52e8",
   "metadata": {},
   "outputs": [],
   "source": [
    "traced_cell = torch.jit.trace(my_cell, (x, h))"
   ]
  },
  {
   "cell_type": "code",
   "execution_count": 8,
   "id": "33b16a87-c5ec-4835-81cf-ef9fbb9c4e48",
   "metadata": {},
   "outputs": [
    {
     "name": "stdout",
     "output_type": "stream",
     "text": [
      "MyCell(\n",
      "  original_name=MyCell\n",
      "  (linear): Linear(original_name=Linear)\n",
      ")\n"
     ]
    }
   ],
   "source": [
    "print(traced_cell)"
   ]
  },
  {
   "cell_type": "code",
   "execution_count": 9,
   "id": "48d910a1-4a47-44aa-8f03-0e3ebd4f1921",
   "metadata": {},
   "outputs": [
    {
     "data": {
      "text/plain": [
       "torch.jit._trace.TopLevelTracedModule"
      ]
     },
     "execution_count": 9,
     "metadata": {},
     "output_type": "execute_result"
    }
   ],
   "source": [
    "type(traced_cell)"
   ]
  },
  {
   "cell_type": "code",
   "execution_count": 13,
   "id": "4fd88b3f-728d-451a-8768-b96b79130fc2",
   "metadata": {},
   "outputs": [
    {
     "name": "stdout",
     "output_type": "stream",
     "text": [
      "def forward(self,\n",
      "    x: Tensor,\n",
      "    h: Tensor) -> Tensor:\n",
      "  linear = self.linear\n",
      "  _0 = torch.tanh(torch.add((linear).forward(x, ), h))\n",
      "  return _0\n",
      "\n"
     ]
    }
   ],
   "source": [
    "print(traced_cell.code)"
   ]
  },
  {
   "cell_type": "code",
   "execution_count": null,
   "id": "8c5886fa-428d-435d-9356-805624741b38",
   "metadata": {},
   "outputs": [],
   "source": []
  }
 ],
 "metadata": {
  "kernelspec": {
   "display_name": "py311",
   "language": "python",
   "name": "pytorch"
  },
  "language_info": {
   "codemirror_mode": {
    "name": "ipython",
    "version": 3
   },
   "file_extension": ".py",
   "mimetype": "text/x-python",
   "name": "python",
   "nbconvert_exporter": "python",
   "pygments_lexer": "ipython3",
   "version": "3.11.4"
  }
 },
 "nbformat": 4,
 "nbformat_minor": 5
}
