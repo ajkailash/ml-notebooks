{
 "cells": [
  {
   "cell_type": "code",
   "execution_count": 13,
   "id": "be275ce7-09a9-4ada-9b83-92ba9594612b",
   "metadata": {},
   "outputs": [],
   "source": [
    "import torch\n",
    "import torch.nn as nn\n",
    "import torch.nn.functional as F"
   ]
  },
  {
   "cell_type": "markdown",
   "id": "84cd2aee-569f-4237-8368-b0baf449cc13",
   "metadata": {},
   "source": [
    "### nn.Module\n",
    "- Base class for neural network modules"
   ]
  },
  {
   "cell_type": "code",
   "execution_count": 10,
   "id": "f68b77eb-6e99-4514-8e26-0ce50237d81d",
   "metadata": {},
   "outputs": [],
   "source": [
    "class BasicClassifier(nn.Module):\n",
    "    def __init__(self, in_ch, num_classes):\n",
    "        super().__init__()\n",
    "        self.conv1 = nn.Conv2d(in_channels=in_ch, out_channels=32, kernel_size=(3, 3))\n",
    "        self.bn1 = nn.BatchNorm2d(32)\n",
    "        \n",
    "        self.conv2 = nn.Conv2d(in_channels=32, out_channels=64, kernel_size=(3, 3))\n",
    "        self.bn2 = nn.BatchNorm2d(64)\n",
    "\n",
    "        self.fc1 = nn.Linear(in_features=28*28*64, out_features=1024)\n",
    "        self.fc2 = nn.Linear(1024, num_classes)\n",
    "\n",
    "    def forward(self, x):\n",
    "        x = self.conv1(x)\n",
    "        x = self.bn1(x)\n",
    "        x = F.relu(x)\n",
    "\n",
    "        x = self.conv2(x)\n",
    "        x = self.bn2(x)\n",
    "        x = F.relu(x)\n",
    "\n",
    "        x = x.view(x.shape[0], -1) #flatten tensor\n",
    "        x = self.fc1(x)\n",
    "        x = self.fc2(x)\n",
    "\n",
    "        return x"
   ]
  },
  {
   "cell_type": "code",
   "execution_count": 12,
   "id": "f65a48ef-bac6-457b-a582-8261669bd922",
   "metadata": {},
   "outputs": [
    {
     "data": {
      "text/plain": [
       "torch.Size([2, 10])"
      ]
     },
     "execution_count": 12,
     "metadata": {},
     "output_type": "execute_result"
    }
   ],
   "source": [
    "model = BasicClassifier(3, 10)\n",
    "x = torch.randn(2, 3, 32, 32)"
   ]
  },
  {
   "cell_type": "markdown",
   "id": "cab2d786-7701-45c0-9235-533a23bd89cd",
   "metadata": {},
   "source": [
    "Problems with the above approach\n",
    "- If we are to add layers, we need to write them in the __init__ method along with corresponding forward function\n",
    "- Also, if we are using the same set of (Conv, BatchNorm, Relu) layers in another Module, we need to write them again"
   ]
  },
  {
   "cell_type": "code",
   "execution_count": null,
   "id": "95f3149e-f63d-4d97-9d03-f85ad02fbddb",
   "metadata": {},
   "outputs": [],
   "source": []
  }
 ],
 "metadata": {
  "kernelspec": {
   "display_name": "Python 3 (ipykernel)",
   "language": "python",
   "name": "python3"
  },
  "language_info": {
   "codemirror_mode": {
    "name": "ipython",
    "version": 3
   },
   "file_extension": ".py",
   "mimetype": "text/x-python",
   "name": "python",
   "nbconvert_exporter": "python",
   "pygments_lexer": "ipython3",
   "version": "3.10.13"
  }
 },
 "nbformat": 4,
 "nbformat_minor": 5
}
