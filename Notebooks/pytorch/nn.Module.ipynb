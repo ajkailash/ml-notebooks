{
 "cells": [
  {
   "cell_type": "code",
   "execution_count": 9,
   "id": "be275ce7-09a9-4ada-9b83-92ba9594612b",
   "metadata": {},
   "outputs": [],
   "source": [
    "import torch\n",
    "import torch.nn as nn\n",
    "import torch.nn.functional as F"
   ]
  },
  {
   "cell_type": "markdown",
   "id": "84cd2aee-569f-4237-8368-b0baf449cc13",
   "metadata": {},
   "source": [
    "### nn.Module\n",
    "- Base class for neural network modules"
   ]
  },
  {
   "cell_type": "code",
   "execution_count": 10,
   "id": "f68b77eb-6e99-4514-8e26-0ce50237d81d",
   "metadata": {},
   "outputs": [],
   "source": [
    "class BasicClassifier(nn.Module):\n",
    "    def __init__(self, in_ch, num_classes):\n",
    "        super().__init__()\n",
    "        self.conv1 = nn.Conv2d(in_channels=in_ch, out_channels=32, kernel_size=(3, 3))\n",
    "        self.bn1 = nn.BatchNorm2d(32)\n",
    "        \n",
    "        self.conv2 = nn.Conv2d(in_channels=32, out_channels=64, kernel_size=(3, 3))\n",
    "        self.bn2 = nn.BatchNorm2d(64)\n",
    "\n",
    "        self.fc1 = nn.Linear(in_features=28*28*64, out_features=1024)\n",
    "        self.fc2 = nn.Linear(1024, num_classes)\n",
    "\n",
    "    def forward(self, x):\n",
    "        x = self.conv1(x)\n",
    "        x = self.bn1(x)\n",
    "        x = F.relu(x)\n",
    "\n",
    "        x = self.conv2(x)\n",
    "        x = self.bn2(x)\n",
    "        x = F.relu(x)\n",
    "\n",
    "        x = x.view(x.shape[0], -1) #flatten tensor\n",
    "        x = self.fc1(x)\n",
    "        x = self.fc2(x)\n",
    "\n",
    "        return x"
   ]
  },
  {
   "cell_type": "markdown",
   "id": "cab2d786-7701-45c0-9235-533a23bd89cd",
   "metadata": {},
   "source": [
    "Problems with the above approach\n",
    "- If we need to add layers, we need to write them in the __init__ method along with corresponding forward function\n",
    "- Also, if we are using the same set of (Conv, BatchNorm, Relu) layers in another Module, we need to write them again"
   ]
  },
  {
   "cell_type": "markdown",
   "id": "6f916b6a-90ab-47de-aa23-6dad6585d8fa",
   "metadata": {},
   "source": [
    "### NN.Sequential\n",
    "- Let's reduce the number of lines in the forward method by wrapping the layers in a nn.Sequential container"
   ]
  },
  {
   "cell_type": "code",
   "execution_count": 11,
   "id": "ed4a7d16-2c7e-4a65-a809-e26b596c01b6",
   "metadata": {},
   "outputs": [],
   "source": [
    "class BasicClassifier(nn.Module):\n",
    "    def __init__(self, in_ch, num_classes):\n",
    "        super().__init__()\n",
    "        self.conv_block_1 = nn.Sequential(nn.Conv2d(in_channels=in_ch, out_channels=32, kernel_size=(3, 3)), \n",
    "                                         nn.BatchNorm2d(32), \n",
    "                                         nn.ReLU())\n",
    "        self.conv_block_2 = nn.Sequential(nn.Conv2d(in_channels=32, out_channels=64, kernel_size=(3, 3)), \n",
    "                                          nn.BatchNorm2d(64), \n",
    "                                         nn.ReLU())\n",
    "        self.fc_block = nn.Sequential(nn.Linear(in_features=28*28*64, out_features=1024), \n",
    "                                     nn.Linear(1024, num_classes))\n",
    "\n",
    "\n",
    "    def forward(self, x):\n",
    "        x = self.conv_block_1(x)\n",
    "        x = self.conv_block_2(x)\n",
    "\n",
    "        x = x.view(x.shape[0], -1) #flatten tensor\n",
    "        x = self.fc_block(x)\n",
    "        return x\n"
   ]
  },
  {
   "cell_type": "markdown",
   "id": "416f2f4c-5476-40a4-b384-746687fdbb23",
   "metadata": {},
   "source": [
    "Problems with the above approach\n",
    "- conv_block_1 and conv_block_2 have the same layers. We can write a function to return a nn.Sequential to further simplify"
   ]
  },
  {
   "cell_type": "code",
   "execution_count": 12,
   "id": "f8fd30f6-3a72-4311-9a80-128d1b57b8c6",
   "metadata": {},
   "outputs": [],
   "source": [
    "def conv_bn(in_ch, out_ch, *args, **kwargs):\n",
    "    return nn.Sequential(nn.Conv2d(in_channels=in_ch, out_channels=out_ch, *args, **kwargs), \n",
    "                        nn.BatchNorm2d(out_ch), \n",
    "                        nn.ReLU())"
   ]
  },
  {
   "cell_type": "code",
   "execution_count": 13,
   "id": "a3ae17b9-9d34-45fb-b49c-341c8d00bcc2",
   "metadata": {},
   "outputs": [],
   "source": [
    "class BasicClassifier(nn.Module):\n",
    "    def __init__(self, in_ch, num_classes):\n",
    "        super().__init__()\n",
    "        self.conv_block_1 = conv_bn(3, 32, kernel_size=(3, 3))\n",
    "        self.conv_block_2 = conv_bn(32, 64, kernel_size=(3, 3))\n",
    "        self.fc_block = nn.Sequential(nn.Linear(in_features=28*28*64, out_features=1024), \n",
    "                                     nn.Linear(1024, num_classes))\n",
    "\n",
    "\n",
    "    def forward(self, x):\n",
    "        x = self.conv_block_1(x)\n",
    "        x = self.conv_block_2(x)\n",
    "\n",
    "        x = x.view(x.shape[0], -1) #flatten tensor\n",
    "        x = self.fc_block(x)\n",
    "        return x"
   ]
  },
  {
   "cell_type": "markdown",
   "id": "937090b2-1770-461d-bff6-09abc72f3921",
   "metadata": {},
   "source": [
    "- Merge the two conv blocks to a single sequential container"
   ]
  },
  {
   "cell_type": "code",
   "execution_count": 14,
   "id": "856e178d-a560-452d-a060-30332daa2c71",
   "metadata": {},
   "outputs": [],
   "source": [
    "class BasicClassifier(nn.Module):\n",
    "    def __init__(self, in_ch, num_classes):\n",
    "        super().__init__()\n",
    "        self.encoder = nn.Sequential(conv_bn(3, 32, kernel_size=(3, 3)), \n",
    "                                    conv_bn(32, 64, kernel_size=(3, 3)))\n",
    "        self.fc_block = nn.Sequential(nn.Linear(in_features=28*28*64, out_features=1024), \n",
    "                                     nn.Linear(1024, num_classes))\n",
    "\n",
    "\n",
    "    def forward(self, x):\n",
    "        x = self.encoder(x)\n",
    "\n",
    "        x = x.view(x.shape[0], -1) #flatten tensor\n",
    "        x = self.fc_block(x)\n",
    "        return x"
   ]
  },
  {
   "cell_type": "markdown",
   "id": "d8023767-114e-4a92-8d7f-a00fe0c78569",
   "metadata": {},
   "source": [
    "- We have hardcoded the number of in and out channels for the conv layers. Can we make it better?"
   ]
  },
  {
   "cell_type": "code",
   "execution_count": 15,
   "id": "915a82ff-56eb-403d-84a3-df7316cace13",
   "metadata": {},
   "outputs": [],
   "source": [
    "class BasicClassifier(nn.Module):\n",
    "    def __init__(self, in_ch, num_classes):\n",
    "        super().__init__()\n",
    "        self.enc_sizes = [in_ch, 32, 64]\n",
    "        conv_blocks = [conv_bn(in_c, out_c, kernel_size=(3, 3)) for in_c, out_c in zip(self.enc_sizes, self.enc_sizes[1:])]\n",
    "        self.encoder = nn.Sequential(*conv_blocks)\n",
    "        self.fc_block = nn.Sequential(nn.Linear(in_features=28*28*64, out_features=1024), \n",
    "                                     nn.Linear(1024, num_classes))\n",
    "\n",
    "\n",
    "    def forward(self, x):\n",
    "        x = self.encoder(x)\n",
    "\n",
    "        x = x.view(x.shape[0], -1) #flatten tensor\n",
    "        x = self.fc_block(x)\n",
    "        return x"
   ]
  },
  {
   "cell_type": "markdown",
   "id": "25ffb7f1-5e83-4271-88ee-35885e725a32",
   "metadata": {},
   "source": [
    "- We can pass the"
   ]
  },
  {
   "cell_type": "code",
   "execution_count": null,
   "id": "10e99c20-cea4-49f5-aa20-fd42df4ccab7",
   "metadata": {},
   "outputs": [],
   "source": []
  },
  {
   "cell_type": "code",
   "execution_count": null,
   "id": "4d9b932b-7b0a-4e0c-a269-b110619b8314",
   "metadata": {},
   "outputs": [],
   "source": []
  }
 ],
 "metadata": {
  "kernelspec": {
   "display_name": "Python 3 (ipykernel)",
   "language": "python",
   "name": "python3"
  },
  "language_info": {
   "codemirror_mode": {
    "name": "ipython",
    "version": 3
   },
   "file_extension": ".py",
   "mimetype": "text/x-python",
   "name": "python",
   "nbconvert_exporter": "python",
   "pygments_lexer": "ipython3",
   "version": "3.10.13"
  }
 },
 "nbformat": 4,
 "nbformat_minor": 5
}
