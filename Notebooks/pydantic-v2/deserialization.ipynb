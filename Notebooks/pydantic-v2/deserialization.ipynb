{
 "cells": [
  {
   "cell_type": "markdown",
   "id": "ca0dec3d-beec-4bbc-afb9-d072cc9dc749",
   "metadata": {},
   "source": [
    "## Deserialization"
   ]
  },
  {
   "cell_type": "code",
   "execution_count": 29,
   "id": "d5bed533-a3b8-454c-9775-078dbad01605",
   "metadata": {},
   "outputs": [],
   "source": [
    "import json"
   ]
  },
  {
   "cell_type": "code",
   "execution_count": 11,
   "id": "e939591e-bd5c-4a3e-bdfa-c2771145e9e4",
   "metadata": {},
   "outputs": [],
   "source": [
    "#what is deserialization?\n",
    "#Data in some form (json, python dictionary, ..) --> Pydantic Model"
   ]
  },
  {
   "cell_type": "code",
   "execution_count": 1,
   "id": "558214a4-df2e-482d-87eb-db5f33f5c5d0",
   "metadata": {},
   "outputs": [],
   "source": [
    "from pydantic import BaseModel, ValidationError"
   ]
  },
  {
   "cell_type": "code",
   "execution_count": 2,
   "id": "f5aa7a97-a048-4525-aa85-3f2772414bcb",
   "metadata": {},
   "outputs": [],
   "source": [
    "class Person(BaseModel):\n",
    "    first_name: str\n",
    "    last_name: str\n",
    "    age: int"
   ]
  },
  {
   "cell_type": "code",
   "execution_count": 9,
   "id": "17f50d41-4cd1-462f-b171-5c278ac9e798",
   "metadata": {},
   "outputs": [],
   "source": [
    "a = Person(first_name=\"isacc\", last_name=\"newton\", age=80)"
   ]
  },
  {
   "cell_type": "markdown",
   "id": "4e6eb0ba-38fb-4a76-aa8b-5109ac9f7c22",
   "metadata": {},
   "source": [
    "### Deserializing a python dict"
   ]
  },
  {
   "cell_type": "code",
   "execution_count": 10,
   "id": "f7b98463-aacd-4fd8-9dcc-2198d9d99c0e",
   "metadata": {},
   "outputs": [],
   "source": [
    "data = {\n",
    "    \"first_name\": \"John\", \n",
    "    \"last_name\": \"Doe\", \n",
    "    \"age\": 21\n",
    "}"
   ]
  },
  {
   "cell_type": "code",
   "execution_count": 12,
   "id": "bad024db-ff40-416d-8af3-058f722410ec",
   "metadata": {},
   "outputs": [],
   "source": [
    "p = Person.model_validate(data)"
   ]
  },
  {
   "cell_type": "code",
   "execution_count": 13,
   "id": "591de551-c83d-4342-a566-fb0c71a884b2",
   "metadata": {},
   "outputs": [
    {
     "data": {
      "text/plain": [
       "Person(first_name='John', last_name='Doe', age=21)"
      ]
     },
     "execution_count": 13,
     "metadata": {},
     "output_type": "execute_result"
    }
   ],
   "source": [
    "p"
   ]
  },
  {
   "cell_type": "code",
   "execution_count": 14,
   "id": "addfb96e-b427-4df4-ae00-357404104b7a",
   "metadata": {},
   "outputs": [],
   "source": [
    "missing_data = {\"last_name\": \"Jones\"}"
   ]
  },
  {
   "cell_type": "code",
   "execution_count": 15,
   "id": "141cff0e-9554-4c2c-8e30-2bd85d7b8630",
   "metadata": {},
   "outputs": [
    {
     "name": "stdout",
     "output_type": "stream",
     "text": [
      "2 validation errors for Person\n",
      "first_name\n",
      "  Field required [type=missing, input_value={'last_name': 'Jones'}, input_type=dict]\n",
      "    For further information visit https://errors.pydantic.dev/2.3/v/missing\n",
      "age\n",
      "  Field required [type=missing, input_value={'last_name': 'Jones'}, input_type=dict]\n",
      "    For further information visit https://errors.pydantic.dev/2.3/v/missing\n"
     ]
    }
   ],
   "source": [
    "try:\n",
    "    Person.model_validate(missing_data)\n",
    "except ValidationError as e:\n",
    "    print(e)"
   ]
  },
  {
   "cell_type": "markdown",
   "id": "7ad209c5-9b3b-4e7d-8c0e-ba33ce5f097b",
   "metadata": {},
   "source": [
    "### Deserializing a json string"
   ]
  },
  {
   "cell_type": "code",
   "execution_count": 26,
   "id": "4d4e91bd-eddb-4b81-9168-2e08de3a39de",
   "metadata": {},
   "outputs": [],
   "source": [
    "json_data = '''{\"first_name\": \"John\", \n",
    "\"last_name\": \"Doe\", \n",
    "\"age\": 21\n",
    "}\n",
    "'''"
   ]
  },
  {
   "cell_type": "code",
   "execution_count": 27,
   "id": "5c9330bb-604d-4020-8897-fe592c1d2c53",
   "metadata": {},
   "outputs": [
    {
     "data": {
      "text/plain": [
       "'{\"first_name\": \"John\", \\n\"last_name\": \"Doe\", \\n\"age\": 21\\n}\\n'"
      ]
     },
     "execution_count": 27,
     "metadata": {},
     "output_type": "execute_result"
    }
   ],
   "source": [
    "json_data"
   ]
  },
  {
   "cell_type": "code",
   "execution_count": 28,
   "id": "277e1d3d-95f6-48c1-bf31-7037be063f63",
   "metadata": {},
   "outputs": [
    {
     "data": {
      "text/plain": [
       "Person(first_name='John', last_name='Doe', age=21)"
      ]
     },
     "execution_count": 28,
     "metadata": {},
     "output_type": "execute_result"
    }
   ],
   "source": [
    "Person.model_validate_json(json_data)"
   ]
  },
  {
   "cell_type": "code",
   "execution_count": null,
   "id": "559e6de5-0f8e-4668-8898-caf9101bc1ab",
   "metadata": {},
   "outputs": [],
   "source": []
  }
 ],
 "metadata": {
  "kernelspec": {
   "display_name": "py311",
   "language": "python",
   "name": "pytorch"
  },
  "language_info": {
   "codemirror_mode": {
    "name": "ipython",
    "version": 3
   },
   "file_extension": ".py",
   "mimetype": "text/x-python",
   "name": "python",
   "nbconvert_exporter": "python",
   "pygments_lexer": "ipython3",
   "version": "3.11.4"
  }
 },
 "nbformat": 4,
 "nbformat_minor": 5
}
