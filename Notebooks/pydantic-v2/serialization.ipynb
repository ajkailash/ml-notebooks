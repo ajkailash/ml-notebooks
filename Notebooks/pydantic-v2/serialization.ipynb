{
 "cells": [
  {
   "cell_type": "code",
   "execution_count": 1,
   "id": "2266013d-1cd9-4cce-92a7-96715f37d1cf",
   "metadata": {},
   "outputs": [],
   "source": [
    "from pydantic import BaseModel"
   ]
  },
  {
   "cell_type": "code",
   "execution_count": 2,
   "id": "240e337b-c5ce-408b-b619-942664cf44ec",
   "metadata": {},
   "outputs": [],
   "source": [
    "class Person(BaseModel):\n",
    "    first_name: str\n",
    "    last_name: str\n",
    "    age: int"
   ]
  },
  {
   "cell_type": "code",
   "execution_count": 4,
   "id": "de3478e8-57f5-4221-90f6-7aab1368ed43",
   "metadata": {},
   "outputs": [],
   "source": [
    "x = Person(first_name=\"John\", last_name=\"Doe\", age=21)\n",
    "y = Person(first_name=\"Jane\", last_name=\"Smith\", age=20)"
   ]
  },
  {
   "cell_type": "code",
   "execution_count": 6,
   "id": "0b78b9e0-f557-410b-8abc-8b843ff3b4af",
   "metadata": {},
   "outputs": [
    {
     "data": {
      "text/plain": [
       "{'first_name': 'John', 'last_name': 'Doe', 'age': 21}"
      ]
     },
     "execution_count": 6,
     "metadata": {},
     "output_type": "execute_result"
    }
   ],
   "source": [
    "#serialize to a python dict\n",
    "x.model_dump()"
   ]
  },
  {
   "cell_type": "code",
   "execution_count": 7,
   "id": "c645963e-a052-49ed-9142-b9c7ecae42d7",
   "metadata": {},
   "outputs": [
    {
     "data": {
      "text/plain": [
       "'{\"first_name\":\"John\",\"last_name\":\"Doe\",\"age\":21}'"
      ]
     },
     "execution_count": 7,
     "metadata": {},
     "output_type": "execute_result"
    }
   ],
   "source": [
    "#serialize to a json string\n",
    "x.model_dump_json()"
   ]
  },
  {
   "cell_type": "code",
   "execution_count": 9,
   "id": "a5ef8477-0dd1-4614-94fb-f774ee28701b",
   "metadata": {},
   "outputs": [
    {
     "name": "stdout",
     "output_type": "stream",
     "text": [
      "{\n",
      " \"first_name\": \"Jane\",\n",
      " \"last_name\": \"Smith\"\n",
      "}\n"
     ]
    }
   ],
   "source": [
    "#model_dump_json() method uses the json/.dumps() method. It accepts additional args like indedent\n",
    "#you can also exclude/include keys\n",
    "\n",
    "print(y.model_dump_json(indent=1, exclude=[\"age\"]))"
   ]
  },
  {
   "cell_type": "code",
   "execution_count": null,
   "id": "cb55354a-00e4-4b9f-8d6e-57dca5dc4487",
   "metadata": {},
   "outputs": [],
   "source": []
  }
 ],
 "metadata": {
  "kernelspec": {
   "display_name": "py311",
   "language": "python",
   "name": "pytorch"
  },
  "language_info": {
   "codemirror_mode": {
    "name": "ipython",
    "version": 3
   },
   "file_extension": ".py",
   "mimetype": "text/x-python",
   "name": "python",
   "nbconvert_exporter": "python",
   "pygments_lexer": "ipython3",
   "version": "3.11.4"
  }
 },
 "nbformat": 4,
 "nbformat_minor": 5
}
