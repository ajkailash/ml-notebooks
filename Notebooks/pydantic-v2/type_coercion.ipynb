{
 "cells": [
  {
   "cell_type": "markdown",
   "id": "490000a1-449d-4385-a2a5-bd21a74d364d",
   "metadata": {},
   "source": [
    "## Type Coercion"
   ]
  },
  {
   "cell_type": "code",
   "execution_count": 9,
   "id": "5e83990a-65a6-4920-97f0-d4b5a2c95de7",
   "metadata": {},
   "outputs": [],
   "source": [
    "from pydantic import BaseModel"
   ]
  },
  {
   "cell_type": "code",
   "execution_count": 10,
   "id": "6f8de59b-e509-4ddc-9fe0-307299bba84b",
   "metadata": {},
   "outputs": [],
   "source": [
    "class Coordinates(BaseModel):\n",
    "    x: float\n",
    "    y: float"
   ]
  },
  {
   "cell_type": "code",
   "execution_count": 14,
   "id": "22e991f6-f7f2-438c-9dea-ab8fc58969a3",
   "metadata": {},
   "outputs": [],
   "source": [
    "points = Coordinates(x=1, y=\"2.5\")"
   ]
  },
  {
   "cell_type": "code",
   "execution_count": 16,
   "id": "e55f4312-d4f0-4a62-9e0d-7b1dd9d2c90d",
   "metadata": {},
   "outputs": [
    {
     "data": {
      "text/plain": [
       "(1.0, 2.5)"
      ]
     },
     "execution_count": 16,
     "metadata": {},
     "output_type": "execute_result"
    }
   ],
   "source": [
    "points.x, points.y"
   ]
  },
  {
   "cell_type": "code",
   "execution_count": null,
   "id": "faf56b6f-88c2-4cc0-a99a-ea11f728aaa8",
   "metadata": {},
   "outputs": [],
   "source": []
  }
 ],
 "metadata": {
  "kernelspec": {
   "display_name": "py311",
   "language": "python",
   "name": "pytorch"
  },
  "language_info": {
   "codemirror_mode": {
    "name": "ipython",
    "version": 3
   },
   "file_extension": ".py",
   "mimetype": "text/x-python",
   "name": "python",
   "nbconvert_exporter": "python",
   "pygments_lexer": "ipython3",
   "version": "3.11.4"
  }
 },
 "nbformat": 4,
 "nbformat_minor": 5
}
