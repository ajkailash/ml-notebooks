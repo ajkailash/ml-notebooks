{
 "cells": [
  {
   "cell_type": "markdown",
   "id": "dca59f45-4938-42fc-989c-ea550b937bf4",
   "metadata": {},
   "source": [
    "### Creating a Pydantic Model"
   ]
  },
  {
   "cell_type": "code",
   "execution_count": 19,
   "id": "ccced9f3-4d82-4afe-9ee3-dddb0249248d",
   "metadata": {},
   "outputs": [],
   "source": [
    "from pydantic import BaseModel, ValidationError"
   ]
  },
  {
   "cell_type": "code",
   "execution_count": 2,
   "id": "c357052a-2e9e-4caf-b83e-d2db6391e3ea",
   "metadata": {},
   "outputs": [],
   "source": [
    "class Person(BaseModel):\n",
    "    first_name: str\n",
    "    last_name: str\n",
    "    age: int"
   ]
  },
  {
   "cell_type": "code",
   "execution_count": 3,
   "id": "cdfd0285-a0ba-4cd2-a7dd-011734961442",
   "metadata": {},
   "outputs": [],
   "source": [
    "p = Person(first_name=\"John\", last_name=\"doe\", age=21)"
   ]
  },
  {
   "cell_type": "code",
   "execution_count": 5,
   "id": "f2d2f032-9e43-47fc-bd8f-a1854d631c57",
   "metadata": {},
   "outputs": [
    {
     "data": {
      "text/plain": [
       "\"Person(first_name='John', last_name='doe', age=21)\""
      ]
     },
     "execution_count": 5,
     "metadata": {},
     "output_type": "execute_result"
    }
   ],
   "source": [
    "repr(p)"
   ]
  },
  {
   "cell_type": "code",
   "execution_count": 8,
   "id": "ffe3d3b6-23dd-4e52-aa1d-66fb89920695",
   "metadata": {},
   "outputs": [
    {
     "data": {
      "text/plain": [
       "{'first_name': FieldInfo(annotation=str, required=True),\n",
       " 'last_name': FieldInfo(annotation=str, required=True),\n",
       " 'age': FieldInfo(annotation=int, required=True)}"
      ]
     },
     "execution_count": 8,
     "metadata": {},
     "output_type": "execute_result"
    }
   ],
   "source": [
    "p.model_fields"
   ]
  },
  {
   "cell_type": "code",
   "execution_count": 11,
   "id": "a615b503-e73c-4283-a6ae-a3cbc67afdd5",
   "metadata": {},
   "outputs": [
    {
     "data": {
      "text/plain": [
       "'John'"
      ]
     },
     "execution_count": 11,
     "metadata": {},
     "output_type": "execute_result"
    }
   ],
   "source": [
    "p.first_name"
   ]
  },
  {
   "cell_type": "code",
   "execution_count": 12,
   "id": "f3cef800-8acd-4281-ad76-8b02fda1c630",
   "metadata": {},
   "outputs": [
    {
     "data": {
      "text/plain": [
       "'doe'"
      ]
     },
     "execution_count": 12,
     "metadata": {},
     "output_type": "execute_result"
    }
   ],
   "source": [
    "p.last_name"
   ]
  },
  {
   "cell_type": "code",
   "execution_count": 14,
   "id": "f4d9ef0f-56ba-4018-8f1d-588937406676",
   "metadata": {},
   "outputs": [],
   "source": [
    "p.age = \"twenty one\""
   ]
  },
  {
   "cell_type": "code",
   "execution_count": 16,
   "id": "8f12f1ee-9a31-4942-adcc-a702f2faf0a1",
   "metadata": {},
   "outputs": [
    {
     "data": {
      "text/plain": [
       "Person(first_name='John', last_name='doe', age='twenty one')"
      ]
     },
     "execution_count": 16,
     "metadata": {},
     "output_type": "execute_result"
    }
   ],
   "source": [
    "p"
   ]
  },
  {
   "cell_type": "code",
   "execution_count": 18,
   "id": "e2ce5c7b-20f4-4c97-bf29-e6805d2093d5",
   "metadata": {},
   "outputs": [
    {
     "name": "stdout",
     "output_type": "stream",
     "text": [
      "2 validation errors for Person\n",
      "last_name\n",
      "  Field required [type=missing, input_value={'first_name': 'Alex'}, input_type=dict]\n",
      "    For further information visit https://errors.pydantic.dev/2.3/v/missing\n",
      "age\n",
      "  Field required [type=missing, input_value={'first_name': 'Alex'}, input_type=dict]\n",
      "    For further information visit https://errors.pydantic.dev/2.3/v/missing\n"
     ]
    }
   ],
   "source": [
    "try:\n",
    "    p1 = Person(first_name=\"Alex\")\n",
    "except ValidationError as e:\n",
    "    print(e)"
   ]
  },
  {
   "cell_type": "code",
   "execution_count": null,
   "id": "b3f45143-c9f9-473f-bc46-1cefe26b03db",
   "metadata": {},
   "outputs": [],
   "source": []
  }
 ],
 "metadata": {
  "kernelspec": {
   "display_name": "py311",
   "language": "python",
   "name": "pytorch"
  },
  "language_info": {
   "codemirror_mode": {
    "name": "ipython",
    "version": 3
   },
   "file_extension": ".py",
   "mimetype": "text/x-python",
   "name": "python",
   "nbconvert_exporter": "python",
   "pygments_lexer": "ipython3",
   "version": "3.11.4"
  }
 },
 "nbformat": 4,
 "nbformat_minor": 5
}
