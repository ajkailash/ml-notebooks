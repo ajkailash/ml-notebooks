{
 "cells": [
  {
   "cell_type": "code",
   "execution_count": 10,
   "id": "8b2522f8-fceb-44b3-b20b-c7a850b7c0c1",
   "metadata": {},
   "outputs": [],
   "source": [
    "from pydantic import BaseModel, ValidationError\n",
    "from datetime import date\n",
    "from typing import Union"
   ]
  },
  {
   "cell_type": "code",
   "execution_count": 5,
   "id": "d46e7297-ef12-44f1-9def-07bbc2eda5ae",
   "metadata": {},
   "outputs": [],
   "source": [
    "data = {\n",
    "    \"manufacturer\": \"BMW\",\n",
    "    \"series_name\": \"M4\",\n",
    "    \"type_\": \"Convertible\",\n",
    "    \"is_electric\": False,\n",
    "    \"manufactured_date\": \"2023-01-01\",\n",
    "    \"base_msrp_usd\": 93_300,\n",
    "    \"vin\": \"1234567890\",\n",
    "    \"number_of_doors\": 2,\n",
    "    \"registration_country\": \"France\",\n",
    "    \"license_plate\": \"AAA-BBB\",\n",
    "}"
   ]
  },
  {
   "cell_type": "code",
   "execution_count": 11,
   "id": "c621891c-05a7-4319-83cb-de39c12bb872",
   "metadata": {},
   "outputs": [],
   "source": [
    "class Automobile(BaseModel):\n",
    "    manufacturer: str\n",
    "    series_name: str\n",
    "    type_: str\n",
    "    is_electric: bool = False\n",
    "    manufactured_date: date\n",
    "    base_msrp_usd: float\n",
    "    vin: str\n",
    "    number_of_doors: int = 4\n",
    "    registration_country: Union[str, None] = None\n",
    "    license_plate: Union[str, None] = None"
   ]
  },
  {
   "cell_type": "code",
   "execution_count": 12,
   "id": "3e7503fa-e9d3-42e8-b825-cc81a01750c3",
   "metadata": {},
   "outputs": [],
   "source": [
    "#deserialization"
   ]
  },
  {
   "cell_type": "code",
   "execution_count": 13,
   "id": "e1de94a0-04c0-4fa1-8e4b-2f2dfdb8dcca",
   "metadata": {},
   "outputs": [],
   "source": [
    "try:\n",
    "    a1 = Automobile.model_validate(data)\n",
    "except ValidationError as e:\n",
    "    print(e)"
   ]
  },
  {
   "cell_type": "code",
   "execution_count": 8,
   "id": "61a4ad97-942f-4259-b6e5-4835a1b8a8ac",
   "metadata": {},
   "outputs": [
    {
     "data": {
      "text/plain": [
       "Automobile(manufacturer='BMW', series_name='M4', type_='Convertible', is_electric=False, manufactured_date=datetime.date(2023, 1, 1), base_msrp_usd=93300.0, vin='1234567890', number_of_doors=2, registration_country='France', license_plate='AAA-BBB')"
      ]
     },
     "execution_count": 8,
     "metadata": {},
     "output_type": "execute_result"
    }
   ],
   "source": [
    "a1"
   ]
  },
  {
   "cell_type": "code",
   "execution_count": 9,
   "id": "46f0d2fe-a9fc-42dc-884f-6861b2613927",
   "metadata": {},
   "outputs": [
    {
     "data": {
      "text/plain": [
       "{'manufacturer': 'BMW',\n",
       " 'series_name': 'M4',\n",
       " 'type_': 'Convertible',\n",
       " 'is_electric': False,\n",
       " 'manufactured_date': datetime.date(2023, 1, 1),\n",
       " 'base_msrp_usd': 93300.0,\n",
       " 'vin': '1234567890',\n",
       " 'number_of_doors': 2,\n",
       " 'registration_country': 'France',\n",
       " 'license_plate': 'AAA-BBB'}"
      ]
     },
     "execution_count": 9,
     "metadata": {},
     "output_type": "execute_result"
    }
   ],
   "source": [
    "a1.model_dump()"
   ]
  },
  {
   "cell_type": "code",
   "execution_count": null,
   "id": "ced39e29-eb7d-4da6-bb86-6a09624cd3e1",
   "metadata": {},
   "outputs": [],
   "source": []
  }
 ],
 "metadata": {
  "kernelspec": {
   "display_name": "py311",
   "language": "python",
   "name": "pytorch"
  },
  "language_info": {
   "codemirror_mode": {
    "name": "ipython",
    "version": 3
   },
   "file_extension": ".py",
   "mimetype": "text/x-python",
   "name": "python",
   "nbconvert_exporter": "python",
   "pygments_lexer": "ipython3",
   "version": "3.11.4"
  }
 },
 "nbformat": 4,
 "nbformat_minor": 5
}
