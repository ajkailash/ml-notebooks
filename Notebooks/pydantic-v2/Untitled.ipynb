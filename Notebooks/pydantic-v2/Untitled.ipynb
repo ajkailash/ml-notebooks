{
 "cells": [
  {
   "cell_type": "code",
   "execution_count": 8,
   "id": "b089224d-208e-4dad-8da4-249de3628fe7",
   "metadata": {},
   "outputs": [],
   "source": [
    "from pydantic import BaseModel, ValidationError\n",
    "from typing import Union, Optional\n",
    "from pprint import pprint"
   ]
  },
  {
   "cell_type": "code",
   "execution_count": 2,
   "id": "e5398b6b-54c3-4bfe-ae91-502c0ba1d131",
   "metadata": {},
   "outputs": [],
   "source": [
    "class Model(BaseModel):\n",
    "    name: Optional[str] = None\n",
    "    description: Optional[str] = None \n",
    "    unit_price: Optional[Union[float, str]] = None\n",
    "    quantiy : Optional[int] = None \n",
    "    amount: Optional[Union[float, str]] = None"
   ]
  },
  {
   "cell_type": "code",
   "execution_count": 10,
   "id": "38eae1a4-74b6-4f59-9b8c-45cbb21b4839",
   "metadata": {},
   "outputs": [],
   "source": [
    "data_dict = {\"name\": \"floral cotton dress\", \n",
    "\"quantity\": 2, \n",
    "\"unit_price\": 10.50, \n",
    "\"amount\": 21.00}"
   ]
  },
  {
   "cell_type": "code",
   "execution_count": 11,
   "id": "552b5d17-8766-4326-8c88-77af7b8cf630",
   "metadata": {},
   "outputs": [],
   "source": [
    "try:\n",
    "    m = Model.model_validate(data_dict)\n",
    "except ValidationError as e:\n",
    "    print(e)"
   ]
  },
  {
   "cell_type": "code",
   "execution_count": 12,
   "id": "00ce66fc-024e-409d-b272-b43e1f95d411",
   "metadata": {},
   "outputs": [
    {
     "data": {
      "text/plain": [
       "Model(name='floral cotton dress', description=None, unit_price=10.5, quantiy=None, amount=21.0)"
      ]
     },
     "execution_count": 12,
     "metadata": {},
     "output_type": "execute_result"
    }
   ],
   "source": [
    "m"
   ]
  },
  {
   "cell_type": "code",
   "execution_count": 13,
   "id": "a4098c6d-5e90-4228-880d-ec1aa088bc5f",
   "metadata": {},
   "outputs": [
    {
     "name": "stdout",
     "output_type": "stream",
     "text": [
      "{'properties': {'amount': {'anyOf': [{'type': 'number'},\n",
      "                                     {'type': 'string'},\n",
      "                                     {'type': 'null'}],\n",
      "                           'default': None,\n",
      "                           'title': 'Amount'},\n",
      "                'description': {'anyOf': [{'type': 'string'}, {'type': 'null'}],\n",
      "                                'default': None,\n",
      "                                'title': 'Description'},\n",
      "                'name': {'anyOf': [{'type': 'string'}, {'type': 'null'}],\n",
      "                         'default': None,\n",
      "                         'title': 'Name'},\n",
      "                'quantiy': {'anyOf': [{'type': 'integer'}, {'type': 'null'}],\n",
      "                            'default': None,\n",
      "                            'title': 'Quantiy'},\n",
      "                'unit_price': {'anyOf': [{'type': 'number'},\n",
      "                                         {'type': 'string'},\n",
      "                                         {'type': 'null'}],\n",
      "                               'default': None,\n",
      "                               'title': 'Unit Price'}},\n",
      " 'title': 'Model',\n",
      " 'type': 'object'}\n"
     ]
    }
   ],
   "source": [
    "pprint(Model.model_json_schema())"
   ]
  },
  {
   "cell_type": "code",
   "execution_count": null,
   "id": "23a75564-526f-4180-ba36-529a0b650cc1",
   "metadata": {},
   "outputs": [],
   "source": []
  }
 ],
 "metadata": {
  "kernelspec": {
   "display_name": "py311",
   "language": "python",
   "name": "pytorch"
  },
  "language_info": {
   "codemirror_mode": {
    "name": "ipython",
    "version": 3
   },
   "file_extension": ".py",
   "mimetype": "text/x-python",
   "name": "python",
   "nbconvert_exporter": "python",
   "pygments_lexer": "ipython3",
   "version": "3.11.4"
  }
 },
 "nbformat": 4,
 "nbformat_minor": 5
}
