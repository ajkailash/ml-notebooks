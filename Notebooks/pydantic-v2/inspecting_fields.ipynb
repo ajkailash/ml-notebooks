{
 "cells": [
  {
   "cell_type": "code",
   "execution_count": 6,
   "id": "156427c9-5e0e-430e-aaec-cfa7339e7a31",
   "metadata": {},
   "outputs": [],
   "source": [
    "from pydantic import BaseModel, ValidationError\n",
    "from typing import Union"
   ]
  },
  {
   "cell_type": "code",
   "execution_count": 20,
   "id": "a112689c-7f11-4d39-b297-dc5d656cd44c",
   "metadata": {},
   "outputs": [],
   "source": [
    "class Circle(BaseModel):\n",
    "    center_x: int = 0\n",
    "    center_y: int = 0\n",
    "    radius: int = 1\n",
    "    name: Union[str, None] = None"
   ]
  },
  {
   "cell_type": "code",
   "execution_count": 21,
   "id": "9dce24b3-6d43-4221-9687-e2fa86a6710c",
   "metadata": {},
   "outputs": [],
   "source": [
    "c1 = Circle(radius=2)\n",
    "c2 = Circle(name=\"unit_circle\")"
   ]
  },
  {
   "cell_type": "code",
   "execution_count": 22,
   "id": "b2324586-479a-43a3-98ab-33085e0a6979",
   "metadata": {},
   "outputs": [
    {
     "data": {
      "text/plain": [
       "Circle(center_x=0, center_y=0, radius=2, name=None)"
      ]
     },
     "execution_count": 22,
     "metadata": {},
     "output_type": "execute_result"
    }
   ],
   "source": [
    "c1"
   ]
  },
  {
   "cell_type": "code",
   "execution_count": 23,
   "id": "04843957-1dbd-4c38-b554-09b65dea0c55",
   "metadata": {},
   "outputs": [
    {
     "data": {
      "text/plain": [
       "Circle(center_x=0, center_y=0, radius=1, name='unit_circle')"
      ]
     },
     "execution_count": 23,
     "metadata": {},
     "output_type": "execute_result"
    }
   ],
   "source": [
    "c2"
   ]
  },
  {
   "cell_type": "code",
   "execution_count": 25,
   "id": "dc397618-a1af-484c-b336-02098755e871",
   "metadata": {},
   "outputs": [
    {
     "data": {
      "text/plain": [
       "{'radius'}"
      ]
     },
     "execution_count": 25,
     "metadata": {},
     "output_type": "execute_result"
    }
   ],
   "source": [
    "c1.model_fields_set"
   ]
  },
  {
   "cell_type": "code",
   "execution_count": 26,
   "id": "62327793-2414-435e-bca0-0874410e0d4b",
   "metadata": {},
   "outputs": [
    {
     "data": {
      "text/plain": [
       "{'name'}"
      ]
     },
     "execution_count": 26,
     "metadata": {},
     "output_type": "execute_result"
    }
   ],
   "source": [
    "c2.model_fields_set"
   ]
  },
  {
   "cell_type": "code",
   "execution_count": 33,
   "id": "e1426758-5c18-4892-9daf-24b4aa137365",
   "metadata": {},
   "outputs": [
    {
     "data": {
      "text/plain": [
       "{'center_x', 'center_y', 'name'}"
      ]
     },
     "execution_count": 33,
     "metadata": {},
     "output_type": "execute_result"
    }
   ],
   "source": [
    "c1.model_fields.keys() - c1.model_fields_set"
   ]
  },
  {
   "cell_type": "code",
   "execution_count": 32,
   "id": "e86f1005-2938-4230-945d-045f3e293a8e",
   "metadata": {},
   "outputs": [
    {
     "data": {
      "text/plain": [
       "{'radius'}"
      ]
     },
     "execution_count": 32,
     "metadata": {},
     "output_type": "execute_result"
    }
   ],
   "source": []
  },
  {
   "cell_type": "code",
   "execution_count": 34,
   "id": "55131888-dd0e-471c-8723-116e2c23c02e",
   "metadata": {},
   "outputs": [
    {
     "data": {
      "text/plain": [
       "{'radius': 2}"
      ]
     },
     "execution_count": 34,
     "metadata": {},
     "output_type": "execute_result"
    }
   ],
   "source": [
    "c1.model_dump(include=c1.model_fields_set)"
   ]
  },
  {
   "cell_type": "code",
   "execution_count": null,
   "id": "5aeeb087-9d0b-416b-8a5b-09bfa77c18d9",
   "metadata": {},
   "outputs": [],
   "source": []
  }
 ],
 "metadata": {
  "kernelspec": {
   "display_name": "py311",
   "language": "python",
   "name": "pytorch"
  },
  "language_info": {
   "codemirror_mode": {
    "name": "ipython",
    "version": 3
   },
   "file_extension": ".py",
   "mimetype": "text/x-python",
   "name": "python",
   "nbconvert_exporter": "python",
   "pygments_lexer": "ipython3",
   "version": "3.11.4"
  }
 },
 "nbformat": 4,
 "nbformat_minor": 5
}
