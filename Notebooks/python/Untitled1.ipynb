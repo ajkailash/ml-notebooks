{
 "cells": [
  {
   "cell_type": "code",
   "execution_count": 1,
   "id": "8242e969-55c6-4ed2-b850-0fbfe753bfa4",
   "metadata": {},
   "outputs": [],
   "source": [
    "#what is a closure \n",
    "#inner function with its free variable"
   ]
  },
  {
   "cell_type": "code",
   "execution_count": 15,
   "id": "7c6f84e2-0f21-4a3e-9fcc-ce47435925c5",
   "metadata": {},
   "outputs": [],
   "source": [
    "#what are we returning?\n",
    "# inner function with the free variable (closure)\n",
    "def outer():\n",
    "    x = \"python\" #non-local variable or free varibale\n",
    "    def inner():\n",
    "        print(f\"{x} rocks!!\")\n",
    "    return inner"
   ]
  },
  {
   "cell_type": "code",
   "execution_count": 16,
   "id": "85cd7d70-a95f-4eb1-b14b-d067393a3bb6",
   "metadata": {},
   "outputs": [],
   "source": [
    "ret_fn = outer()"
   ]
  },
  {
   "cell_type": "code",
   "execution_count": 17,
   "id": "595b1ff8-ab9d-4723-833c-4ee33da8bec1",
   "metadata": {},
   "outputs": [
    {
     "data": {
      "text/plain": [
       "(<cell at 0x107d827d0: str object at 0x104908af0>,)"
      ]
     },
     "execution_count": 17,
     "metadata": {},
     "output_type": "execute_result"
    }
   ],
   "source": [
    "ret_fn.__closure__"
   ]
  },
  {
   "cell_type": "code",
   "execution_count": 4,
   "id": "6aacfb8e-926c-48b3-980c-ab8a3891c43a",
   "metadata": {},
   "outputs": [
    {
     "name": "stdout",
     "output_type": "stream",
     "text": [
      "python rocks!!\n"
     ]
    }
   ],
   "source": [
    "ret_fn()"
   ]
  },
  {
   "cell_type": "code",
   "execution_count": 11,
   "id": "053b53e0-d894-4739-8879-67b05051081d",
   "metadata": {},
   "outputs": [],
   "source": [
    "def outer_fn():\n",
    "    count = 0\n",
    "    def inner_fn():\n",
    "        nonlocal count\n",
    "        count += 1\n",
    "        return count\n",
    "    return inner_fn"
   ]
  },
  {
   "cell_type": "code",
   "execution_count": 12,
   "id": "3b2b2908-bf3f-48ad-8abc-cbeabc26eb41",
   "metadata": {},
   "outputs": [],
   "source": [
    "ret_fn = outer_fn()"
   ]
  },
  {
   "cell_type": "code",
   "execution_count": 13,
   "id": "8ab845a0-9069-4b37-af67-4a4aa552e527",
   "metadata": {},
   "outputs": [
    {
     "data": {
      "text/plain": [
       "1"
      ]
     },
     "execution_count": 13,
     "metadata": {},
     "output_type": "execute_result"
    }
   ],
   "source": [
    "ret_fn()"
   ]
  },
  {
   "cell_type": "code",
   "execution_count": null,
   "id": "082a2061-2d40-4d31-b8e1-e25a15cf2e07",
   "metadata": {},
   "outputs": [],
   "source": []
  },
  {
   "cell_type": "code",
   "execution_count": 14,
   "id": "9480501f-14f7-485a-8d83-c28ccceeab7d",
   "metadata": {},
   "outputs": [],
   "source": [
    "def averager():\n",
    "    numbers = []\n",
    "    def add(number):\n",
    "        numbers.append(number)\n",
    "        return sum(numbers)/len(numbers)\n",
    "    return add"
   ]
  },
  {
   "cell_type": "code",
   "execution_count": 15,
   "id": "a5105872-e655-49db-831b-d04ac658762a",
   "metadata": {},
   "outputs": [],
   "source": [
    "fn = averager()"
   ]
  },
  {
   "cell_type": "code",
   "execution_count": 19,
   "id": "25d35abd-d103-42e6-9495-4b9cd5a4334a",
   "metadata": {},
   "outputs": [],
   "source": [
    "from time import perf_counter"
   ]
  },
  {
   "cell_type": "code",
   "execution_count": 30,
   "id": "8af1c9f4-39bf-49d6-b1bc-1cdb9e5ec7e2",
   "metadata": {},
   "outputs": [],
   "source": [
    "class Timer:\n",
    "    def __init__(self):\n",
    "        self.start = perf_counter()\n",
    "\n",
    "    def __call__(self):\n",
    "        return perf_counter() - self.start"
   ]
  },
  {
   "cell_type": "code",
   "execution_count": 31,
   "id": "6520fc66-9ceb-46d7-8025-dd4b983fcf93",
   "metadata": {},
   "outputs": [],
   "source": [
    "t1 = Timer()"
   ]
  },
  {
   "cell_type": "code",
   "execution_count": 32,
   "id": "cdc1d6bc-2916-4d0e-b628-972886a99cfe",
   "metadata": {},
   "outputs": [
    {
     "data": {
      "text/plain": [
       "3.1975857919314876"
      ]
     },
     "execution_count": 32,
     "metadata": {},
     "output_type": "execute_result"
    }
   ],
   "source": [
    "t1()"
   ]
  },
  {
   "cell_type": "code",
   "execution_count": 52,
   "id": "7e2bf917-af36-4681-b1af-178c4efa316f",
   "metadata": {},
   "outputs": [],
   "source": [
    "def timer():\n",
    "    start_time = perf_counter()\n",
    "    def poll():\n",
    "        return perf_counter() - start_time\n",
    "    return poll"
   ]
  },
  {
   "cell_type": "code",
   "execution_count": 53,
   "id": "67d33622-96ca-43a9-868d-b0282c08eb44",
   "metadata": {},
   "outputs": [],
   "source": [
    "f1 = timer()"
   ]
  },
  {
   "cell_type": "code",
   "execution_count": 55,
   "id": "233b92fe-111c-4d85-b5d9-3e18798546d6",
   "metadata": {},
   "outputs": [
    {
     "data": {
      "text/plain": [
       "3.0950157499173656"
      ]
     },
     "execution_count": 55,
     "metadata": {},
     "output_type": "execute_result"
    }
   ],
   "source": [
    "f1()"
   ]
  },
  {
   "cell_type": "code",
   "execution_count": 68,
   "id": "a4f4c053-0a27-466e-a9ff-ccf3076bfb7d",
   "metadata": {},
   "outputs": [],
   "source": [
    "def counter(initial_val=0):\n",
    "    def inc(increment=1):\n",
    "        nonlocal initial_val\n",
    "        initial_val = initial_val + increment\n",
    "        return initial_val\n",
    "    return inc"
   ]
  },
  {
   "cell_type": "code",
   "execution_count": 69,
   "id": "e0703ecd-eaf9-46f5-83ce-c0fa92625d0b",
   "metadata": {},
   "outputs": [],
   "source": [
    "fn = counter()"
   ]
  },
  {
   "cell_type": "code",
   "execution_count": 72,
   "id": "431f9e44-f188-46af-8e5b-bca54872fcfc",
   "metadata": {},
   "outputs": [
    {
     "data": {
      "text/plain": [
       "3"
      ]
     },
     "execution_count": 72,
     "metadata": {},
     "output_type": "execute_result"
    }
   ],
   "source": [
    "fn()"
   ]
  },
  {
   "cell_type": "code",
   "execution_count": null,
   "id": "4a4c431f-bbb0-4b7f-8f3e-a97b3b075005",
   "metadata": {},
   "outputs": [],
   "source": []
  }
 ],
 "metadata": {
  "kernelspec": {
   "display_name": "Python 3 (ipykernel)",
   "language": "python",
   "name": "python3"
  },
  "language_info": {
   "codemirror_mode": {
    "name": "ipython",
    "version": 3
   },
   "file_extension": ".py",
   "mimetype": "text/x-python",
   "name": "python",
   "nbconvert_exporter": "python",
   "pygments_lexer": "ipython3",
   "version": "3.11.4"
  }
 },
 "nbformat": 4,
 "nbformat_minor": 5
}
