{
 "cells": [
  {
   "cell_type": "markdown",
   "id": "209988ab-29bd-4394-be22-b1e777621579",
   "metadata": {},
   "source": [
    "## Reduce"
   ]
  },
  {
   "cell_type": "markdown",
   "id": "4ca5ac8d-19f8-4010-929b-d2eabf795af0",
   "metadata": {},
   "source": [
    "- Takes a function and an interable as arguments an returns a single value.\n",
    "- The output is a result of reducing the iterable to a single value using the function"
   ]
  },
  {
   "cell_type": "markdown",
   "id": "403b5717-b649-43b8-b9dc-3139477318c1",
   "metadata": {},
   "source": [
    "### Basic example"
   ]
  },
  {
   "cell_type": "code",
   "execution_count": 1,
   "id": "af6a69bc-931b-4ec1-bfe6-de1d5b26f053",
   "metadata": {},
   "outputs": [],
   "source": [
    "def reduce_fn(fn, seq):\n",
    "    result = seq[0]\n",
    "    for n in seq[1:]:\n",
    "        result = fn(result, n)\n",
    "    return result"
   ]
  },
  {
   "cell_type": "code",
   "execution_count": 2,
   "id": "f4c65702-4d1e-4cff-aad5-9516e495d538",
   "metadata": {},
   "outputs": [],
   "source": [
    "seq = [2, 1, 7, 5, 10, 9]"
   ]
  },
  {
   "cell_type": "code",
   "execution_count": 4,
   "id": "7b9323f5-14ea-4aaa-b71e-6db02d8c9ce2",
   "metadata": {},
   "outputs": [
    {
     "name": "stdout",
     "output_type": "stream",
     "text": [
      "1\n",
      "10\n",
      "34\n"
     ]
    }
   ],
   "source": [
    "#get min\n",
    "min_val = reduce_fn(lambda a, b: a if a<b else b, seq)\n",
    "print(min_val)\n",
    "\n",
    "#get max\n",
    "max_val = reduce_fn(lambda a, b: a if a>b else b, seq)\n",
    "print(max_val)\n",
    "\n",
    "#add elements\n",
    "sum_out = reduce_fn(lambda a, b: a+b, seq)\n",
    "print(sum_out)"
   ]
  },
  {
   "cell_type": "markdown",
   "id": "b26e632f-29e0-40e8-9013-2db128413fef",
   "metadata": {},
   "source": [
    "### Using reduction function"
   ]
  },
  {
   "cell_type": "code",
   "execution_count": 9,
   "id": "93f620cd-db16-4624-8efd-301552e16286",
   "metadata": {},
   "outputs": [],
   "source": [
    "from functools import reduce"
   ]
  },
  {
   "cell_type": "code",
   "execution_count": 11,
   "id": "d6252903-f43c-4d7d-9259-e4118cd1f7c4",
   "metadata": {},
   "outputs": [
    {
     "data": {
      "text/plain": [
       "1"
      ]
     },
     "execution_count": 11,
     "metadata": {},
     "output_type": "execute_result"
    }
   ],
   "source": [
    "reduce(lambda a, b: a if a<b else b, seq)"
   ]
  },
  {
   "cell_type": "code",
   "execution_count": null,
   "id": "56b47cc3-eb2a-48f4-ad55-db60e4cfe0a5",
   "metadata": {},
   "outputs": [],
   "source": []
  }
 ],
 "metadata": {
  "kernelspec": {
   "display_name": "py311",
   "language": "python",
   "name": "pytorch"
  },
  "language_info": {
   "codemirror_mode": {
    "name": "ipython",
    "version": 3
   },
   "file_extension": ".py",
   "mimetype": "text/x-python",
   "name": "python",
   "nbconvert_exporter": "python",
   "pygments_lexer": "ipython3",
   "version": "3.11.4"
  }
 },
 "nbformat": 4,
 "nbformat_minor": 5
}
