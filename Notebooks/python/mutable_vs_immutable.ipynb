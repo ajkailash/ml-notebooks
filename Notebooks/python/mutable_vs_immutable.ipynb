{
 "cells": [
  {
   "cell_type": "markdown",
   "id": "5fe67252-2dd8-44c4-b4a4-15d0b1ef8662",
   "metadata": {},
   "source": [
    "# Mutable vs Immutable\n",
    "- An object whose internal state can be changed is called mutable\n",
    "\n",
    "- An object whose internal state cannont be changed is called immutable"
   ]
  },
  {
   "cell_type": "markdown",
   "id": "c41f86e8-1c17-4b2b-96dc-c75cbaf195ed",
   "metadata": {},
   "source": [
    "## List of immutable objects\n",
    "- int\n",
    "- str\n",
    "- tuple\n",
    "- frozen sets\n",
    "\n",
    "## List of mutable objects\n",
    "- list\n",
    "- dict\n",
    "- set"
   ]
  },
  {
   "cell_type": "code",
   "execution_count": 1,
   "id": "e0707c20-4fcb-49e5-850a-4dbb119fb38f",
   "metadata": {},
   "outputs": [
    {
     "name": "stdout",
     "output_type": "stream",
     "text": [
      "4363261168\n",
      "4367926768\n"
     ]
    }
   ],
   "source": [
    "# Example with strings (immutable)\n",
    "# Diffrent address spaces\n",
    "s = \"hello\"\n",
    "print(id(s))\n",
    "s = s + \"world\"\n",
    "print(id(s))"
   ]
  },
  {
   "cell_type": "code",
   "execution_count": 4,
   "id": "72c10237-b6c0-4478-93ed-f3408f80d40b",
   "metadata": {},
   "outputs": [
    {
     "name": "stdout",
     "output_type": "stream",
     "text": [
      "4374668608\n",
      "4374668608\n"
     ]
    }
   ],
   "source": [
    "#Example with list (mutuable)\n",
    "#same address space when using the append method\n",
    "my_list = [1, 2, 3]\n",
    "print(id(my_list))\n",
    "my_list.append(4)\n",
    "print(id(my_list))"
   ]
  },
  {
   "cell_type": "code",
   "execution_count": 11,
   "id": "06bc08a0-a62f-408f-bb3a-97bbdcc2ec1c",
   "metadata": {},
   "outputs": [
    {
     "name": "stdout",
     "output_type": "stream",
     "text": [
      "4374562944\n",
      "4374562944\n"
     ]
    }
   ],
   "source": [
    "#Example with dictionary\n",
    "#same id\n",
    "my_dict = dict(k1=1, k2=2, k3=3)\n",
    "print(id(my_dict))\n",
    "my_dict['k3'] = 10\n",
    "print(id(my_dict))"
   ]
  },
  {
   "cell_type": "code",
   "execution_count": null,
   "id": "44a26224-3c87-440c-a8c6-646a1186c842",
   "metadata": {},
   "outputs": [],
   "source": []
  }
 ],
 "metadata": {
  "kernelspec": {
   "display_name": "py311",
   "language": "python",
   "name": "pytorch"
  },
  "language_info": {
   "codemirror_mode": {
    "name": "ipython",
    "version": 3
   },
   "file_extension": ".py",
   "mimetype": "text/x-python",
   "name": "python",
   "nbconvert_exporter": "python",
   "pygments_lexer": "ipython3",
   "version": "3.11.4"
  }
 },
 "nbformat": 4,
 "nbformat_minor": 5
}
