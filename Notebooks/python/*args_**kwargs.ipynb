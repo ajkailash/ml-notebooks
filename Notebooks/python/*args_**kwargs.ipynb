{
 "cells": [
  {
   "cell_type": "markdown",
   "id": "fc9bb5e6-96d3-418d-8274-9e6276452956",
   "metadata": {},
   "source": [
    "### simple function with positional args"
   ]
  },
  {
   "cell_type": "code",
   "execution_count": 27,
   "id": "9bb5d266-725d-4b33-abb5-4b0ddaa95917",
   "metadata": {},
   "outputs": [],
   "source": [
    "def func(a, b, c):\n",
    "    print(a)\n",
    "    print(b)\n",
    "    print(c)"
   ]
  },
  {
   "cell_type": "code",
   "execution_count": 32,
   "id": "6f6a710b-99a0-4ce4-8c64-b9bf305bb92d",
   "metadata": {},
   "outputs": [
    {
     "ename": "SyntaxError",
     "evalue": "positional argument follows keyword argument (2980884139.py, line 2)",
     "output_type": "error",
     "traceback": [
      "\u001b[0;36m  Cell \u001b[0;32mIn[32], line 2\u001b[0;36m\u001b[0m\n\u001b[0;31m    func(a=1, b=2, 3)\u001b[0m\n\u001b[0m                    ^\u001b[0m\n\u001b[0;31mSyntaxError\u001b[0m\u001b[0;31m:\u001b[0m positional argument follows keyword argument\n"
     ]
    }
   ],
   "source": [
    "#postinal args cannot follow keyword args\n",
    "func(a=1, b=2, 3)"
   ]
  },
  {
   "cell_type": "code",
   "execution_count": 33,
   "id": "a4677da3-527b-4aaf-91f6-d0f7c5cc9e3d",
   "metadata": {},
   "outputs": [
    {
     "name": "stdout",
     "output_type": "stream",
     "text": [
      "1\n",
      "2\n",
      "3\n"
     ]
    }
   ],
   "source": [
    "#keyword args can take any order\n",
    "func(c=3, b=2, a=1)"
   ]
  },
  {
   "cell_type": "code",
   "execution_count": 35,
   "id": "1edd24d7-d451-4f5f-a3c1-d467cac4df40",
   "metadata": {},
   "outputs": [],
   "source": [
    "def func1(a, b, *args):\n",
    "    print(a)\n",
    "    print(b)\n",
    "    print(args)"
   ]
  },
  {
   "cell_type": "code",
   "execution_count": 43,
   "id": "78729cc9-5f29-4dd2-b2f2-aaf1e2ddd053",
   "metadata": {},
   "outputs": [
    {
     "name": "stdout",
     "output_type": "stream",
     "text": [
      "1\n",
      "2\n",
      "(3, 4, 5, 6)\n"
     ]
    }
   ],
   "source": [
    "#*args exhausts all positional args\n",
    "#forces to use keyword arfs\n",
    "func1(1, 2, 3, 4, 5, 6)"
   ]
  },
  {
   "cell_type": "code",
   "execution_count": 39,
   "id": "0840286c-b162-4c19-875e-31678b4ec23c",
   "metadata": {},
   "outputs": [],
   "source": [
    "def func2(a, b, *args, d):\n",
    "    print(a)\n",
    "    print(b)\n",
    "    print(args)\n",
    "    print(d)"
   ]
  },
  {
   "cell_type": "code",
   "execution_count": 42,
   "id": "7bf575cc-98b8-44fd-8b02-6669afbe4a60",
   "metadata": {},
   "outputs": [
    {
     "name": "stdout",
     "output_type": "stream",
     "text": [
      "1\n",
      "2\n",
      "(3, 4, 5)\n",
      "6\n"
     ]
    }
   ],
   "source": [
    "func2(1, 2, 3, 4, 5, d=6)"
   ]
  },
  {
   "cell_type": "code",
   "execution_count": null,
   "id": "38552713-9be6-4117-85b2-c2fa3e80db2b",
   "metadata": {},
   "outputs": [],
   "source": [
    "#None or arbitary number of positional args\n",
    "#one mandatory keyword arg"
   ]
  },
  {
   "cell_type": "code",
   "execution_count": 45,
   "id": "01a0bb90-682f-4677-b82c-670095f0442c",
   "metadata": {},
   "outputs": [],
   "source": [
    "def func3(*args, d):\n",
    "    print(args)\n",
    "    print(d)"
   ]
  },
  {
   "cell_type": "code",
   "execution_count": 48,
   "id": "59d81c4b-623e-411f-9ab2-7d3d333c718e",
   "metadata": {},
   "outputs": [
    {
     "name": "stdout",
     "output_type": "stream",
     "text": [
      "(1, 2, 3)\n",
      "10\n"
     ]
    }
   ],
   "source": [
    "func3(1, 2, 3, d=\"10\")"
   ]
  },
  {
   "cell_type": "code",
   "execution_count": 49,
   "id": "1f0c6141-487a-4696-aa34-82fa3f5add4d",
   "metadata": {},
   "outputs": [],
   "source": [
    "#zero positional args"
   ]
  },
  {
   "cell_type": "code",
   "execution_count": 50,
   "id": "0c37611f-c597-4e7c-a601-c96f677465ff",
   "metadata": {},
   "outputs": [],
   "source": [
    "def func4(*, a):\n",
    "    print(a)"
   ]
  },
  {
   "cell_type": "code",
   "execution_count": 52,
   "id": "140660b9-318d-44b0-95a9-bc47c11c40e1",
   "metadata": {},
   "outputs": [
    {
     "name": "stdout",
     "output_type": "stream",
     "text": [
      "2\n"
     ]
    }
   ],
   "source": [
    "func4(a=2)"
   ]
  },
  {
   "cell_type": "code",
   "execution_count": 54,
   "id": "bb813823-fa85-4cbd-94cf-60082c2d1cd1",
   "metadata": {},
   "outputs": [],
   "source": [
    "#no positional args\n",
    "#one keyword only arg\n",
    "#**kwargs arbitary number of kwargs\n",
    "def new_func(*, d, **kwargs):\n",
    "    print(d, kwargs)"
   ]
  },
  {
   "cell_type": "code",
   "execution_count": 55,
   "id": "b01ad91d-c6e7-452b-8e1c-f145ede470c4",
   "metadata": {},
   "outputs": [
    {
     "name": "stdout",
     "output_type": "stream",
     "text": [
      "0 {'a': 1, 'b': 2}\n"
     ]
    }
   ],
   "source": [
    "new_func(d=0, a=1, b=2)"
   ]
  },
  {
   "cell_type": "code",
   "execution_count": null,
   "id": "134b756b-adf6-4605-bdf8-80e196107307",
   "metadata": {},
   "outputs": [],
   "source": []
  }
 ],
 "metadata": {
  "kernelspec": {
   "display_name": "py311",
   "language": "python",
   "name": "pytorch"
  },
  "language_info": {
   "codemirror_mode": {
    "name": "ipython",
    "version": 3
   },
   "file_extension": ".py",
   "mimetype": "text/x-python",
   "name": "python",
   "nbconvert_exporter": "python",
   "pygments_lexer": "ipython3",
   "version": "3.11.4"
  }
 },
 "nbformat": 4,
 "nbformat_minor": 5
}
