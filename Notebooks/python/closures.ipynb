{
 "cells": [
  {
   "cell_type": "code",
   "execution_count": 5,
   "id": "044f4225-cce2-49d6-915e-988f5a08b388",
   "metadata": {},
   "outputs": [],
   "source": [
    "def outer():\n",
    "    x = \"python\"\n",
    "    def inner():\n",
    "        print(f\"{x} rocks!\")\n",
    "    return inner"
   ]
  },
  {
   "cell_type": "code",
   "execution_count": 6,
   "id": "a149f0ed-86f5-4052-bc09-3410a4e579bb",
   "metadata": {},
   "outputs": [],
   "source": [
    "func = outer()"
   ]
  },
  {
   "cell_type": "code",
   "execution_count": 8,
   "id": "0f9a2d5d-603f-41fc-b6ec-d5bc742db2cf",
   "metadata": {},
   "outputs": [
    {
     "name": "stdout",
     "output_type": "stream",
     "text": [
      "python rocks!\n"
     ]
    }
   ],
   "source": [
    "func()"
   ]
  },
  {
   "cell_type": "code",
   "execution_count": null,
   "id": "92c30dc0-839c-4b9d-acf6-681b27fbb47e",
   "metadata": {},
   "outputs": [],
   "source": []
  }
 ],
 "metadata": {
  "kernelspec": {
   "display_name": "py311",
   "language": "python",
   "name": "pytorch"
  },
  "language_info": {
   "codemirror_mode": {
    "name": "ipython",
    "version": 3
   },
   "file_extension": ".py",
   "mimetype": "text/x-python",
   "name": "python",
   "nbconvert_exporter": "python",
   "pygments_lexer": "ipython3",
   "version": "3.11.4"
  }
 },
 "nbformat": 4,
 "nbformat_minor": 5
}
