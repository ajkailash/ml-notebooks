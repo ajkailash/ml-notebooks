{
 "cells": [
  {
   "cell_type": "code",
   "execution_count": 4,
   "id": "d49d8a48-4243-468f-a9ed-c0e4ff8faf98",
   "metadata": {},
   "outputs": [],
   "source": [
    "#passing functions as args\n",
    "# function as first-class objects\n",
    "# They can be passed as arguments\n",
    "# returned by other functions\n",
    "# they can be assigned to variables"
   ]
  },
  {
   "cell_type": "code",
   "execution_count": 6,
   "id": "29d91c71-eff0-4aa5-8485-45bff978b703",
   "metadata": {},
   "outputs": [],
   "source": [
    "import random"
   ]
  },
  {
   "cell_type": "code",
   "execution_count": 11,
   "id": "a7fc93b4-5c8a-4971-b2a7-5e7e7768c6db",
   "metadata": {},
   "outputs": [],
   "source": [
    "#decorated function\n",
    "def gen_num():\n",
    "    num_list = list(range(0, 100, 2))\n",
    "    return random.sample(num_list, 1)[0]"
   ]
  },
  {
   "cell_type": "code",
   "execution_count": 18,
   "id": "fbb306db-5e58-4238-8a48-f730e6df2533",
   "metadata": {},
   "outputs": [],
   "source": [
    "# decorated function\n",
    "def add_num(a, b):\n",
    "    return a + b"
   ]
  },
  {
   "cell_type": "code",
   "execution_count": 19,
   "id": "bc364608-bc3a-43df-849c-313cd41d9365",
   "metadata": {},
   "outputs": [],
   "source": [
    "# decorator\n",
    "def add_one_decorator(func):\n",
    "    def add_one(*args, **kwargs):\n",
    "        val = func(*args, **kwargs)\n",
    "        return val + 1\n",
    "    return add_one"
   ]
  },
  {
   "cell_type": "code",
   "execution_count": null,
   "id": "435b8aaa-a2e0-4f3e-8e2b-e4f5d235b6f3",
   "metadata": {},
   "outputs": [],
   "source": []
  }
 ],
 "metadata": {
  "kernelspec": {
   "display_name": "py311",
   "language": "python",
   "name": "pytorch"
  },
  "language_info": {
   "codemirror_mode": {
    "name": "ipython",
    "version": 3
   },
   "file_extension": ".py",
   "mimetype": "text/x-python",
   "name": "python",
   "nbconvert_exporter": "python",
   "pygments_lexer": "ipython3",
   "version": "3.11.4"
  }
 },
 "nbformat": 4,
 "nbformat_minor": 5
}
