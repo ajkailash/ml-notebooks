{
 "cells": [
  {
   "cell_type": "markdown",
   "id": "af2795bd-2755-4dc5-9bae-addfcb81dcce",
   "metadata": {},
   "source": [
    "## Higher-order functions"
   ]
  },
  {
   "cell_type": "markdown",
   "id": "72679b95-3c6a-4d4b-bf30-5e7d71ca7cdc",
   "metadata": {},
   "source": [
    "- A higher-order function is a function that takes a function as arguments and/or return a function as its return value.\n",
    "- Example: Sorted, Map, Filter"
   ]
  },
  {
   "cell_type": "markdown",
   "id": "4b5d2744-f1be-4ef2-b382-9f723be0fd90",
   "metadata": {},
   "source": [
    "### Basic example"
   ]
  },
  {
   "cell_type": "code",
   "execution_count": 1,
   "id": "ad049837-6a25-4554-8392-98909fea67c4",
   "metadata": {},
   "outputs": [],
   "source": [
    "def cube(x):\n",
    "    return x ** 3"
   ]
  },
  {
   "cell_type": "code",
   "execution_count": 5,
   "id": "f3704370-08bd-42e9-a511-d685b6d710cc",
   "metadata": {},
   "outputs": [],
   "source": [
    "#Her apply_to_each is a higher-order function\n",
    "def apply_to_each(func, iterable):\n",
    "    return [func(i) for i in iterable]"
   ]
  },
  {
   "cell_type": "code",
   "execution_count": 6,
   "id": "439b560c-e56d-48d1-b61c-69a9e4766435",
   "metadata": {},
   "outputs": [
    {
     "data": {
      "text/plain": [
       "[0, 1, 8, 27, 64]"
      ]
     },
     "execution_count": 6,
     "metadata": {},
     "output_type": "execute_result"
    }
   ],
   "source": [
    "apply_to_each(cube, range(5))"
   ]
  },
  {
   "cell_type": "markdown",
   "id": "1f4d4ecb-5a54-458d-8bda-7068bd57a5d3",
   "metadata": {},
   "source": [
    "### Map"
   ]
  },
  {
   "cell_type": "markdown",
   "id": "13dea266-392c-4e59-8698-eb9f7df678a1",
   "metadata": {},
   "source": [
    "map(func, *iterables)\n",
    "- *iterables = variable number of iterable objects\n",
    "- Some function that takes as many parameters as there are iterable objects passed to iterables"
   ]
  },
  {
   "cell_type": "code",
   "execution_count": 11,
   "id": "8102c74d-a530-4ade-9e8b-8d3c538d0c82",
   "metadata": {},
   "outputs": [],
   "source": [
    "#Number of iterables 1\n",
    "def square(x):\n",
    "    return x ** 2"
   ]
  },
  {
   "cell_type": "code",
   "execution_count": 12,
   "id": "61dd8901-2192-47f9-a3db-75329745a72a",
   "metadata": {},
   "outputs": [],
   "source": [
    "l = [1, 2, 3]"
   ]
  },
  {
   "cell_type": "code",
   "execution_count": 13,
   "id": "4b60ec95-3b95-478b-8bf4-cf59ed6d2c3c",
   "metadata": {},
   "outputs": [
    {
     "data": {
      "text/plain": [
       "[1, 4, 9]"
      ]
     },
     "execution_count": 13,
     "metadata": {},
     "output_type": "execute_result"
    }
   ],
   "source": [
    "list(map(square, l))"
   ]
  },
  {
   "cell_type": "code",
   "execution_count": 14,
   "id": "631b58b2-30f7-42e4-90c0-e7fb4a6d41cc",
   "metadata": {},
   "outputs": [],
   "source": [
    "#number of iterables 2\n",
    "def add_list(x1, x2):\n",
    "    return x1 + x2"
   ]
  },
  {
   "cell_type": "code",
   "execution_count": 15,
   "id": "7aa67a48-e2fb-475d-89c9-99fe0b1b2449",
   "metadata": {},
   "outputs": [],
   "source": [
    "l1 = [1, 2, 3]\n",
    "l2 = [4, 5, 6]"
   ]
  },
  {
   "cell_type": "code",
   "execution_count": 16,
   "id": "d4b2f228-074f-4655-b65f-323e6907eebb",
   "metadata": {},
   "outputs": [
    {
     "data": {
      "text/plain": [
       "[5, 7, 9]"
      ]
     },
     "execution_count": 16,
     "metadata": {},
     "output_type": "execute_result"
    }
   ],
   "source": [
    "list(map(add_list, l1, l2))"
   ]
  },
  {
   "cell_type": "markdown",
   "id": "bc5968a9-51e7-4691-b91a-715289bf8c89",
   "metadata": {},
   "source": [
    "## Filter"
   ]
  },
  {
   "cell_type": "markdown",
   "id": "a73bce89-de78-4008-bd8e-20824b217eb8",
   "metadata": {},
   "source": [
    "filter(func, iterable)\n",
    "- iterable: a single iterable\n",
    "- Some function that takes a single parameter"
   ]
  },
  {
   "cell_type": "code",
   "execution_count": 20,
   "id": "5ff49fdb-76a0-4d52-8d1a-7ef1ce79cdbc",
   "metadata": {},
   "outputs": [],
   "source": [
    "def is_even(i):\n",
    "    return i % 2 ==0"
   ]
  },
  {
   "cell_type": "code",
   "execution_count": 21,
   "id": "120e5aed-ad78-4d47-8c67-75bd65538c7d",
   "metadata": {},
   "outputs": [],
   "source": [
    "num_list = [1, 2, 3, 4, 5, 6, 7, 8, 9]"
   ]
  },
  {
   "cell_type": "code",
   "execution_count": 23,
   "id": "62bf2678-8af5-4127-bc99-4fd173ba2355",
   "metadata": {},
   "outputs": [
    {
     "data": {
      "text/plain": [
       "[2, 4, 6, 8]"
      ]
     },
     "execution_count": 23,
     "metadata": {},
     "output_type": "execute_result"
    }
   ],
   "source": [
    "list(filter(is_even, num_list))"
   ]
  },
  {
   "cell_type": "markdown",
   "id": "d6fd8185-fb5a-49cb-81ee-1f8e105bff8d",
   "metadata": {},
   "source": [
    "### More examples"
   ]
  },
  {
   "cell_type": "code",
   "execution_count": 7,
   "id": "d0791c55-9bd1-45f1-9a13-f4de6feb3369",
   "metadata": {},
   "outputs": [],
   "source": [
    "def rec_factorial(n):\n",
    "    if n < 2:\n",
    "        return 1\n",
    "    else:\n",
    "        return n * rec_factorial(n -1)"
   ]
  },
  {
   "cell_type": "code",
   "execution_count": 11,
   "id": "bb2792f5-8ee7-4904-b9cd-92a0d1b6be88",
   "metadata": {},
   "outputs": [],
   "source": [
    "results = map(rec_factorial, range(6))"
   ]
  },
  {
   "cell_type": "code",
   "execution_count": 13,
   "id": "e34b9e2d-a435-4449-97a2-6661828d32f5",
   "metadata": {},
   "outputs": [
    {
     "name": "stdout",
     "output_type": "stream",
     "text": [
      "1\n",
      "1\n",
      "2\n",
      "6\n",
      "24\n",
      "120\n"
     ]
    }
   ],
   "source": [
    "for i in results:\n",
    "    print(i)"
   ]
  },
  {
   "cell_type": "code",
   "execution_count": 14,
   "id": "a1ea0272-ff25-4bc7-952c-99620c588779",
   "metadata": {},
   "outputs": [],
   "source": [
    "for i in results:\n",
    "    print(i)"
   ]
  },
  {
   "cell_type": "code",
   "execution_count": null,
   "id": "5e0824eb-b4c9-49d7-a1de-5e8151f13677",
   "metadata": {},
   "outputs": [],
   "source": []
  }
 ],
 "metadata": {
  "kernelspec": {
   "display_name": "py311",
   "language": "python",
   "name": "pytorch"
  },
  "language_info": {
   "codemirror_mode": {
    "name": "ipython",
    "version": 3
   },
   "file_extension": ".py",
   "mimetype": "text/x-python",
   "name": "python",
   "nbconvert_exporter": "python",
   "pygments_lexer": "ipython3",
   "version": "3.11.4"
  }
 },
 "nbformat": 4,
 "nbformat_minor": 5
}
