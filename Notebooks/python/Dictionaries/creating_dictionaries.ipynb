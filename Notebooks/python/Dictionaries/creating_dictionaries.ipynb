{
 "cells": [
  {
   "cell_type": "markdown",
   "id": "2b099795-40e7-4816-b3ac-ddc9dbd95a71",
   "metadata": {},
   "source": [
    "### creating dictionary using literals"
   ]
  },
  {
   "cell_type": "code",
   "execution_count": 1,
   "id": "97327b0d-cfa1-4912-aa66-f184b67eee3e",
   "metadata": {},
   "outputs": [],
   "source": [
    "a = {\"k1\": 100, \"k2\": 200}"
   ]
  },
  {
   "cell_type": "code",
   "execution_count": 3,
   "id": "f0a5e7b3-42ac-48c6-8639-53d0912e4afe",
   "metadata": {},
   "outputs": [
    {
     "name": "stdout",
     "output_type": "stream",
     "text": [
      "{'k1': 100, 'k2': 200}\n"
     ]
    }
   ],
   "source": [
    "print(a)"
   ]
  },
  {
   "cell_type": "code",
   "execution_count": 4,
   "id": "96b5ae11-18c1-4ba7-a54b-85d90cf3b7e3",
   "metadata": {},
   "outputs": [
    {
     "name": "stdout",
     "output_type": "stream",
     "text": [
      "<class 'dict'>\n"
     ]
    }
   ],
   "source": [
    "print(type(a))"
   ]
  },
  {
   "cell_type": "markdown",
   "id": "4c109eff-eed1-48fd-a83e-ff233407ebe8",
   "metadata": {},
   "source": [
    "### tuples are hashable (so they can be used as keys)"
   ]
  },
  {
   "cell_type": "code",
   "execution_count": 23,
   "id": "fe6abd4b-c2b1-4bb1-aca1-30a42f35ba65",
   "metadata": {},
   "outputs": [
    {
     "data": {
      "text/plain": [
       "'this is a tuple'"
      ]
     },
     "execution_count": 23,
     "metadata": {},
     "output_type": "execute_result"
    }
   ],
   "source": [
    "hash((1, 2, 3))\n",
    "d = {(1, 2, 3): \"this is a tuple\"}\n",
    "d[(1, 2, 3)]"
   ]
  },
  {
   "cell_type": "code",
   "execution_count": 24,
   "id": "4e5f7eb7-5286-48c8-9bfb-4f04c3ebe46e",
   "metadata": {},
   "outputs": [],
   "source": [
    "#hash returned for the same object is deterministic\n",
    "t1 = (1, 2, 3)\n",
    "t2 = (1, 2, 3)"
   ]
  },
  {
   "cell_type": "code",
   "execution_count": 25,
   "id": "702982a8-29a4-406b-8426-436e126bdc32",
   "metadata": {},
   "outputs": [
    {
     "data": {
      "text/plain": [
       "True"
      ]
     },
     "execution_count": 25,
     "metadata": {},
     "output_type": "execute_result"
    }
   ],
   "source": [
    "t1 == t2\n",
    "hash(t1) == hash(t2)"
   ]
  },
  {
   "cell_type": "markdown",
   "id": "02805c0f-cb46-4dc5-a492-c4b0f6ee9565",
   "metadata": {},
   "source": [
    "### functions are also hashable"
   ]
  },
  {
   "cell_type": "code",
   "execution_count": 26,
   "id": "2c1596e9-54d4-4a68-9697-78144455e4b1",
   "metadata": {},
   "outputs": [],
   "source": [
    "def my_func(a, b):\n",
    "    print(a, b)"
   ]
  },
  {
   "cell_type": "code",
   "execution_count": 28,
   "id": "e1e922c8-b330-45a3-931e-15843c9a722c",
   "metadata": {},
   "outputs": [],
   "source": [
    "def fn_add(a, b):\n",
    "    return a + b\n",
    "\n",
    "def fn_inv(a):\n",
    "    return 1 / a\n",
    "\n",
    "def fn_mult(a, b):\n",
    "    return a * b"
   ]
  },
  {
   "cell_type": "code",
   "execution_count": 30,
   "id": "537becc2-989c-4eb3-86dd-26113717dbd8",
   "metadata": {},
   "outputs": [],
   "source": [
    "funcs = {fn_add: (10, 20), fn_inv: (5,), fn_mult: (7, 5)}"
   ]
  },
  {
   "cell_type": "code",
   "execution_count": 32,
   "id": "02afc9c2-6f2c-41eb-bb5b-233700a515ac",
   "metadata": {},
   "outputs": [
    {
     "name": "stdout",
     "output_type": "stream",
     "text": [
      "30\n",
      "0.2\n",
      "35\n"
     ]
    }
   ],
   "source": [
    "for fn in funcs:\n",
    "    print(fn(*funcs[fn]))"
   ]
  },
  {
   "cell_type": "code",
   "execution_count": 34,
   "id": "808a0dd7-dc76-40d8-bfbc-1889407d4a71",
   "metadata": {},
   "outputs": [
    {
     "name": "stdout",
     "output_type": "stream",
     "text": [
      "30\n",
      "0.2\n",
      "35\n"
     ]
    }
   ],
   "source": [
    "for fn, args in funcs.items():\n",
    "    print(fn(*args))"
   ]
  },
  {
   "cell_type": "markdown",
   "id": "569af655-50cf-4359-bc76-9f4af5d3aa8e",
   "metadata": {},
   "source": [
    "### Using the dict class"
   ]
  },
  {
   "cell_type": "code",
   "execution_count": 35,
   "id": "8876161f-2be0-435b-9dcd-0b3e01e6cf7f",
   "metadata": {},
   "outputs": [
    {
     "data": {
      "text/plain": [
       "{'x': 100, 'y': 20}"
      ]
     },
     "execution_count": 35,
     "metadata": {},
     "output_type": "execute_result"
    }
   ],
   "source": [
    "dict(x=100, y=20)"
   ]
  },
  {
   "cell_type": "code",
   "execution_count": 36,
   "id": "703ae70d-b663-4d8d-a266-bf2b80336729",
   "metadata": {},
   "outputs": [
    {
     "data": {
      "text/plain": [
       "{'x': 100, 'y': 200}"
      ]
     },
     "execution_count": 36,
     "metadata": {},
     "output_type": "execute_result"
    }
   ],
   "source": [
    "dict([(\"x\", 100), (\"y\", 200)])"
   ]
  },
  {
   "cell_type": "code",
   "execution_count": 38,
   "id": "ee1893f2-e544-4e5a-ae92-75177893846c",
   "metadata": {},
   "outputs": [],
   "source": [
    "x_coords = [-2, -1, 0, 1, 2]\n",
    "y_coords = [-2, -1, 0, 1, 2]"
   ]
  },
  {
   "cell_type": "code",
   "execution_count": 41,
   "id": "467cec51-3414-46b7-83c0-015db6d7597d",
   "metadata": {},
   "outputs": [],
   "source": [
    "grid = [(x, y) for x in x_coords for y in y_coords]"
   ]
  },
  {
   "cell_type": "code",
   "execution_count": 40,
   "id": "64077f69-8ace-41a4-a190-80518552c46b",
   "metadata": {},
   "outputs": [],
   "source": [
    "import math"
   ]
  },
  {
   "cell_type": "code",
   "execution_count": 44,
   "id": "4eb4065a-fcc6-4299-ad53-2f2ce6210677",
   "metadata": {},
   "outputs": [
    {
     "data": {
      "text/plain": [
       "{(-2, -2): 2.8284271247461903,\n",
       " (-2, -1): 2.23606797749979,\n",
       " (-2, 0): 2.0,\n",
       " (-2, 1): 2.23606797749979,\n",
       " (-2, 2): 2.8284271247461903,\n",
       " (-1, -2): 2.23606797749979,\n",
       " (-1, -1): 1.4142135623730951,\n",
       " (-1, 0): 1.0,\n",
       " (-1, 1): 1.4142135623730951,\n",
       " (-1, 2): 2.23606797749979,\n",
       " (0, -2): 2.0,\n",
       " (0, -1): 1.0,\n",
       " (0, 0): 0.0,\n",
       " (0, 1): 1.0,\n",
       " (0, 2): 2.0,\n",
       " (1, -2): 2.23606797749979,\n",
       " (1, -1): 1.4142135623730951,\n",
       " (1, 0): 1.0,\n",
       " (1, 1): 1.4142135623730951,\n",
       " (1, 2): 2.23606797749979,\n",
       " (2, -2): 2.8284271247461903,\n",
       " (2, -1): 2.23606797749979,\n",
       " (2, 0): 2.0,\n",
       " (2, 1): 2.23606797749979,\n",
       " (2, 2): 2.8284271247461903}"
      ]
     },
     "execution_count": 44,
     "metadata": {},
     "output_type": "execute_result"
    }
   ],
   "source": [
    "{(x, y):math.hypot(x, y) for x, y in grid}"
   ]
  },
  {
   "cell_type": "code",
   "execution_count": null,
   "id": "694358ee-b08b-4e74-a3ca-ebc25def14f8",
   "metadata": {},
   "outputs": [],
   "source": []
  }
 ],
 "metadata": {
  "kernelspec": {
   "display_name": "py311",
   "language": "python",
   "name": "pytorch"
  },
  "language_info": {
   "codemirror_mode": {
    "name": "ipython",
    "version": 3
   },
   "file_extension": ".py",
   "mimetype": "text/x-python",
   "name": "python",
   "nbconvert_exporter": "python",
   "pygments_lexer": "ipython3",
   "version": "3.11.4"
  }
 },
 "nbformat": 4,
 "nbformat_minor": 5
}
