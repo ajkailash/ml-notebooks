{
 "cells": [
  {
   "cell_type": "code",
   "execution_count": 1,
   "id": "20540403-73da-4c5b-ace4-4ff397674b01",
   "metadata": {},
   "outputs": [],
   "source": [
    "#passing an iterable to a dict constructor"
   ]
  },
  {
   "cell_type": "code",
   "execution_count": 5,
   "id": "0a0e9da3-6479-478c-ac7c-ddb3209cc097",
   "metadata": {},
   "outputs": [],
   "source": [
    "d = dict(zip(\"abc\", range(1, 4)))"
   ]
  },
  {
   "cell_type": "code",
   "execution_count": 8,
   "id": "2daa94a2-e0f4-4af8-97ed-32188defe83a",
   "metadata": {},
   "outputs": [
    {
     "data": {
      "text/plain": [
       "3"
      ]
     },
     "execution_count": 8,
     "metadata": {},
     "output_type": "execute_result"
    }
   ],
   "source": [
    "len(d) #number of items in the dict"
   ]
  },
  {
   "cell_type": "code",
   "execution_count": 14,
   "id": "45ad2e4d-25ab-4cfa-8eef-a6b69ea0b204",
   "metadata": {},
   "outputs": [
    {
     "data": {
      "text/plain": [
       "1"
      ]
     },
     "execution_count": 14,
     "metadata": {},
     "output_type": "execute_result"
    }
   ],
   "source": [
    "result = d.get(\"d\")\n",
    "d.get(\"a\", 'N/A')"
   ]
  },
  {
   "cell_type": "code",
   "execution_count": 13,
   "id": "8183881b-c4b4-40b0-b311-7c5f7156f73f",
   "metadata": {},
   "outputs": [
    {
     "data": {
      "text/plain": [
       "NoneType"
      ]
     },
     "execution_count": 13,
     "metadata": {},
     "output_type": "execute_result"
    }
   ],
   "source": [
    "type(result)"
   ]
  },
  {
   "cell_type": "code",
   "execution_count": 15,
   "id": "19466b2c-6b32-4725-a611-d375d780c8e7",
   "metadata": {},
   "outputs": [],
   "source": [
    "text = '''Lorem ipsum dolor sit amet, consectetur adipiscing elit, sed do eiusmod tempor incididunt ut labore et dolore magna aliqua. \n",
    "Ut enim ad minim veniam, quis nostrud exercitation ullamco laboris nisi ut aliquip ex ea commodo consequat. \n",
    "Duis aute irure dolor in reprehenderit in voluptate velit esse cillum dolore eu fugiat nulla pariatur.'''"
   ]
  },
  {
   "cell_type": "code",
   "execution_count": 24,
   "id": "696448cd-9dbe-4f42-9513-5a956a75e238",
   "metadata": {},
   "outputs": [],
   "source": [
    "counts = dict()\n",
    "for c in text:\n",
    "    key = c.lower().strip()\n",
    "    if key:\n",
    "        counts[key] = counts.get(key, 0) + 1"
   ]
  },
  {
   "cell_type": "markdown",
   "id": "71bf8f1a-60d6-4e41-a3e6-7adfc5643abf",
   "metadata": {},
   "source": [
    "### Dict from keys"
   ]
  },
  {
   "cell_type": "code",
   "execution_count": 72,
   "id": "53a3721e-41ad-4507-96c2-a0307c96dfe4",
   "metadata": {},
   "outputs": [],
   "source": [
    "# creates a new dictionary with keys from the iterable and values\n",
    "d = dict.fromkeys(\"abcd\", 0)"
   ]
  },
  {
   "cell_type": "markdown",
   "id": "ed798ede-9662-4c69-bc72-ec8e64be353b",
   "metadata": {},
   "source": [
    "### Delete key from the dictionary"
   ]
  },
  {
   "cell_type": "code",
   "execution_count": 73,
   "id": "eaa65a09-56cb-4772-b048-f18635f6f0c3",
   "metadata": {},
   "outputs": [
    {
     "data": {
      "text/plain": [
       "('d', 0)"
      ]
     },
     "execution_count": 73,
     "metadata": {},
     "output_type": "execute_result"
    }
   ],
   "source": [
    "#using a key not present in the dictionary will lead to a error\n",
    "del d[\"b\"]\n",
    "\n",
    "# you can also use pop.\n",
    "# This removes the key and returns the corresponding value\n",
    "v = d.pop(\"a\")\n",
    "v = d.pop(\"x\", \"NA\")\n",
    "\n",
    "#using .popitem()\n",
    "# returns both key and value in the LIFO order\n",
    "d.popitem()"
   ]
  },
  {
   "cell_type": "code",
   "execution_count": 74,
   "id": "814e1efd-7b22-4ed8-9d6d-0698e150e2a7",
   "metadata": {},
   "outputs": [
    {
     "data": {
      "text/plain": [
       "'NA'"
      ]
     },
     "execution_count": 74,
     "metadata": {},
     "output_type": "execute_result"
    }
   ],
   "source": [
    "v"
   ]
  },
  {
   "cell_type": "code",
   "execution_count": 35,
   "id": "b627aac1-0655-4dc3-ab96-658c52919f10",
   "metadata": {},
   "outputs": [],
   "source": [
    "categories = dict()\n",
    "for c in text:\n",
    "    if c != \" \":\n",
    "        if c in string.ascii_lowercase:\n",
    "            key = \"lower\"\n",
    "        elif c in string.ascii_uppercase:\n",
    "            key = \"upper\"\n",
    "        else:\n",
    "            key = \"other\"\n",
    "        if key not in categories:\n",
    "            categories[key] = set()\n",
    "\n",
    "        categories[key].add(c)"
   ]
  },
  {
   "cell_type": "code",
   "execution_count": null,
   "id": "9e6cf63c-dc5d-4b46-8327-0e79297286b2",
   "metadata": {},
   "outputs": [],
   "source": []
  }
 ],
 "metadata": {
  "kernelspec": {
   "display_name": "py311",
   "language": "python",
   "name": "pytorch"
  },
  "language_info": {
   "codemirror_mode": {
    "name": "ipython",
    "version": 3
   },
   "file_extension": ".py",
   "mimetype": "text/x-python",
   "name": "python",
   "nbconvert_exporter": "python",
   "pygments_lexer": "ipython3",
   "version": "3.11.4"
  }
 },
 "nbformat": 4,
 "nbformat_minor": 5
}
