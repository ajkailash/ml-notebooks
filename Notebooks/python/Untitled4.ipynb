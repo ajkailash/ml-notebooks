{
 "cells": [
  {
   "cell_type": "markdown",
   "id": "c2e17a6a-d99f-4b04-8431-193bef826b2b",
   "metadata": {},
   "source": [
    "Functions are first-class objects in python\n",
    "- Functions can be assigned to variables\n",
    "- Functions can be passed as arguments to other function, just like any other object like str, int, float, etc\n",
    "- Functions can be returned from other functions\n",
    "- Functions can be written inside another function"
   ]
  },
  {
   "cell_type": "markdown",
   "id": "c2058d9c-ac87-450d-adb3-a539cdb371ee",
   "metadata": {},
   "source": [
    "A decorator is a callable, that takes in a callable as an argument and returns another callable"
   ]
  },
  {
   "cell_type": "code",
   "execution_count": 1,
   "id": "a81c8c20-73cb-4604-a04f-78a52a27b5f7",
   "metadata": {},
   "outputs": [],
   "source": [
    "def null_decorator(func):\n",
    "    return func"
   ]
  },
  {
   "cell_type": "code",
   "execution_count": 2,
   "id": "6c912bb6-7ecc-434a-aeaa-230513817231",
   "metadata": {},
   "outputs": [],
   "source": [
    "def greet():\n",
    "    return \"hello world\""
   ]
  },
  {
   "cell_type": "code",
   "execution_count": 5,
   "id": "83467f0c-6ac3-42b7-8ee4-a40114af5ac0",
   "metadata": {},
   "outputs": [],
   "source": [
    "#unnecessary syntax\n",
    "greet = null_decorator(greet)"
   ]
  },
  {
   "cell_type": "code",
   "execution_count": 6,
   "id": "34e921f4-2d3e-4166-bd02-da193afb08de",
   "metadata": {},
   "outputs": [
    {
     "data": {
      "text/plain": [
       "'hello world'"
      ]
     },
     "execution_count": 6,
     "metadata": {},
     "output_type": "execute_result"
    }
   ],
   "source": [
    "greet()"
   ]
  },
  {
   "cell_type": "code",
   "execution_count": 7,
   "id": "a1291e0e-aec6-468c-aafc-252ef235ae04",
   "metadata": {},
   "outputs": [],
   "source": [
    "@null_decorator\n",
    "def greet():\n",
    "    return \"hello world\""
   ]
  },
  {
   "cell_type": "code",
   "execution_count": 8,
   "id": "e553e910-c85d-4f97-808e-89e093edeb99",
   "metadata": {},
   "outputs": [
    {
     "data": {
      "text/plain": [
       "'hello world'"
      ]
     },
     "execution_count": 8,
     "metadata": {},
     "output_type": "execute_result"
    }
   ],
   "source": [
    "greet()"
   ]
  },
  {
   "cell_type": "code",
   "execution_count": 9,
   "id": "943acd78-e9e6-492d-b5ca-e4d572f16d5c",
   "metadata": {},
   "outputs": [],
   "source": [
    "def uppercase_decorator(func):\n",
    "    def wrapper():\n",
    "        original_result = func()\n",
    "        return original_result.upper()\n",
    "    return wrapper"
   ]
  },
  {
   "cell_type": "code",
   "execution_count": 10,
   "id": "a658a476-5df4-4380-a0e5-6848871b0242",
   "metadata": {},
   "outputs": [],
   "source": [
    "@uppercase_decorator\n",
    "def greet():\n",
    "    return \"hello world\""
   ]
  },
  {
   "cell_type": "code",
   "execution_count": 11,
   "id": "5feb347a-c511-456b-a333-d673882e9c99",
   "metadata": {},
   "outputs": [
    {
     "data": {
      "text/plain": [
       "'HELLO WORLD'"
      ]
     },
     "execution_count": 11,
     "metadata": {},
     "output_type": "execute_result"
    }
   ],
   "source": [
    "greet()"
   ]
  },
  {
   "cell_type": "code",
   "execution_count": 12,
   "id": "dbb51301-8add-4f47-b680-fa237173f7ef",
   "metadata": {},
   "outputs": [
    {
     "data": {
      "text/plain": [
       "<function __main__.uppercase_decorator.<locals>.wrapper()>"
      ]
     },
     "execution_count": 12,
     "metadata": {},
     "output_type": "execute_result"
    }
   ],
   "source": [
    "greet"
   ]
  },
  {
   "cell_type": "markdown",
   "id": "d13730b7-5333-4f16-a1e3-87ffd53b9214",
   "metadata": {},
   "source": [
    "### Decorator stacking"
   ]
  },
  {
   "cell_type": "markdown",
   "id": "fa8dadbb-0d08-43a3-89ca-16edacd4ad3c",
   "metadata": {},
   "source": [
    "Apply more that one decorator to a function"
   ]
  },
  {
   "cell_type": "code",
   "execution_count": 21,
   "id": "7cfcca28-435b-434f-a050-9eb52f6a96db",
   "metadata": {},
   "outputs": [],
   "source": [
    "import functools"
   ]
  },
  {
   "cell_type": "code",
   "execution_count": 22,
   "id": "9f048c72-c694-49a5-98ce-deb827bad0c3",
   "metadata": {},
   "outputs": [],
   "source": [
    "def strong(func):\n",
    "    @functools.wraps(func)\n",
    "    def wrapper():\n",
    "        return '<strong>' + func() + '</strong>'\n",
    "    return wrapper\n",
    "\n",
    "def emphasis(func):\n",
    "    @functools.wraps(func)\n",
    "    def wrapper():\n",
    "        return '<em>' + func() + '</em>'\n",
    "    return wrapper"
   ]
  },
  {
   "cell_type": "code",
   "execution_count": 23,
   "id": "3e19418d-595c-467a-af2b-4583a61353ba",
   "metadata": {},
   "outputs": [],
   "source": [
    "@strong\n",
    "@emphasis\n",
    "def greet():\n",
    "    return \"hello world\""
   ]
  },
  {
   "cell_type": "code",
   "execution_count": 24,
   "id": "a4ebfa34-6d9e-449c-9e17-6427a4073186",
   "metadata": {},
   "outputs": [
    {
     "data": {
      "text/plain": [
       "'greet'"
      ]
     },
     "execution_count": 24,
     "metadata": {},
     "output_type": "execute_result"
    }
   ],
   "source": [
    "greet.__name__"
   ]
  },
  {
   "cell_type": "markdown",
   "id": "5582c1d6-402a-4de0-ba85-3243be3fe183",
   "metadata": {},
   "source": [
    "## Some Examples"
   ]
  },
  {
   "cell_type": "code",
   "execution_count": 25,
   "id": "4a190ed7-206b-4198-997e-0c24455d2610",
   "metadata": {},
   "outputs": [],
   "source": [
    "import functools"
   ]
  },
  {
   "cell_type": "code",
   "execution_count": 27,
   "id": "b79c7afb-8fe5-40fb-bb01-f9c324c1b258",
   "metadata": {},
   "outputs": [],
   "source": [
    "#general pattern\n",
    "def decorator(func):\n",
    "    @functools.wraps(func)\n",
    "    def wrapper(*args, **kwargs):\n",
    "        value = func(*args, **kwargs)\n",
    "        return value\n",
    "    return wrapper"
   ]
  },
  {
   "cell_type": "markdown",
   "id": "e5fb082e-e38d-4e13-9e44-f039fabea1aa",
   "metadata": {},
   "source": [
    "### Timer"
   ]
  },
  {
   "cell_type": "code",
   "execution_count": 28,
   "id": "da51de78-8ee7-44cf-8796-4ef0c899a12c",
   "metadata": {},
   "outputs": [],
   "source": [
    "import time"
   ]
  },
  {
   "cell_type": "code",
   "execution_count": 35,
   "id": "cb8850f6-a18f-4ae4-978a-2fa766ee5040",
   "metadata": {},
   "outputs": [],
   "source": [
    "def timer(func):\n",
    "    @functools.wraps(func)\n",
    "    def wrapper_timer(*args, **kwargs):\n",
    "        start_time = time.perf_counter()\n",
    "        value = func(*args, **kwargs)\n",
    "        end_time = time.perf_counter()\n",
    "        run_time = end_time - start_time\n",
    "        print(f\"Function {func.__name__}() finished running in {run_time:.4f} seconds\")\n",
    "        return value\n",
    "    return wrapper_timer"
   ]
  },
  {
   "cell_type": "code",
   "execution_count": 36,
   "id": "adbd8f4c-7ed1-4a72-b421-35a2f3d506b6",
   "metadata": {},
   "outputs": [],
   "source": [
    "@timer\n",
    "def some_task(num_times):\n",
    "    for _ in range(num_times):\n",
    "        sum([num**2 for num in range(1000)])"
   ]
  },
  {
   "cell_type": "code",
   "execution_count": 37,
   "id": "fab85589-28c4-40b0-bc6f-e070c46eb605",
   "metadata": {},
   "outputs": [
    {
     "name": "stdout",
     "output_type": "stream",
     "text": [
      "Function some_task() finished running in 0.0145 seconds\n"
     ]
    }
   ],
   "source": [
    "some_task(100)"
   ]
  },
  {
   "cell_type": "markdown",
   "id": "4587a232-2700-4bbb-b8a4-3271882d84b2",
   "metadata": {},
   "source": [
    "### Slowing down code"
   ]
  },
  {
   "cell_type": "code",
   "execution_count": 40,
   "id": "1cf292c5-09a6-4a69-95f1-f962a57666f0",
   "metadata": {},
   "outputs": [],
   "source": [
    "def slow_down(func):\n",
    "    def wrapper(*args, **kwargs):\n",
    "        time.sleep(1)\n",
    "        func(*args, **kwargs)\n",
    "    return wrapper"
   ]
  },
  {
   "cell_type": "code",
   "execution_count": 41,
   "id": "f26b20f8-d5ee-4b40-b8b7-da4e2291acb4",
   "metadata": {},
   "outputs": [],
   "source": [
    "@slow_down\n",
    "def countdown(from_number):\n",
    "    if from_number < 1:\n",
    "        print(\"Lift Off\")\n",
    "    else:\n",
    "        print(from_number)\n",
    "        countdown (from_number - 1)"
   ]
  },
  {
   "cell_type": "code",
   "execution_count": 43,
   "id": "9d6cd838-f845-47c0-ab94-003b54ea90e1",
   "metadata": {},
   "outputs": [
    {
     "name": "stdout",
     "output_type": "stream",
     "text": [
      "10\n",
      "9\n",
      "8\n",
      "7\n",
      "6\n",
      "5\n",
      "4\n",
      "3\n",
      "2\n",
      "1\n",
      "Lift Off\n"
     ]
    }
   ],
   "source": [
    "countdown(10)"
   ]
  },
  {
   "cell_type": "markdown",
   "id": "5df1c16e-3003-4e37-9595-7fb0e25e705b",
   "metadata": {},
   "source": [
    "### Registering Plugins"
   ]
  },
  {
   "cell_type": "code",
   "execution_count": 44,
   "id": "c4ab2052-30fb-47c2-84ba-2f715fdf74b7",
   "metadata": {},
   "outputs": [],
   "source": [
    "PLUGINS = {}\n",
    "def register(func):\n",
    "    PLUGINS[func.__name__] = func\n",
    "    return func"
   ]
  },
  {
   "cell_type": "code",
   "execution_count": 46,
   "id": "62090de4-b9ae-4fc0-9555-50a5d093ddc2",
   "metadata": {},
   "outputs": [],
   "source": [
    "@register\n",
    "def say_hello(name):\n",
    "    return f\"Hello {name}\""
   ]
  },
  {
   "cell_type": "code",
   "execution_count": 47,
   "id": "1fb32e1b-7af1-438a-93e4-43ed8ee1597b",
   "metadata": {},
   "outputs": [
    {
     "data": {
      "text/plain": [
       "'Hello John'"
      ]
     },
     "execution_count": 47,
     "metadata": {},
     "output_type": "execute_result"
    }
   ],
   "source": [
    "say_hello(\"John\")"
   ]
  },
  {
   "cell_type": "code",
   "execution_count": 48,
   "id": "dbeac8ac-0659-495f-b594-6ead7640aa73",
   "metadata": {},
   "outputs": [
    {
     "data": {
      "text/plain": [
       "{'say_hello': <function __main__.say_hello(name)>}"
      ]
     },
     "execution_count": 48,
     "metadata": {},
     "output_type": "execute_result"
    }
   ],
   "source": [
    "PLUGINS"
   ]
  },
  {
   "cell_type": "code",
   "execution_count": null,
   "id": "8c464007-cb7a-4150-99be-fce9f74d1a46",
   "metadata": {},
   "outputs": [],
   "source": []
  }
 ],
 "metadata": {
  "kernelspec": {
   "display_name": "py311",
   "language": "python",
   "name": "pytorch"
  },
  "language_info": {
   "codemirror_mode": {
    "name": "ipython",
    "version": 3
   },
   "file_extension": ".py",
   "mimetype": "text/x-python",
   "name": "python",
   "nbconvert_exporter": "python",
   "pygments_lexer": "ipython3",
   "version": "3.11.4"
  }
 },
 "nbformat": 4,
 "nbformat_minor": 5
}
