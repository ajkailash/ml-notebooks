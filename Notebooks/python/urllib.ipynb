{
 "cells": [
  {
   "cell_type": "code",
   "execution_count": 15,
   "id": "36831cef-dafd-45e7-90a7-1a72f88490e1",
   "metadata": {},
   "outputs": [],
   "source": [
    "from pprint import pprint"
   ]
  },
  {
   "cell_type": "markdown",
   "id": "6ccb2c1d-635a-4cff-a377-f1ab8f23d42b",
   "metadata": {},
   "source": [
    "### Basic GET request"
   ]
  },
  {
   "cell_type": "code",
   "execution_count": 2,
   "id": "a64cb046-19fe-437e-9c31-543c32cd4464",
   "metadata": {},
   "outputs": [],
   "source": [
    "from urllib.request import urlopen"
   ]
  },
  {
   "cell_type": "code",
   "execution_count": 3,
   "id": "037ca90c-9ff5-4ad3-a76c-0a2b4c0c736a",
   "metadata": {},
   "outputs": [],
   "source": [
    "with urlopen(\"https://www.example.com\") as response:\n",
    "    body = response.read()"
   ]
  },
  {
   "cell_type": "code",
   "execution_count": 7,
   "id": "b1bb2dca-132b-498f-81be-d6b08141f926",
   "metadata": {},
   "outputs": [
    {
     "data": {
      "text/plain": [
       "b'<!doctype html>'"
      ]
     },
     "execution_count": 7,
     "metadata": {},
     "output_type": "execute_result"
    }
   ],
   "source": [
    "body[:15]"
   ]
  },
  {
   "cell_type": "markdown",
   "id": "d19208f8-6f8e-4577-88d4-73c91a76035b",
   "metadata": {},
   "source": [
    "### GET to get JSON data"
   ]
  },
  {
   "cell_type": "code",
   "execution_count": 12,
   "id": "2fffc2a6-0eea-4452-8409-54df26a53010",
   "metadata": {},
   "outputs": [],
   "source": [
    "import json"
   ]
  },
  {
   "cell_type": "code",
   "execution_count": 9,
   "id": "7262a2c0-08d9-4a3b-b5b6-9c1a74d47dc5",
   "metadata": {},
   "outputs": [],
   "source": [
    "url = \"https://jsonplaceholder.typicode.com/todos/1\"\n",
    "\n",
    "with urlopen(url) as response:\n",
    "    body = response.read()"
   ]
  },
  {
   "cell_type": "code",
   "execution_count": 14,
   "id": "aad2e2fd-f28b-4837-963f-a609f6bf7afa",
   "metadata": {},
   "outputs": [],
   "source": [
    "todo = json.loads(body)"
   ]
  },
  {
   "cell_type": "code",
   "execution_count": 17,
   "id": "619d6729-e2b2-4021-94f4-5596049c8036",
   "metadata": {},
   "outputs": [],
   "source": [
    "with urlopen(\"https://www.example.com\") as response:\n",
    "    pass"
   ]
  },
  {
   "cell_type": "code",
   "execution_count": 28,
   "id": "912e8170-6d58-4bf6-9d89-768dc626e6f3",
   "metadata": {},
   "outputs": [],
   "source": [
    "#Manually closing\n",
    "response = urlopen(\"https://www.example.com\")\n",
    "body = response.read()\n",
    "response.close()"
   ]
  },
  {
   "cell_type": "code",
   "execution_count": 31,
   "id": "7ac76a50-f6fc-4adf-9696-26cf968a00a8",
   "metadata": {},
   "outputs": [
    {
     "data": {
      "text/plain": [
       "[('Accept-Ranges', 'bytes'),\n",
       " ('Content-Type', 'text/html'),\n",
       " ('ETag', '\"84238dfc8092e5d9c0dac8ef93371a07:1736799080.121134\"'),\n",
       " ('Last-Modified', 'Mon, 13 Jan 2025 20:11:20 GMT'),\n",
       " ('Content-Length', '1256'),\n",
       " ('Cache-Control', 'max-age=1796'),\n",
       " ('Date', 'Sat, 17 May 2025 05:26:37 GMT'),\n",
       " ('Alt-Svc',\n",
       "  'h3=\":443\"; ma=93600,h3-29=\":443\"; ma=93600,quic=\":443\"; ma=93600; v=\"43\"'),\n",
       " ('Connection', 'close')]"
      ]
     },
     "execution_count": 31,
     "metadata": {},
     "output_type": "execute_result"
    }
   ],
   "source": [
    "response.getheaders()"
   ]
  },
  {
   "cell_type": "code",
   "execution_count": null,
   "id": "00befc6f-dbce-4cac-ab84-c16d63be9486",
   "metadata": {},
   "outputs": [],
   "source": []
  }
 ],
 "metadata": {
  "kernelspec": {
   "display_name": "py311",
   "language": "python",
   "name": "pytorch"
  },
  "language_info": {
   "codemirror_mode": {
    "name": "ipython",
    "version": 3
   },
   "file_extension": ".py",
   "mimetype": "text/x-python",
   "name": "python",
   "nbconvert_exporter": "python",
   "pygments_lexer": "ipython3",
   "version": "3.11.4"
  }
 },
 "nbformat": 4,
 "nbformat_minor": 5
}
