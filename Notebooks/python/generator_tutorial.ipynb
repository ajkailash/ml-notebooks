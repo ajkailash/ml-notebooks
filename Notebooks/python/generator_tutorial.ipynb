{
 "cells": [
  {
   "cell_type": "code",
   "execution_count": 17,
   "id": "bdac08cf-5f92-4d9c-9cd5-760cfa868b91",
   "metadata": {},
   "outputs": [],
   "source": [
    "from typing import List"
   ]
  },
  {
   "cell_type": "code",
   "execution_count": 18,
   "id": "2c2ede83-3b2b-4b0d-9a5e-4aefe81ead40",
   "metadata": {},
   "outputs": [],
   "source": [
    "def square_numbers(num_list: List):\n",
    "    result = []\n",
    "    for i in num_list:\n",
    "        result.append(i * i)\n",
    "    return result"
   ]
  },
  {
   "cell_type": "code",
   "execution_count": 19,
   "id": "c3cbdeec-174b-4cb4-9903-52ae6c6ad1f0",
   "metadata": {},
   "outputs": [
    {
     "data": {
      "text/plain": [
       "[1, 4, 9, 16, 25]"
      ]
     },
     "execution_count": 19,
     "metadata": {},
     "output_type": "execute_result"
    }
   ],
   "source": [
    "square_numbers([1, 2, 3, 4, 5])"
   ]
  },
  {
   "cell_type": "code",
   "execution_count": 20,
   "id": "c18ac02f-a7a2-46e1-a2ae-6af5572bb76b",
   "metadata": {},
   "outputs": [],
   "source": [
    "# convert the above function to a generator"
   ]
  },
  {
   "cell_type": "code",
   "execution_count": 21,
   "id": "13ab2049-2302-4e4c-9049-c9bd88cf0149",
   "metadata": {},
   "outputs": [],
   "source": [
    "def square_numbers(num_list: List):\n",
    "    for i in num_list:\n",
    "        yield (i * i)"
   ]
  },
  {
   "cell_type": "code",
   "execution_count": 26,
   "id": "2152a455-49bb-4641-a876-87e5ce5a4313",
   "metadata": {},
   "outputs": [],
   "source": [
    "num_gen = square_numbers([1, 2, 3, 4, 5])"
   ]
  },
  {
   "cell_type": "code",
   "execution_count": 27,
   "id": "ef2ca61f-775b-448d-9b5b-bf757fc8cf24",
   "metadata": {},
   "outputs": [
    {
     "data": {
      "text/plain": [
       "<generator object square_numbers at 0x1241cc930>"
      ]
     },
     "execution_count": 27,
     "metadata": {},
     "output_type": "execute_result"
    }
   ],
   "source": [
    "num_gen"
   ]
  },
  {
   "cell_type": "code",
   "execution_count": 28,
   "id": "dee62b44-b9b5-4f6e-b90a-b2412bb3e0fc",
   "metadata": {},
   "outputs": [
    {
     "name": "stdout",
     "output_type": "stream",
     "text": [
      "1\n",
      "4\n",
      "9\n",
      "16\n",
      "25\n"
     ]
    }
   ],
   "source": [
    "for num in num_gen:\n",
    "    try:\n",
    "        print(num)\n",
    "    except:\n",
    "        print(\"stop iteratiom\")"
   ]
  },
  {
   "cell_type": "code",
   "execution_count": null,
   "id": "68414573-0162-4f05-be25-4ffbb8d9e02e",
   "metadata": {},
   "outputs": [],
   "source": []
  }
 ],
 "metadata": {
  "kernelspec": {
   "display_name": "Python 3 (ipykernel)",
   "language": "python",
   "name": "python3"
  },
  "language_info": {
   "codemirror_mode": {
    "name": "ipython",
    "version": 3
   },
   "file_extension": ".py",
   "mimetype": "text/x-python",
   "name": "python",
   "nbconvert_exporter": "python",
   "pygments_lexer": "ipython3",
   "version": "3.11.4"
  }
 },
 "nbformat": 4,
 "nbformat_minor": 5
}
