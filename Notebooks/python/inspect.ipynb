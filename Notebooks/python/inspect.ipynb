{
 "cells": [
  {
   "cell_type": "code",
   "execution_count": null,
   "id": "0a45884e-db51-4a6c-bd77-73043b84b1a6",
   "metadata": {},
   "outputs": [],
   "source": []
  },
  {
   "cell_type": "code",
   "execution_count": 1,
   "id": "aa11a8d4-574c-4f71-977b-fa6b16bff088",
   "metadata": {},
   "outputs": [],
   "source": [
    "import inspect\n",
    "from typing import Callable, List"
   ]
  },
  {
   "cell_type": "code",
   "execution_count": 2,
   "id": "23f369d8-a8d7-4ec8-b73f-8f63a0baa91f",
   "metadata": {},
   "outputs": [],
   "source": [
    "def calculator(a: int, b: int) -> int:\n",
    "    \"\"\"Multiply two integers\"\"\"\n",
    "    return  a * b"
   ]
  },
  {
   "cell_type": "code",
   "execution_count": 3,
   "id": "329507cd-331f-4e27-b123-1e37c5dfb0e4",
   "metadata": {},
   "outputs": [],
   "source": [
    "def tool(func):\n",
    "    signature = inspect.signature(func)\n",
    "\n",
    "    arguments = []\n",
    "    for param in signature.parameters.values():\n",
    "        annotation_name = param.annotation.__name__ if hasattr(param.annotation, \"__name__\") else str(param.annotation)\n",
    "        arguments.append((param.name, annotation_name))\n",
    "\n",
    "    return_annotation = signature.return_annotation\n",
    "\n",
    "    if return_annotation is inspect._empty:\n",
    "        outputs = \"No return annotation\"\n",
    "    else:\n",
    "        outputs = (return_annotation.__name__ if hasattr(return_annotation, \"__name__\") else str(return_annotation))\n",
    "\n",
    "    description = func.__doc__ or \"No description provided\"\n",
    "    name = func.__name__\n",
    "\n",
    "    return Tool(\n",
    "        name = name, \n",
    "        description = description,\n",
    "        func = func,\n",
    "        arguments = arguments,\n",
    "        outputs = outputs\n",
    "    )"
   ]
  },
  {
   "cell_type": "code",
   "execution_count": 6,
   "id": "177bb6da-28cd-431d-8123-73536467278e",
   "metadata": {},
   "outputs": [],
   "source": [
    "class Tool:\n",
    "    def __init__(self, name: str, description: str, func: Callable, arguments: List, outputs: str):\n",
    "        self.name = name\n",
    "        self.description = description\n",
    "        self.func = func\n",
    "        self.arguments = arguments\n",
    "        self.outputs = outputs\n",
    "\n",
    "    def to_string(self):\n",
    "        args_str = \",\".join(f\"{arg_name}: {arg_type}\" for arg_name, arg_type in self.arguments)\n",
    "        return (\n",
    "            f\"Tool Name: {self.name}\", \n",
    "            f\"Description: {self.description}\", \n",
    "            f\"Arguments: {args_str}\", \n",
    "            f\"Outputs: {self.outputs}\"\n",
    "        )\n",
    "\n",
    "    def __call__(self, *args, **kwargs):\n",
    "        return self.func(*args, **kwargs)"
   ]
  },
  {
   "cell_type": "code",
   "execution_count": 7,
   "id": "1ea6dc89-e9b3-4882-9448-06467a449269",
   "metadata": {},
   "outputs": [],
   "source": [
    "@tool\n",
    "def calculator(a: int, b: int) -> int:\n",
    "    \"\"\"Multiply two integers\"\"\"\n",
    "    return  a * b"
   ]
  },
  {
   "cell_type": "code",
   "execution_count": 11,
   "id": "2bb978e1-5682-465f-bdb9-ae1c2a36625b",
   "metadata": {},
   "outputs": [
    {
     "data": {
      "text/plain": [
       "__main__.Tool"
      ]
     },
     "execution_count": 11,
     "metadata": {},
     "output_type": "execute_result"
    }
   ],
   "source": [
    "type(calculator)"
   ]
  },
  {
   "cell_type": "code",
   "execution_count": null,
   "id": "b686ac73-3bd6-4c68-ab90-91e5dc3341f6",
   "metadata": {},
   "outputs": [],
   "source": []
  }
 ],
 "metadata": {
  "kernelspec": {
   "display_name": "Python 3 (ipykernel)",
   "language": "python",
   "name": "python3"
  },
  "language_info": {
   "codemirror_mode": {
    "name": "ipython",
    "version": 3
   },
   "file_extension": ".py",
   "mimetype": "text/x-python",
   "name": "python",
   "nbconvert_exporter": "python",
   "pygments_lexer": "ipython3",
   "version": "3.11.4"
  }
 },
 "nbformat": 4,
 "nbformat_minor": 5
}
