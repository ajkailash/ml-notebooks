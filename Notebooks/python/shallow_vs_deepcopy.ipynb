{
 "cells": [
  {
   "cell_type": "markdown",
   "id": "18fb525f-0017-4116-b037-458353f8ea69",
   "metadata": {},
   "source": [
    "## Shallow vs Deep copy"
   ]
  },
  {
   "cell_type": "markdown",
   "id": "aecdd2dc-3ed4-413e-af07-4bbb4321eaac",
   "metadata": {},
   "source": [
    "### Shallow copy\n",
    "- A shallow copy means constructing a new collection object and then populating it with references to the child objects found in the original.\n",
    "- In essence a shallow copy is only one level deep.\n",
    "### Deep copy\n",
    "- A deep copy constructs a new collection object and then recursively populates with copies of the child objects found in the original.\n",
    "- A fully independent clone of the original object and all of its children is created."
   ]
  },
  {
   "cell_type": "code",
   "execution_count": 13,
   "id": "0f4cb132-1038-4365-ba88-c119702d150d",
   "metadata": {},
   "outputs": [],
   "source": [
    "#create a sample list\n",
    "xs = [[0, 1, 2], [3, 4, 5]]\n",
    "#create a shallow copy\n",
    "ys = list(xs)"
   ]
  },
  {
   "cell_type": "code",
   "execution_count": 14,
   "id": "75418564-2d44-4f83-b3c7-e5783f112c30",
   "metadata": {},
   "outputs": [
    {
     "name": "stdout",
     "output_type": "stream",
     "text": [
      "[[0, 1, 2], [3, 4, 5]]\n",
      "[[0, 1, 2], [3, 4, 5]]\n"
     ]
    }
   ],
   "source": [
    "print(xs)\n",
    "print(ys)"
   ]
  },
  {
   "cell_type": "code",
   "execution_count": 15,
   "id": "84a4059d-22ca-4bf0-9f7b-673284091a03",
   "metadata": {},
   "outputs": [],
   "source": [
    "#now append new values to ys\n",
    "ys.append([6, 7, 8])"
   ]
  },
  {
   "cell_type": "code",
   "execution_count": 16,
   "id": "862f6789-9955-41bb-9c99-a7ff8d541ff6",
   "metadata": {},
   "outputs": [
    {
     "name": "stdout",
     "output_type": "stream",
     "text": [
      "[[0, 1, 2], [3, 4, 5]]\n",
      "[[0, 1, 2], [3, 4, 5], [6, 7, 8]]\n"
     ]
    }
   ],
   "source": [
    "#The shallow copy will look like an independent clone as the modification is at a superficial level\n",
    "print(xs)\n",
    "print(ys)"
   ]
  },
  {
   "cell_type": "code",
   "execution_count": 17,
   "id": "756bc710-e622-413c-913a-2f0b303775fd",
   "metadata": {},
   "outputs": [],
   "source": [
    "#Now try to modify one of the child objects in xs\n",
    "ys[0][0] = 100"
   ]
  },
  {
   "cell_type": "code",
   "execution_count": 18,
   "id": "2f409ec6-f4fb-45e5-ad7a-94c97c45e1e8",
   "metadata": {},
   "outputs": [
    {
     "name": "stdout",
     "output_type": "stream",
     "text": [
      "[[100, 1, 2], [3, 4, 5]]\n",
      "[[100, 1, 2], [3, 4, 5], [6, 7, 8]]\n"
     ]
    }
   ],
   "source": [
    "print(xs)\n",
    "print(ys)"
   ]
  },
  {
   "cell_type": "markdown",
   "id": "6bd9aef3-4a7d-4c0b-9d34-c961d3fc7583",
   "metadata": {},
   "source": [
    "### Now create a deep copy"
   ]
  },
  {
   "cell_type": "code",
   "execution_count": 19,
   "id": "1efc6c4f-a24f-47a6-883d-0da6f5c66584",
   "metadata": {},
   "outputs": [],
   "source": [
    "import copy"
   ]
  },
  {
   "cell_type": "code",
   "execution_count": 20,
   "id": "56354878-a18d-4726-99c5-7f9aa0d1a64c",
   "metadata": {},
   "outputs": [],
   "source": [
    "xs = [[0, 1, 2], [3, 4, 5]]\n",
    "ys = copy.deepcopy(xs)"
   ]
  },
  {
   "cell_type": "code",
   "execution_count": 21,
   "id": "22ff8ac3-6060-4a5f-8687-9e66a84dbcbf",
   "metadata": {},
   "outputs": [],
   "source": [
    "ys[0][0] = 100"
   ]
  },
  {
   "cell_type": "code",
   "execution_count": 22,
   "id": "ab69c360-d6ee-4bfc-aa8d-9663063b0f34",
   "metadata": {},
   "outputs": [
    {
     "name": "stdout",
     "output_type": "stream",
     "text": [
      "[[0, 1, 2], [3, 4, 5]]\n",
      "[[100, 1, 2], [3, 4, 5]]\n"
     ]
    }
   ],
   "source": [
    "print(xs)\n",
    "print(ys)"
   ]
  },
  {
   "cell_type": "code",
   "execution_count": null,
   "id": "e3c0a821-7c18-4142-b2ab-2005e984c633",
   "metadata": {},
   "outputs": [],
   "source": []
  }
 ],
 "metadata": {
  "kernelspec": {
   "display_name": "py311",
   "language": "python",
   "name": "pytorch"
  },
  "language_info": {
   "codemirror_mode": {
    "name": "ipython",
    "version": 3
   },
   "file_extension": ".py",
   "mimetype": "text/x-python",
   "name": "python",
   "nbconvert_exporter": "python",
   "pygments_lexer": "ipython3",
   "version": "3.11.4"
  }
 },
 "nbformat": 4,
 "nbformat_minor": 5
}
