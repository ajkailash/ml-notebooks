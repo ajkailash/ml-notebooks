{
 "cells": [
  {
   "cell_type": "markdown",
   "id": "c5b37bd6-110e-4d04-9fcf-7a060ec10dd3",
   "metadata": {},
   "source": [
    "Writes a class that demonstrates the iterator protocol"
   ]
  },
  {
   "cell_type": "code",
   "execution_count": 2,
   "id": "c76437b7-4c99-4ba8-b539-ec9e282ec89d",
   "metadata": {},
   "outputs": [],
   "source": [
    "# repeater = Repeater(\"Hello\")\n",
    "# for item in repeater:\n",
    "#     print(item)"
   ]
  },
  {
   "cell_type": "markdown",
   "id": "be9974f1-beec-4113-a60c-04aeaf0b50cb",
   "metadata": {},
   "source": [
    "Define and flesh out the Repeater class first"
   ]
  },
  {
   "cell_type": "code",
   "execution_count": 5,
   "id": "d8c48057-1c43-4023-8952-af68775c725e",
   "metadata": {},
   "outputs": [],
   "source": [
    "class Repeater:\n",
    "    def __init__(self, value):\n",
    "        self.value = value\n",
    "\n",
    "    def __iter__(self):\n",
    "        return RepeaterIterator(self)\n",
    "\n",
    "class RepeaterIterator:\n",
    "    def __init__(self, source):\n",
    "        self.source = source\n",
    "\n",
    "    def __next__(self):\n",
    "        return self.source.value"
   ]
  },
  {
   "cell_type": "code",
   "execution_count": 6,
   "id": "080eb991-52c1-4c41-a7df-c431713cfb9e",
   "metadata": {},
   "outputs": [],
   "source": [
    "class Repeater:\n",
    "    def __init__(self, value):\n",
    "        self.value = value\n",
    "\n",
    "    def __iter__(self):\n",
    "        return self\n",
    "\n",
    "    def __next__(self):\n",
    "        return self.value"
   ]
  },
  {
   "cell_type": "code",
   "execution_count": 7,
   "id": "97e1395c-9d68-425f-bf89-5f35834ad018",
   "metadata": {},
   "outputs": [],
   "source": [
    "repeater = Repeater(\"Hello\")"
   ]
  },
  {
   "cell_type": "code",
   "execution_count": 8,
   "id": "452d09cd-501a-488b-a32a-ce53d3ab3adc",
   "metadata": {},
   "outputs": [],
   "source": [
    "iterator = repeater.__iter__()"
   ]
  },
  {
   "cell_type": "code",
   "execution_count": 9,
   "id": "5dbac71c-3256-4b7b-9315-57384b893cb4",
   "metadata": {},
   "outputs": [
    {
     "data": {
      "text/plain": [
       "'Hello'"
      ]
     },
     "execution_count": 9,
     "metadata": {},
     "output_type": "execute_result"
    }
   ],
   "source": [
    "iterator.__next__()"
   ]
  },
  {
   "cell_type": "code",
   "execution_count": 10,
   "id": "0438fd57-e26a-4aad-8a00-151e59d9d1d6",
   "metadata": {},
   "outputs": [],
   "source": [
    "my_list = [1, 2, 3]"
   ]
  },
  {
   "cell_type": "code",
   "execution_count": 11,
   "id": "ec14e50e-839a-4f77-baf0-d2e139ceaf4a",
   "metadata": {},
   "outputs": [],
   "source": [
    "iterator = iter(my_list)"
   ]
  },
  {
   "cell_type": "code",
   "execution_count": null,
   "id": "eaa75583-9414-494f-bbd7-2937b258d6ab",
   "metadata": {},
   "outputs": [],
   "source": []
  },
  {
   "cell_type": "code",
   "execution_count": 19,
   "id": "f8344f8a-2c16-4731-b97d-735a9b9b6e92",
   "metadata": {},
   "outputs": [],
   "source": [
    "class BoundedRepeater:\n",
    "    def __init__(self, value, max_repeats):\n",
    "        self.value = value\n",
    "        self.max_repeats = max_repeats\n",
    "        self.count = 0\n",
    "\n",
    "    def __iter__(self):\n",
    "        return self\n",
    "\n",
    "    def __next__(self):\n",
    "        if self.count >= self.max_repeats:\n",
    "            raise StopIteration\n",
    "        self.count += 1\n",
    "        return self.value"
   ]
  },
  {
   "cell_type": "code",
   "execution_count": 22,
   "id": "b8508bb6-7b2a-4d6d-bffc-bee47285dd1d",
   "metadata": {},
   "outputs": [],
   "source": [
    "repeater = BoundedRepeater(\"Hello world\", 3)"
   ]
  },
  {
   "cell_type": "code",
   "execution_count": 21,
   "id": "82006f44-3f52-465c-a312-e57bcf64844c",
   "metadata": {},
   "outputs": [
    {
     "name": "stdout",
     "output_type": "stream",
     "text": [
      "Hello world\n",
      "Hello world\n",
      "Hello world\n"
     ]
    }
   ],
   "source": [
    "for i in repeater:\n",
    "    print(i)"
   ]
  },
  {
   "cell_type": "code",
   "execution_count": 23,
   "id": "da249829-6116-4e97-be7c-a19f06474cc6",
   "metadata": {},
   "outputs": [],
   "source": [
    "iterator = iter(repeater)"
   ]
  },
  {
   "cell_type": "code",
   "execution_count": 24,
   "id": "4ba673be-7c1c-4964-8eba-368af4af661d",
   "metadata": {},
   "outputs": [
    {
     "name": "stdout",
     "output_type": "stream",
     "text": [
      "Hello world\n",
      "Hello world\n",
      "Hello world\n"
     ]
    }
   ],
   "source": [
    "while True:\n",
    "    try:\n",
    "        item = next(iterator)\n",
    "    except StopIteration:\n",
    "        break\n",
    "    print(item)"
   ]
  },
  {
   "cell_type": "code",
   "execution_count": null,
   "id": "b413e4dd-8514-4652-9cff-37ecc03753b5",
   "metadata": {},
   "outputs": [],
   "source": []
  }
 ],
 "metadata": {
  "kernelspec": {
   "display_name": "py311",
   "language": "python",
   "name": "pytorch"
  },
  "language_info": {
   "codemirror_mode": {
    "name": "ipython",
    "version": 3
   },
   "file_extension": ".py",
   "mimetype": "text/x-python",
   "name": "python",
   "nbconvert_exporter": "python",
   "pygments_lexer": "ipython3",
   "version": "3.11.4"
  }
 },
 "nbformat": 4,
 "nbformat_minor": 5
}
