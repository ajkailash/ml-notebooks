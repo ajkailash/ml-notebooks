{
 "cells": [
  {
   "cell_type": "code",
   "execution_count": 8,
   "id": "6011f002-6d53-42aa-81d9-84b8feb70c5b",
   "metadata": {},
   "outputs": [],
   "source": [
    "z = 50 #global scope\n",
    "def out_func():\n",
    "    x = \"outer function\"\n",
    "    print(x)\n",
    "    def inner_func():\n",
    "        nonlocal = x\n",
    "        z = \"inner func\" #inner func local scope\n",
    "        print(z)\n",
    "    inner_func() "
   ]
  },
  {
   "cell_type": "code",
   "execution_count": 17,
   "id": "6b744c8f-14c9-4cd9-82e7-b5dc7ffad034",
   "metadata": {},
   "outputs": [],
   "source": [
    "def outer():\n",
    "    x = \"hello\"\n",
    "    def inner1():\n",
    "        nonlocal x\n",
    "        x = \"python\"\n",
    "        def inner2():\n",
    "            nonlocal x\n",
    "            x = \"monty\"\n",
    "        print(\"inner(before)\", x)\n",
    "        inner2()\n",
    "        print(\"inner(after)\", x)\n",
    "    inner1()\n",
    "    print(\"outer\", x)"
   ]
  },
  {
   "cell_type": "code",
   "execution_count": 18,
   "id": "dd9c71b3-1011-45c6-a479-c93b3525fcc1",
   "metadata": {},
   "outputs": [
    {
     "name": "stdout",
     "output_type": "stream",
     "text": [
      "inner(before) python\n",
      "inner(after) monty\n",
      "outer monty\n"
     ]
    }
   ],
   "source": [
    "outer()"
   ]
  },
  {
   "cell_type": "code",
   "execution_count": null,
   "id": "d8afa0a1-53b9-4cf0-86fa-b355d2b89da7",
   "metadata": {},
   "outputs": [],
   "source": []
  }
 ],
 "metadata": {
  "kernelspec": {
   "display_name": "py311",
   "language": "python",
   "name": "pytorch"
  },
  "language_info": {
   "codemirror_mode": {
    "name": "ipython",
    "version": 3
   },
   "file_extension": ".py",
   "mimetype": "text/x-python",
   "name": "python",
   "nbconvert_exporter": "python",
   "pygments_lexer": "ipython3",
   "version": "3.11.4"
  }
 },
 "nbformat": 4,
 "nbformat_minor": 5
}
