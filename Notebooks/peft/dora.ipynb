{
 "cells": [
  {
   "cell_type": "code",
   "execution_count": 25,
   "id": "f073e1dc-9a66-4e4e-a865-e5416398daaf",
   "metadata": {},
   "outputs": [],
   "source": [
    "import torch\n",
    "import torch.nn as nn\n",
    "import torch.nn.functional as F"
   ]
  },
  {
   "cell_type": "code",
   "execution_count": 26,
   "id": "12d593ac-7595-46ad-a65e-9c6636331f6c",
   "metadata": {},
   "outputs": [
    {
     "data": {
      "text/plain": [
       "<torch._C.Generator at 0x11c9565b0>"
      ]
     },
     "execution_count": 26,
     "metadata": {},
     "output_type": "execute_result"
    }
   ],
   "source": [
    "torch.manual_seed(-1)"
   ]
  },
  {
   "cell_type": "code",
   "execution_count": 27,
   "id": "203a420c-bb84-4e72-97ed-4b36caa12f6e",
   "metadata": {},
   "outputs": [],
   "source": [
    "class LoRALayer(nn.Module):\n",
    "    def __init__(self, in_dim, out_dim, rank, alpha):\n",
    "        super().__init__()\n",
    "        std_dev = 1 / torch.sqrt(torch.tensor(rank).float())\n",
    "        self.A = nn.Parameter(torch.randn(in_dim, rank) * std_dev)\n",
    "        self.B = nn.Parameter(torch.zeros(rank, out_dim))\n",
    "        self.alpha = alpha\n",
    "\n",
    "    def forward(self, x):\n",
    "        x = self.alpha * (x @ self.A @ self.B)\n",
    "        return x"
   ]
  },
  {
   "cell_type": "code",
   "execution_count": 28,
   "id": "73733c96-3f44-4f20-8fd2-306ac356fac4",
   "metadata": {},
   "outputs": [],
   "source": [
    "class LinearWithLora(nn.Module):\n",
    "    def __init__(self, linear, rank, alpha):\n",
    "        super().__init__()\n",
    "        self.linear = linear\n",
    "        self.lora = LoRALayer(self.linear.in_features, self.linear.out_features, rank, alpha)\n",
    "\n",
    "    def forward(self, x):\n",
    "        return self.linear(x) + self.lora(x)"
   ]
  },
  {
   "cell_type": "code",
   "execution_count": 29,
   "id": "bc9eaa1f-366a-4880-a1df-279353e313d9",
   "metadata": {},
   "outputs": [],
   "source": [
    "layer = nn.Linear(10, 2)"
   ]
  },
  {
   "cell_type": "code",
   "execution_count": 30,
   "id": "75448d71-df06-4dfb-b6b6-0969a0e17e35",
   "metadata": {},
   "outputs": [],
   "source": [
    "x = torch.randn(1, 10)"
   ]
  },
  {
   "cell_type": "code",
   "execution_count": 31,
   "id": "251ac394-f106-4c68-8cde-5e688a5ebafc",
   "metadata": {},
   "outputs": [
    {
     "data": {
      "text/plain": [
       "tensor([[-1.5018, -1.0002]], grad_fn=<AddmmBackward0>)"
      ]
     },
     "execution_count": 31,
     "metadata": {},
     "output_type": "execute_result"
    }
   ],
   "source": [
    "layer(x)"
   ]
  },
  {
   "cell_type": "code",
   "execution_count": 32,
   "id": "4562deb7-589c-497b-9067-026212d9c16a",
   "metadata": {},
   "outputs": [],
   "source": [
    "lora_layer = LinearWithLora(layer, rank=2, alpha=4)"
   ]
  },
  {
   "cell_type": "code",
   "execution_count": 33,
   "id": "4b23e561-695c-4615-8407-62924117b268",
   "metadata": {},
   "outputs": [
    {
     "data": {
      "text/plain": [
       "tensor([[-1.5018, -1.0002]], grad_fn=<AddBackward0>)"
      ]
     },
     "execution_count": 33,
     "metadata": {},
     "output_type": "execute_result"
    }
   ],
   "source": [
    "lora_layer(x)"
   ]
  },
  {
   "cell_type": "code",
   "execution_count": 36,
   "id": "a8511c59-ff3e-4e00-be2a-a2f5b1808ba3",
   "metadata": {},
   "outputs": [],
   "source": [
    "class LinearWithLoraMerged(nn.Module):\n",
    "    def __init__(self, linear, rank, alpha):\n",
    "        super().__init__()\n",
    "        self.linear = linear\n",
    "        self.lora = LoRALayer(linear.in_features, linear.out_features, rank, alpha)\n",
    "\n",
    "    def forward(self, x):\n",
    "        lora = self.lora.A @ self.lora.B\n",
    "        combined_weight = self.linear.weight + self.lora.alpha * lora.T\n",
    "        return F.linear(x, combined_weight, self.linear.bias)"
   ]
  },
  {
   "cell_type": "code",
   "execution_count": 37,
   "id": "792c4d7c-599a-4ed3-9fb2-db387cd07fba",
   "metadata": {},
   "outputs": [],
   "source": [
    "merged_lora = LinearWithLoraMerged(layer, 2, 4)"
   ]
  },
  {
   "cell_type": "code",
   "execution_count": 38,
   "id": "3956f2b5-c1b1-4b2f-9d6b-2dc702acf5de",
   "metadata": {},
   "outputs": [
    {
     "data": {
      "text/plain": [
       "tensor([[-1.5018, -1.0002]], grad_fn=<AddmmBackward0>)"
      ]
     },
     "execution_count": 38,
     "metadata": {},
     "output_type": "execute_result"
    }
   ],
   "source": [
    "merged_lora(x)"
   ]
  },
  {
   "cell_type": "code",
   "execution_count": 11,
   "id": "4838435b-a8ba-4e6f-ab22-58f558d97d3a",
   "metadata": {},
   "outputs": [],
   "source": [
    "class MultiLayerPerceptron(nn.Module):\n",
    "    def __init__(self, num_features, num_hidden_1, num_hidden_2, num_classes):\n",
    "        super().__init__()\n",
    "        self.layers = nn.Sequential(nn.Linear(num_features, num_hidden_1), \n",
    "                                   nn.ReLU(), \n",
    "                                   nn.Linear(num_hidden_1, num_hidden_2), \n",
    "                                   nn.ReLU(), \n",
    "                                   nn.Linear(num_hidden_2, num_classes))\n",
    "        def forward(self, x):\n",
    "            return self.layers(x)"
   ]
  },
  {
   "cell_type": "code",
   "execution_count": 12,
   "id": "bd058de2-7239-4650-9aaf-594ffa35da95",
   "metadata": {},
   "outputs": [],
   "source": [
    "model = MultiLayerPerceptron(768, 128, 256, 10)"
   ]
  },
  {
   "cell_type": "code",
   "execution_count": 13,
   "id": "bf3a91fd-e1c9-4726-b84d-29ce915dbb72",
   "metadata": {},
   "outputs": [
    {
     "data": {
      "text/plain": [
       "MultiLayerPerceptron(\n",
       "  (layers): Sequential(\n",
       "    (0): Linear(in_features=768, out_features=128, bias=True)\n",
       "    (1): ReLU()\n",
       "    (2): Linear(in_features=128, out_features=256, bias=True)\n",
       "    (3): ReLU()\n",
       "    (4): Linear(in_features=256, out_features=10, bias=True)\n",
       "  )\n",
       ")"
      ]
     },
     "execution_count": 13,
     "metadata": {},
     "output_type": "execute_result"
    }
   ],
   "source": [
    "model"
   ]
  },
  {
   "cell_type": "code",
   "execution_count": 18,
   "id": "3c482acd-9ca8-45d3-ad7e-2c693e34953e",
   "metadata": {},
   "outputs": [],
   "source": [
    "# model.layers[0] = LinearWithLora(model.layers[0], rank=4, alpha=8)\n",
    "model.layers[2] = LinearWithLora(model.layers[2], rank=4, alpha=8)\n",
    "model.layers[4] = LinearWithLora(model.layers[4], rank=4, alpha=8)"
   ]
  },
  {
   "cell_type": "code",
   "execution_count": 19,
   "id": "44ce0968-31e5-4885-afa8-df709bb9b713",
   "metadata": {},
   "outputs": [
    {
     "data": {
      "text/plain": [
       "MultiLayerPerceptron(\n",
       "  (layers): Sequential(\n",
       "    (0): LinearWithLora(\n",
       "      (linear): Linear(in_features=768, out_features=128, bias=True)\n",
       "      (lora): LoRALayer()\n",
       "    )\n",
       "    (1): ReLU()\n",
       "    (2): LinearWithLora(\n",
       "      (linear): Linear(in_features=128, out_features=256, bias=True)\n",
       "      (lora): LoRALayer()\n",
       "    )\n",
       "    (3): ReLU()\n",
       "    (4): LinearWithLora(\n",
       "      (linear): Linear(in_features=256, out_features=10, bias=True)\n",
       "      (lora): LoRALayer()\n",
       "    )\n",
       "  )\n",
       ")"
      ]
     },
     "execution_count": 19,
     "metadata": {},
     "output_type": "execute_result"
    }
   ],
   "source": [
    "model"
   ]
  },
  {
   "cell_type": "code",
   "execution_count": 20,
   "id": "1c1fb794-7f7a-4e30-82c1-adfd32fc1a23",
   "metadata": {},
   "outputs": [],
   "source": [
    "def freeze_linear_layers(model):\n",
    "    for module in model.children():\n",
    "        if isinstance(module, nn.Linear):\n",
    "            for param in module.parameters():\n",
    "                param.requires_grad = False\n",
    "        else:\n",
    "            freeze_linear_layers(module)"
   ]
  },
  {
   "cell_type": "code",
   "execution_count": 21,
   "id": "678849e4-7437-4eeb-aea1-f4d0e9f1627e",
   "metadata": {},
   "outputs": [],
   "source": [
    "freeze_linear_layers(model)"
   ]
  },
  {
   "cell_type": "code",
   "execution_count": 22,
   "id": "58b6cae5-3c81-48ac-acb9-ba369f5dbbe8",
   "metadata": {},
   "outputs": [
    {
     "name": "stdout",
     "output_type": "stream",
     "text": [
      "layers.0.linear.weight: False\n",
      "layers.0.linear.bias: False\n",
      "layers.0.lora.A: True\n",
      "layers.0.lora.B: True\n",
      "layers.2.linear.weight: False\n",
      "layers.2.linear.bias: False\n",
      "layers.2.lora.A: True\n",
      "layers.2.lora.B: True\n",
      "layers.4.linear.weight: False\n",
      "layers.4.linear.bias: False\n",
      "layers.4.lora.A: True\n",
      "layers.4.lora.B: True\n"
     ]
    }
   ],
   "source": [
    "for name, param in model.named_parameters():\n",
    "    print(f\"{name}: {param.requires_grad}\")"
   ]
  },
  {
   "cell_type": "code",
   "execution_count": null,
   "id": "57b56294-3b42-46a6-a63a-59aa67c92cdc",
   "metadata": {},
   "outputs": [],
   "source": []
  }
 ],
 "metadata": {
  "kernelspec": {
   "display_name": "Python 3 (ipykernel)",
   "language": "python",
   "name": "python3"
  },
  "language_info": {
   "codemirror_mode": {
    "name": "ipython",
    "version": 3
   },
   "file_extension": ".py",
   "mimetype": "text/x-python",
   "name": "python",
   "nbconvert_exporter": "python",
   "pygments_lexer": "ipython3",
   "version": "3.11.4"
  }
 },
 "nbformat": 4,
 "nbformat_minor": 5
}
