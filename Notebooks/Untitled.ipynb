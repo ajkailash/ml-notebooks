{
 "cells": [
  {
   "cell_type": "code",
   "execution_count": 1,
   "id": "ccd81c38-9d02-43ae-8e44-0eaf10b366ca",
   "metadata": {},
   "outputs": [],
   "source": [
    "import numpy as np"
   ]
  },
  {
   "cell_type": "code",
   "execution_count": 7,
   "id": "068a88cb-d9f2-4961-88f2-7888f1acf65a",
   "metadata": {},
   "outputs": [],
   "source": [
    "# Define known data points\n",
    "x = np.arange(5)\n",
    "y = np.arange(10, 60, 10)"
   ]
  },
  {
   "cell_type": "code",
   "execution_count": 8,
   "id": "7801ba6b-a4d9-4113-987b-a1e194b08b2b",
   "metadata": {},
   "outputs": [],
   "source": [
    "x_interp = 2.5"
   ]
  },
  {
   "cell_type": "code",
   "execution_count": 9,
   "id": "4c7fc7b5-47c6-43b9-80aa-f893279e01ca",
   "metadata": {},
   "outputs": [
    {
     "data": {
      "text/plain": [
       "\u001b[0;31mSignature:\u001b[0m       \u001b[0mnp\u001b[0m\u001b[0;34m.\u001b[0m\u001b[0msearchsorted\u001b[0m\u001b[0;34m(\u001b[0m\u001b[0ma\u001b[0m\u001b[0;34m,\u001b[0m \u001b[0mv\u001b[0m\u001b[0;34m,\u001b[0m \u001b[0mside\u001b[0m\u001b[0;34m=\u001b[0m\u001b[0;34m'left'\u001b[0m\u001b[0;34m,\u001b[0m \u001b[0msorter\u001b[0m\u001b[0;34m=\u001b[0m\u001b[0;32mNone\u001b[0m\u001b[0;34m)\u001b[0m\u001b[0;34m\u001b[0m\u001b[0;34m\u001b[0m\u001b[0m\n",
       "\u001b[0;31mCall signature:\u001b[0m  \u001b[0mnp\u001b[0m\u001b[0;34m.\u001b[0m\u001b[0msearchsorted\u001b[0m\u001b[0;34m(\u001b[0m\u001b[0;34m*\u001b[0m\u001b[0margs\u001b[0m\u001b[0;34m,\u001b[0m \u001b[0;34m**\u001b[0m\u001b[0mkwargs\u001b[0m\u001b[0;34m)\u001b[0m\u001b[0;34m\u001b[0m\u001b[0;34m\u001b[0m\u001b[0m\n",
       "\u001b[0;31mType:\u001b[0m            _ArrayFunctionDispatcher\n",
       "\u001b[0;31mString form:\u001b[0m     <function searchsorted at 0x1098c0a40>\n",
       "\u001b[0;31mFile:\u001b[0m            ~/miniconda3/envs/torch/lib/python3.11/site-packages/numpy/core/fromnumeric.py\n",
       "\u001b[0;31mDocstring:\u001b[0m      \n",
       "Find indices where elements should be inserted to maintain order.\n",
       "\n",
       "Find the indices into a sorted array `a` such that, if the\n",
       "corresponding elements in `v` were inserted before the indices, the\n",
       "order of `a` would be preserved.\n",
       "\n",
       "Assuming that `a` is sorted:\n",
       "\n",
       "======  ============================\n",
       "`side`  returned index `i` satisfies\n",
       "======  ============================\n",
       "left    ``a[i-1] < v <= a[i]``\n",
       "right   ``a[i-1] <= v < a[i]``\n",
       "======  ============================\n",
       "\n",
       "Parameters\n",
       "----------\n",
       "a : 1-D array_like\n",
       "    Input array. If `sorter` is None, then it must be sorted in\n",
       "    ascending order, otherwise `sorter` must be an array of indices\n",
       "    that sort it.\n",
       "v : array_like\n",
       "    Values to insert into `a`.\n",
       "side : {'left', 'right'}, optional\n",
       "    If 'left', the index of the first suitable location found is given.\n",
       "    If 'right', return the last such index.  If there is no suitable\n",
       "    index, return either 0 or N (where N is the length of `a`).\n",
       "sorter : 1-D array_like, optional\n",
       "    Optional array of integer indices that sort array a into ascending\n",
       "    order. They are typically the result of argsort.\n",
       "\n",
       "    .. versionadded:: 1.7.0\n",
       "\n",
       "Returns\n",
       "-------\n",
       "indices : int or array of ints\n",
       "    Array of insertion points with the same shape as `v`,\n",
       "    or an integer if `v` is a scalar.\n",
       "\n",
       "See Also\n",
       "--------\n",
       "sort : Return a sorted copy of an array.\n",
       "histogram : Produce histogram from 1-D data.\n",
       "\n",
       "Notes\n",
       "-----\n",
       "Binary search is used to find the required insertion points.\n",
       "\n",
       "As of NumPy 1.4.0 `searchsorted` works with real/complex arrays containing\n",
       "`nan` values. The enhanced sort order is documented in `sort`.\n",
       "\n",
       "This function uses the same algorithm as the builtin python `bisect.bisect_left`\n",
       "(``side='left'``) and `bisect.bisect_right` (``side='right'``) functions,\n",
       "which is also vectorized in the `v` argument.\n",
       "\n",
       "Examples\n",
       "--------\n",
       ">>> np.searchsorted([1,2,3,4,5], 3)\n",
       "2\n",
       ">>> np.searchsorted([1,2,3,4,5], 3, side='right')\n",
       "3\n",
       ">>> np.searchsorted([1,2,3,4,5], [-10, 10, 2, 3])\n",
       "array([0, 5, 1, 2])\n",
       "\u001b[0;31mClass docstring:\u001b[0m\n",
       "Class to wrap functions with checks for __array_function__ overrides.\n",
       "\n",
       "All arguments are required, and can only be passed by position.\n",
       "\n",
       "Parameters\n",
       "----------\n",
       "dispatcher : function or None\n",
       "    The dispatcher function that returns a single sequence-like object\n",
       "    of all arguments relevant.  It must have the same signature (except\n",
       "    the default values) as the actual implementation.\n",
       "    If ``None``, this is a ``like=`` dispatcher and the\n",
       "    ``_ArrayFunctionDispatcher`` must be called with ``like`` as the\n",
       "    first (additional and positional) argument.\n",
       "implementation : function\n",
       "    Function that implements the operation on NumPy arrays without\n",
       "    overrides.  Arguments passed calling the ``_ArrayFunctionDispatcher``\n",
       "    will be forwarded to this (and the ``dispatcher``) as if using\n",
       "    ``*args, **kwargs``.\n",
       "\n",
       "Attributes\n",
       "----------\n",
       "_implementation : function\n",
       "    The original implementation passed in."
      ]
     },
     "metadata": {},
     "output_type": "display_data"
    }
   ],
   "source": [
    "np.searchsorted(x, x )"
   ]
  },
  {
   "cell_type": "code",
   "execution_count": null,
   "id": "f2ba036c-2a6f-42a7-b20f-294409d9d5d0",
   "metadata": {},
   "outputs": [],
   "source": []
  }
 ],
 "metadata": {
  "kernelspec": {
   "display_name": "py311",
   "language": "python",
   "name": "pytorch"
  },
  "language_info": {
   "codemirror_mode": {
    "name": "ipython",
    "version": 3
   },
   "file_extension": ".py",
   "mimetype": "text/x-python",
   "name": "python",
   "nbconvert_exporter": "python",
   "pygments_lexer": "ipython3",
   "version": "3.11.4"
  }
 },
 "nbformat": 4,
 "nbformat_minor": 5
}
