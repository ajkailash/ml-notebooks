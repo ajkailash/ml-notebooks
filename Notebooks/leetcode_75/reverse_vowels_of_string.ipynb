{
 "cells": [
  {
   "cell_type": "code",
   "execution_count": 47,
   "id": "3c30e2ca-5697-47cf-8321-47752487fcfb",
   "metadata": {},
   "outputs": [],
   "source": [
    "s = 'IceCreAm'\n",
    "vowels = ('a', 'e', 'i', 'o', 'u')\n",
    "out_s = ''\n",
    "index_dict = {}"
   ]
  },
  {
   "cell_type": "code",
   "execution_count": 48,
   "id": "c577b679-c692-4b0f-9515-1fc18d7b3f4f",
   "metadata": {},
   "outputs": [],
   "source": [
    "for idx, ch in enumerate(s):\n",
    "    if ch.lower() in vowels:\n",
    "        out_s += ch\n",
    "        index_dict[idx] = ch"
   ]
  },
  {
   "cell_type": "code",
   "execution_count": 49,
   "id": "e9beb732-c9d5-4e71-8c30-55bba5b6124c",
   "metadata": {},
   "outputs": [
    {
     "data": {
      "text/plain": [
       "{0: 'I', 2: 'e', 5: 'e', 6: 'A'}"
      ]
     },
     "execution_count": 49,
     "metadata": {},
     "output_type": "execute_result"
    }
   ],
   "source": [
    "index_dict"
   ]
  },
  {
   "cell_type": "code",
   "execution_count": 54,
   "id": "6529e2b2-2129-47de-b7b7-7eb054f71cb6",
   "metadata": {},
   "outputs": [
    {
     "data": {
      "text/plain": [
       "([6, 5, 2, 0], dict_values(['I', 'e', 'e', 'A']))"
      ]
     },
     "execution_count": 54,
     "metadata": {},
     "output_type": "execute_result"
    }
   ],
   "source": [
    "list(index_dict.keys())[::-1], index_dict.values()"
   ]
  },
  {
   "cell_type": "code",
   "execution_count": 53,
   "id": "752507b4-d63e-4100-ac59-a460b8026672",
   "metadata": {},
   "outputs": [
    {
     "data": {
      "text/plain": [
       "dict_values(['I', 'e', 'e', 'A'])"
      ]
     },
     "execution_count": 53,
     "metadata": {},
     "output_type": "execute_result"
    }
   ],
   "source": []
  },
  {
   "cell_type": "code",
   "execution_count": null,
   "id": "4cce79f0-010a-4424-a8ff-bc800473235c",
   "metadata": {},
   "outputs": [],
   "source": []
  }
 ],
 "metadata": {
  "kernelspec": {
   "display_name": "Python 3 (ipykernel)",
   "language": "python",
   "name": "python3"
  },
  "language_info": {
   "codemirror_mode": {
    "name": "ipython",
    "version": 3
   },
   "file_extension": ".py",
   "mimetype": "text/x-python",
   "name": "python",
   "nbconvert_exporter": "python",
   "pygments_lexer": "ipython3",
   "version": "3.11.4"
  }
 },
 "nbformat": 4,
 "nbformat_minor": 5
}
