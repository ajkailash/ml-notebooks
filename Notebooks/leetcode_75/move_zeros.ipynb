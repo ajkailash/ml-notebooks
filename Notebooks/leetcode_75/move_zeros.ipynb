{
 "cells": [
  {
   "cell_type": "code",
   "execution_count": 9,
   "id": "03d425a7-a553-4f04-835b-b162f038acf3",
   "metadata": {},
   "outputs": [],
   "source": [
    "nums = [0,1,0,3,12]"
   ]
  },
  {
   "cell_type": "code",
   "execution_count": 10,
   "id": "0c34f77d-81c2-46f5-b4e9-c2a8059aafb0",
   "metadata": {},
   "outputs": [],
   "source": [
    "zero_count = nums.count(0)\n",
    "nums = [i for i in nums if i !=0]\n",
    "nums.extend([0] * zero_count)"
   ]
  },
  {
   "cell_type": "code",
   "execution_count": 11,
   "id": "4a571c77-fcda-4966-8cc3-16a3c20163c4",
   "metadata": {},
   "outputs": [
    {
     "data": {
      "text/plain": [
       "[1, 3, 12, 0, 0]"
      ]
     },
     "execution_count": 11,
     "metadata": {},
     "output_type": "execute_result"
    }
   ],
   "source": [
    "nums"
   ]
  },
  {
   "cell_type": "code",
   "execution_count": null,
   "id": "50085c04-019d-4442-8923-b174110a4e87",
   "metadata": {},
   "outputs": [],
   "source": []
  }
 ],
 "metadata": {
  "kernelspec": {
   "display_name": "Python 3 (ipykernel)",
   "language": "python",
   "name": "python3"
  },
  "language_info": {
   "codemirror_mode": {
    "name": "ipython",
    "version": 3
   },
   "file_extension": ".py",
   "mimetype": "text/x-python",
   "name": "python",
   "nbconvert_exporter": "python",
   "pygments_lexer": "ipython3",
   "version": "3.11.4"
  }
 },
 "nbformat": 4,
 "nbformat_minor": 5
}
