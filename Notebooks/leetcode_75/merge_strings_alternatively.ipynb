{
 "cells": [
  {
   "cell_type": "code",
   "execution_count": 2,
   "id": "81852fa0-15be-4ab0-9ea8-1ca27f6570d8",
   "metadata": {},
   "outputs": [],
   "source": [
    "#input\n",
    "# word1 = \"abc\"\n",
    "# word2: \"pqr\"\n",
    "\n",
    "#output\n",
    "# \"apbqcr\""
   ]
  },
  {
   "cell_type": "code",
   "execution_count": 16,
   "id": "6ebea066-e586-4cae-9e29-14a7c5768f8c",
   "metadata": {},
   "outputs": [],
   "source": [
    "def merge_alternative(word1: str, word2: str) ->str:\n",
    "    merged_word = \"\"\n",
    "    for i in range(len(word1)):\n",
    "        merged_word += word1[i]\n",
    "        try:\n",
    "            if word2[i]:\n",
    "                merged_word += word2[i]\n",
    "        except IndexError:\n",
    "            merged_word += word1[i+1:]\n",
    "            return merged_word\n",
    "    if i < len(word2):\n",
    "        merged_word += word2[i+1:]\n",
    "    return merged_word"
   ]
  },
  {
   "cell_type": "code",
   "execution_count": null,
   "id": "e3931689-fbc5-401f-978b-1cd85657c111",
   "metadata": {},
   "outputs": [],
   "source": [
    "def ne"
   ]
  },
  {
   "cell_type": "code",
   "execution_count": 29,
   "id": "087bdf87-b05d-4976-a0bd-fc0a673f936a",
   "metadata": {},
   "outputs": [],
   "source": [
    "merged = []\n",
    "word1 = \"abc\"\n",
    "word2 = \"defgh\""
   ]
  },
  {
   "cell_type": "code",
   "execution_count": 30,
   "id": "9372be74-0293-4dac-a681-284cf67ef96f",
   "metadata": {},
   "outputs": [],
   "source": [
    "for ch1, ch2 in zip(word1, word2):\n",
    "    merged.append(ch1 + ch2)\n",
    "\n",
    "merged.append(word1[len(word2):])\n",
    "merged.append(word2[len(word1):])"
   ]
  },
  {
   "cell_type": "code",
   "execution_count": 32,
   "id": "fe7a1850-38b8-46ab-aca1-4de5f576ffc6",
   "metadata": {},
   "outputs": [
    {
     "data": {
      "text/plain": [
       "'adbecfgh'"
      ]
     },
     "execution_count": 32,
     "metadata": {},
     "output_type": "execute_result"
    }
   ],
   "source": [
    "\"\".join(merged)"
   ]
  },
  {
   "cell_type": "code",
   "execution_count": null,
   "id": "27e61ab2-88a9-496d-8fc7-79c035912efb",
   "metadata": {},
   "outputs": [],
   "source": []
  }
 ],
 "metadata": {
  "kernelspec": {
   "display_name": "py311",
   "language": "python",
   "name": "pytorch"
  },
  "language_info": {
   "codemirror_mode": {
    "name": "ipython",
    "version": 3
   },
   "file_extension": ".py",
   "mimetype": "text/x-python",
   "name": "python",
   "nbconvert_exporter": "python",
   "pygments_lexer": "ipython3",
   "version": "3.11.4"
  }
 },
 "nbformat": 4,
 "nbformat_minor": 5
}
