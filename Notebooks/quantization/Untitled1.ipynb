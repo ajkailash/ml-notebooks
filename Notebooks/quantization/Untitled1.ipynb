{
 "cells": [
  {
   "cell_type": "code",
   "execution_count": 31,
   "id": "bb7afe73-6916-40a5-947e-ded1c76ec084",
   "metadata": {},
   "outputs": [],
   "source": [
    "import torch\n",
    "from torch.quantization.observer import MinMaxObserver, MovingAverageMinMaxObserver, HistogramObserver"
   ]
  },
  {
   "cell_type": "code",
   "execution_count": 32,
   "id": "4f693a94-1d1b-45bc-a415-6ee9bf72f0df",
   "metadata": {},
   "outputs": [],
   "source": [
    "normal = torch.distributions.normal.Normal(0, 1)"
   ]
  },
  {
   "cell_type": "code",
   "execution_count": 33,
   "id": "2c7a15f7-2462-4846-9448-a09395420231",
   "metadata": {},
   "outputs": [],
   "source": [
    "C, L = 3, 4"
   ]
  },
  {
   "cell_type": "code",
   "execution_count": 34,
   "id": "1cd34afc-304b-4989-9cd0-4985751f3783",
   "metadata": {},
   "outputs": [],
   "source": [
    "inputs = [normal.sample((C, L)), normal.sample((C, L))]"
   ]
  },
  {
   "cell_type": "code",
   "execution_count": 35,
   "id": "30aa56d2-e97b-4a2e-ba5c-f59adedb36be",
   "metadata": {},
   "outputs": [],
   "source": [
    "observers = [MinMaxObserver(), MovingAverageMinMaxObserver(), HistogramObserver()]"
   ]
  },
  {
   "cell_type": "code",
   "execution_count": 36,
   "id": "bd8761be-41e7-41ee-9b4e-d1caa1c1fd36",
   "metadata": {},
   "outputs": [
    {
     "name": "stdout",
     "output_type": "stream",
     "text": [
      "MinMaxObserver (tensor([0.0186]), tensor([151], dtype=torch.int32))\n",
      "MovingAverageMinMaxObserver (tensor([0.0118]), tensor([118], dtype=torch.int32))\n",
      "HistogramObserver (tensor([0.0186]), tensor([151], dtype=torch.int32))\n"
     ]
    }
   ],
   "source": [
    "for obs in observers:\n",
    "    for x in inputs:\n",
    "        obs(x)\n",
    "    print(obs.__class__.__name__, obs.calculate_qparams())"
   ]
  },
  {
   "cell_type": "code",
   "execution_count": 37,
   "id": "2f09ec2c-1215-4f66-9377-979d53afa4cf",
   "metadata": {},
   "outputs": [
    {
     "data": {
      "text/plain": [
       "\u001b[0;31mSignature:\u001b[0m \u001b[0mobs\u001b[0m\u001b[0;34m.\u001b[0m\u001b[0mcalculate_qparams\u001b[0m\u001b[0;34m(\u001b[0m\u001b[0;34m)\u001b[0m\u001b[0;34m\u001b[0m\u001b[0;34m\u001b[0m\u001b[0m\n",
       "\u001b[0;31mDocstring:\u001b[0m <no docstring>\n",
       "\u001b[0;31mFile:\u001b[0m      ~/miniconda3/envs/torch/lib/python3.11/site-packages/torch/ao/quantization/observer.py\n",
       "\u001b[0;31mType:\u001b[0m      method"
      ]
     },
     "metadata": {},
     "output_type": "display_data"
    }
   ],
   "source": [
    "obs.calculate_qparams?"
   ]
  },
  {
   "cell_type": "code",
   "execution_count": 39,
   "id": "9600211d-26bd-4f43-9855-9f6f0f53a548",
   "metadata": {},
   "outputs": [
    {
     "data": {
      "text/plain": [
       "tensor(1.6133)"
      ]
     },
     "execution_count": 39,
     "metadata": {},
     "output_type": "execute_result"
    }
   ],
   "source": [
    "inputs[0].max()"
   ]
  },
  {
   "cell_type": "code",
   "execution_count": 42,
   "id": "ad4f2aa1-f1eb-4a61-90ca-9bc5171bd5f3",
   "metadata": {},
   "outputs": [],
   "source": [
    "pareto = torch.distributions.pareto.Pareto(1, 10)"
   ]
  },
  {
   "cell_type": "code",
   "execution_count": 45,
   "id": "759bbb7a-c7fd-4122-bf5d-29241e9431b3",
   "metadata": {},
   "outputs": [
    {
     "data": {
      "text/plain": [
       "tensor([1.0037, 1.0171, 1.2260, 1.3984, 1.0909, 1.0961, 1.0097, 1.0023, 1.0179,\n",
       "        1.0807])"
      ]
     },
     "execution_count": 45,
     "metadata": {},
     "output_type": "execute_result"
    }
   ],
   "source": [
    "pareto.sample((10,))"
   ]
  },
  {
   "cell_type": "code",
   "execution_count": 46,
   "id": "b2744242-5e0d-4396-b6cc-ed01fd331626",
   "metadata": {},
   "outputs": [
    {
     "data": {
      "text/plain": [
       "9408"
      ]
     },
     "execution_count": 46,
     "metadata": {},
     "output_type": "execute_result"
    }
   ],
   "source": [
    "3 * 64 * 7 * 7"
   ]
  },
  {
   "cell_type": "code",
   "execution_count": 47,
   "id": "2d4cafb2-2f47-4019-a30d-873dae2c3040",
   "metadata": {},
   "outputs": [],
   "source": [
    "from torch.quantization.observer import MovingAveragePerChannelMinMaxObserver"
   ]
  },
  {
   "cell_type": "code",
   "execution_count": 52,
   "id": "62027dbb-289d-42cc-b92f-a36fb2530fa9",
   "metadata": {},
   "outputs": [],
   "source": [
    "obs = MovingAveragePerChannelMinMaxObserver(ch_axis=0)"
   ]
  },
  {
   "cell_type": "code",
   "execution_count": 55,
   "id": "3a1501b4-42ca-4e12-bba8-1820f18bc698",
   "metadata": {},
   "outputs": [
    {
     "name": "stdout",
     "output_type": "stream",
     "text": [
      "(tensor([0.0063, 0.0105, 0.0113]), tensor([220, 126, 113], dtype=torch.int32))\n",
      "(tensor([0.0063, 0.0105, 0.0113]), tensor([217, 126, 114], dtype=torch.int32))\n"
     ]
    }
   ],
   "source": [
    "for x in inputs:\n",
    "    obs(x)\n",
    "    print(obs.calculate_qparams())"
   ]
  },
  {
   "cell_type": "code",
   "execution_count": 73,
   "id": "928404f4-272a-400b-81d4-9250812b30e8",
   "metadata": {},
   "outputs": [],
   "source": [
    "backend = 'qnnpack'\n",
    "qconfig = torch.quantization.get_default_qconfig(backend)\n",
    "torch.backends.quantized.engine = backend"
   ]
  },
  {
   "cell_type": "code",
   "execution_count": 74,
   "id": "2f51a362-3c82-4ba0-9c3b-f73292b08050",
   "metadata": {},
   "outputs": [
    {
     "data": {
      "text/plain": [
       "QConfig(activation=functools.partial(<class 'torch.ao.quantization.observer.HistogramObserver'>, reduce_range=False){}, weight=functools.partial(<class 'torch.ao.quantization.observer.MinMaxObserver'>, dtype=torch.qint8, qscheme=torch.per_tensor_symmetric){})"
      ]
     },
     "execution_count": 74,
     "metadata": {},
     "output_type": "execute_result"
    }
   ],
   "source": [
    "qconfig"
   ]
  },
  {
   "cell_type": "code",
   "execution_count": null,
   "id": "e26c548d-7952-4c68-9da4-eec39e0b50ef",
   "metadata": {},
   "outputs": [],
   "source": []
  },
  {
   "cell_type": "markdown",
   "id": "70fbecb5-134a-4c59-97ef-0789f39e4b82",
   "metadata": {},
   "source": [
    "## Post training dynamic quantization"
   ]
  },
  {
   "cell_type": "code",
   "execution_count": 65,
   "id": "635307d5-4c87-4bff-ad35-2cfa6d8700bb",
   "metadata": {},
   "outputs": [],
   "source": [
    "import torch.nn as nn\n",
    "from torch.quantization import quantize_dynamic"
   ]
  },
  {
   "cell_type": "code",
   "execution_count": 77,
   "id": "d537595a-5dc0-4191-9b9f-7931f6344228",
   "metadata": {},
   "outputs": [],
   "source": [
    "m = nn.Sequential(\n",
    "    nn.Conv2d(3, 16, 3),\n",
    "    nn.Linear(16, 32),\n",
    "    nn.ReLU(), \n",
    "    nn.Linear(32, 16)\n",
    ")"
   ]
  },
  {
   "cell_type": "code",
   "execution_count": 78,
   "id": "e05712cb-d157-4e47-8050-df882c32a342",
   "metadata": {},
   "outputs": [
    {
     "data": {
      "text/plain": [
       "Sequential(\n",
       "  (0): Conv2d(3, 16, kernel_size=(3, 3), stride=(1, 1))\n",
       "  (1): Linear(in_features=16, out_features=32, bias=True)\n",
       "  (2): ReLU()\n",
       "  (3): Linear(in_features=32, out_features=16, bias=True)\n",
       ")"
      ]
     },
     "execution_count": 78,
     "metadata": {},
     "output_type": "execute_result"
    }
   ],
   "source": [
    "m.eval()"
   ]
  },
  {
   "cell_type": "code",
   "execution_count": 79,
   "id": "fbeb07f3-7a84-4ff6-92d8-6be693b1762d",
   "metadata": {},
   "outputs": [],
   "source": [
    "model_quantized = quantize_dynamic(model=m, qconfig_spec={nn.Linear, nn.Conv2d}, dtype=torch.qint8, inplace=False)"
   ]
  },
  {
   "cell_type": "code",
   "execution_count": 80,
   "id": "310288e0-5f7c-428d-a10e-1b03bc276633",
   "metadata": {},
   "outputs": [
    {
     "data": {
      "text/plain": [
       "Sequential(\n",
       "  (0): Conv2d(3, 16, kernel_size=(3, 3), stride=(1, 1))\n",
       "  (1): DynamicQuantizedLinear(in_features=16, out_features=32, dtype=torch.qint8, qscheme=torch.per_tensor_affine)\n",
       "  (2): ReLU()\n",
       "  (3): DynamicQuantizedLinear(in_features=32, out_features=16, dtype=torch.qint8, qscheme=torch.per_tensor_affine)\n",
       ")"
      ]
     },
     "execution_count": 80,
     "metadata": {},
     "output_type": "execute_result"
    }
   ],
   "source": [
    "model_quantized"
   ]
  },
  {
   "cell_type": "code",
   "execution_count": 87,
   "id": "405ef937-f628-4346-8207-ebb2d8818721",
   "metadata": {},
   "outputs": [
    {
     "data": {
      "text/plain": [
       "1"
      ]
     },
     "execution_count": 87,
     "metadata": {},
     "output_type": "execute_result"
    }
   ],
   "source": [
    "model_quantized[1].weight().element_size()"
   ]
  },
  {
   "cell_type": "code",
   "execution_count": 92,
   "id": "a084d5c4-cae2-4bf4-99b1-d055c3d7a6f7",
   "metadata": {},
   "outputs": [
    {
     "data": {
      "text/plain": [
       "4"
      ]
     },
     "execution_count": 92,
     "metadata": {},
     "output_type": "execute_result"
    }
   ],
   "source": [
    "model_quantized[0].weight.element_size()"
   ]
  },
  {
   "cell_type": "markdown",
   "id": "327eaa53-85a5-4622-bf7d-4add3e8de641",
   "metadata": {},
   "source": [
    "### Post-training static quantization"
   ]
  },
  {
   "cell_type": "code",
   "execution_count": 97,
   "id": "fb818f24-a4e7-4e98-b892-4271cf038c3a",
   "metadata": {},
   "outputs": [],
   "source": [
    "import copy"
   ]
  },
  {
   "cell_type": "code",
   "execution_count": 94,
   "id": "536646da-f0d5-4cbb-a85d-1fdf756abb45",
   "metadata": {},
   "outputs": [],
   "source": [
    "model = nn.Sequential(nn.Conv2d(3, 16, 3), \n",
    "                     nn.BatchNorm2d(16), \n",
    "                     nn.ReLU(), \n",
    "                     nn.Conv2d(16, 64, 3), \n",
    "                     nn.BatchNorm2d(64), \n",
    "                     nn.ReLU())"
   ]
  },
  {
   "cell_type": "code",
   "execution_count": 98,
   "id": "273d810a-b0ce-4f52-b998-f34cd7e886a8",
   "metadata": {},
   "outputs": [],
   "source": [
    "m = copy.deepcopy(model)"
   ]
  },
  {
   "cell_type": "code",
   "execution_count": 99,
   "id": "3d47bada-d9b7-41e1-a70e-4c9079a7d9da",
   "metadata": {},
   "outputs": [
    {
     "data": {
      "text/plain": [
       "Sequential(\n",
       "  (0): Conv2d(3, 16, kernel_size=(3, 3), stride=(1, 1))\n",
       "  (1): BatchNorm2d(16, eps=1e-05, momentum=0.1, affine=True, track_running_stats=True)\n",
       "  (2): ReLU()\n",
       "  (3): Conv2d(16, 64, kernel_size=(3, 3), stride=(1, 1))\n",
       "  (4): BatchNorm2d(64, eps=1e-05, momentum=0.1, affine=True, track_running_stats=True)\n",
       "  (5): ReLU()\n",
       ")"
      ]
     },
     "execution_count": 99,
     "metadata": {},
     "output_type": "execute_result"
    }
   ],
   "source": [
    "m.eval()"
   ]
  },
  {
   "cell_type": "code",
   "execution_count": 96,
   "id": "94e9e650-0d4a-48a4-a755-84bd3f7903b3",
   "metadata": {},
   "outputs": [],
   "source": [
    "#Fuse Modules"
   ]
  },
  {
   "cell_type": "code",
   "execution_count": 101,
   "id": "2b8a326a-6d8d-4474-af79-2b46ff7c9b40",
   "metadata": {},
   "outputs": [
    {
     "data": {
      "text/plain": [
       "Sequential(\n",
       "  (0): ConvReLU2d(\n",
       "    (0): Conv2d(3, 16, kernel_size=(3, 3), stride=(1, 1))\n",
       "    (1): ReLU()\n",
       "  )\n",
       "  (1): Identity()\n",
       "  (2): Identity()\n",
       "  (3): ConvReLU2d(\n",
       "    (0): Conv2d(16, 64, kernel_size=(3, 3), stride=(1, 1))\n",
       "    (1): ReLU()\n",
       "  )\n",
       "  (4): Identity()\n",
       "  (5): Identity()\n",
       ")"
      ]
     },
     "execution_count": 101,
     "metadata": {},
     "output_type": "execute_result"
    }
   ],
   "source": [
    "torch.quantization.fuse_modules(m, [['0', '1', '2',], ['3', '4', '5']], inplace=True)"
   ]
  },
  {
   "cell_type": "code",
   "execution_count": 103,
   "id": "f1bbf04c-2049-4555-a03e-20ba18cd4bca",
   "metadata": {},
   "outputs": [],
   "source": [
    "#Insert Stubs"
   ]
  },
  {
   "cell_type": "code",
   "execution_count": 105,
   "id": "01e06e50-2167-4e9b-af3b-4b923111859a",
   "metadata": {},
   "outputs": [],
   "source": [
    "m = nn.Sequential(torch.quantization.QuantStub(), *m, \n",
    "              torch.quantization.DeQuantStub())"
   ]
  },
  {
   "cell_type": "code",
   "execution_count": 109,
   "id": "3f539f98-7f32-4106-b6e4-a239f7336664",
   "metadata": {},
   "outputs": [],
   "source": [
    "#Prepare"
   ]
  },
  {
   "cell_type": "code",
   "execution_count": 110,
   "id": "75016dd8-53d6-44a2-aa60-7c9a0b1c4a20",
   "metadata": {},
   "outputs": [],
   "source": [
    "m.qconfig = torch.quantization.get_default_qconfig(backend)"
   ]
  },
  {
   "cell_type": "code",
   "execution_count": 112,
   "id": "8e3701a1-6230-4c5b-ab37-18d378e0e272",
   "metadata": {},
   "outputs": [
    {
     "data": {
      "text/plain": [
       "Sequential(\n",
       "  (0): QuantStub(\n",
       "    (activation_post_process): HistogramObserver(min_val=inf, max_val=-inf)\n",
       "  )\n",
       "  (1): ConvReLU2d(\n",
       "    (0): Conv2d(3, 16, kernel_size=(3, 3), stride=(1, 1))\n",
       "    (1): ReLU()\n",
       "    (activation_post_process): HistogramObserver(min_val=inf, max_val=-inf)\n",
       "  )\n",
       "  (2): Identity()\n",
       "  (3): Identity()\n",
       "  (4): ConvReLU2d(\n",
       "    (0): Conv2d(16, 64, kernel_size=(3, 3), stride=(1, 1))\n",
       "    (1): ReLU()\n",
       "    (activation_post_process): HistogramObserver(min_val=inf, max_val=-inf)\n",
       "  )\n",
       "  (5): Identity()\n",
       "  (6): Identity()\n",
       "  (7): DeQuantStub()\n",
       ")"
      ]
     },
     "execution_count": 112,
     "metadata": {},
     "output_type": "execute_result"
    }
   ],
   "source": [
    "torch.quantization.prepare(m, inplace=True)"
   ]
  },
  {
   "cell_type": "code",
   "execution_count": 113,
   "id": "64b486bd-482a-48fe-a359-b40552cc5ce4",
   "metadata": {},
   "outputs": [],
   "source": [
    "#Calibrate\n",
    "with torch.inference_mode():\n",
    "    for _ in range(10):\n",
    "        x = torch.randn(1, 3, 224, 224)\n",
    "        m(x)"
   ]
  },
  {
   "cell_type": "code",
   "execution_count": 114,
   "id": "a0d99c32-3525-4b04-9743-a5b33383fd2f",
   "metadata": {},
   "outputs": [
    {
     "data": {
      "text/plain": [
       "Sequential(\n",
       "  (0): Quantize(scale=tensor([0.0316]), zero_point=tensor([129]), dtype=torch.quint8)\n",
       "  (1): QuantizedConvReLU2d(3, 16, kernel_size=(3, 3), stride=(1, 1), scale=0.008907907642424107, zero_point=0)\n",
       "  (2): Identity()\n",
       "  (3): Identity()\n",
       "  (4): QuantizedConvReLU2d(16, 64, kernel_size=(3, 3), stride=(1, 1), scale=0.003892553737387061, zero_point=0)\n",
       "  (5): Identity()\n",
       "  (6): Identity()\n",
       "  (7): DeQuantize()\n",
       ")"
      ]
     },
     "execution_count": 114,
     "metadata": {},
     "output_type": "execute_result"
    }
   ],
   "source": [
    "#Convert\n",
    "torch.quantization.convert(m, inplace=True)"
   ]
  },
  {
   "cell_type": "code",
   "execution_count": 121,
   "id": "b8fd87f7-f317-4b49-b9df-526bad77574e",
   "metadata": {},
   "outputs": [
    {
     "data": {
      "text/plain": [
       "1"
      ]
     },
     "execution_count": 121,
     "metadata": {},
     "output_type": "execute_result"
    }
   ],
   "source": [
    "m[1].weight().element_size()"
   ]
  },
  {
   "cell_type": "code",
   "execution_count": null,
   "id": "268924ea-9ddc-49f3-96e6-185890069e04",
   "metadata": {},
   "outputs": [],
   "source": []
  }
 ],
 "metadata": {
  "kernelspec": {
   "display_name": "py311",
   "language": "python",
   "name": "pytorch"
  },
  "language_info": {
   "codemirror_mode": {
    "name": "ipython",
    "version": 3
   },
   "file_extension": ".py",
   "mimetype": "text/x-python",
   "name": "python",
   "nbconvert_exporter": "python",
   "pygments_lexer": "ipython3",
   "version": "3.11.4"
  }
 },
 "nbformat": 4,
 "nbformat_minor": 5
}
