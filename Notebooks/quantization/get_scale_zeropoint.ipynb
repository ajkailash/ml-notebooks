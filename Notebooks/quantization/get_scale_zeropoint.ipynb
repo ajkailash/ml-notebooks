{
 "cells": [
  {
   "cell_type": "code",
   "execution_count": 1,
   "id": "3e02e23e-493f-47eb-8f98-c7bcdb8bde03",
   "metadata": {},
   "outputs": [],
   "source": [
    "import torch\n",
    "import import_ipynb"
   ]
  },
  {
   "cell_type": "code",
   "execution_count": 2,
   "id": "fcb13be0-03fa-4258-a855-1d10f13494d7",
   "metadata": {},
   "outputs": [
    {
     "name": "stdout",
     "output_type": "stream",
     "text": [
      "importing Jupyter notebook from quantize_dequantize.ipynb\n"
     ]
    }
   ],
   "source": [
    "import quantize_dequantize"
   ]
  },
  {
   "cell_type": "markdown",
   "id": "2e274f94-27d7-4c88-aea7-80b4e0dad4b7",
   "metadata": {},
   "source": [
    "## Scale and zero point"
   ]
  },
  {
   "cell_type": "markdown",
   "id": "84fb1fd1-28ac-4ad4-b799-e097bb3578b1",
   "metadata": {},
   "source": [
    "$s = (rmax - rmin)/ (qmax - qmin) $"
   ]
  },
  {
   "cell_type": "markdown",
   "id": "da064b55-60b6-4735-a0fd-5bb64977c7b7",
   "metadata": {},
   "source": [
    "$z = int(round(qmin - rmin / s))$"
   ]
  },
  {
   "cell_type": "code",
   "execution_count": 3,
   "id": "917f1570-2154-43d5-827b-b861b488576f",
   "metadata": {},
   "outputs": [],
   "source": [
    "def get_scale_and_zero_point(tensor, dtype):\n",
    "    q_min = torch.iinfo(dtype).min\n",
    "    q_max = torch.iinfo(dtype).max\n",
    "\n",
    "    r_min = torch.min(tensor).item()\n",
    "    r_max = torch.max(tensor).item()\n",
    "\n",
    "    scale = (r_max - r_min) / (q_max - q_min)\n",
    "\n",
    "    zero_point = q_min - (r_min / scale)\n",
    "\n",
    "    if zero_point < q_min:\n",
    "        zero_point = q_min\n",
    "    elif zero_point > q_max:\n",
    "        zero_point = q_max\n",
    "    else: \n",
    "        zero_point = int(round(zero_point))\n",
    "\n",
    "    return scale, zero_point"
   ]
  },
  {
   "cell_type": "code",
   "execution_count": 4,
   "id": "59428cf1-c37e-49db-8282-326b4b1a976a",
   "metadata": {},
   "outputs": [],
   "source": [
    "test_tensor = torch.randn((3, 3))"
   ]
  },
  {
   "cell_type": "code",
   "execution_count": 5,
   "id": "a60f3500-b9f6-4168-af1a-af9c774bcc52",
   "metadata": {},
   "outputs": [
    {
     "data": {
      "text/plain": [
       "tensor([[ 0.1918, -0.6646,  0.7098],\n",
       "        [ 0.7538, -0.1810,  0.6129],\n",
       "        [-0.5967, -0.4364,  0.6953]])"
      ]
     },
     "execution_count": 5,
     "metadata": {},
     "output_type": "execute_result"
    }
   ],
   "source": [
    "test_tensor"
   ]
  },
  {
   "cell_type": "code",
   "execution_count": 6,
   "id": "740cced7-d92a-462b-8714-15bbf62d03a8",
   "metadata": {},
   "outputs": [],
   "source": [
    "scale, zero_point = get_scale_and_zero_point(test_tensor, torch.int8)"
   ]
  },
  {
   "cell_type": "code",
   "execution_count": 7,
   "id": "3b626300-80a6-4a42-aa35-412c0cd076fd",
   "metadata": {},
   "outputs": [
    {
     "data": {
      "text/plain": [
       "(0.00556267920662375, -9)"
      ]
     },
     "execution_count": 7,
     "metadata": {},
     "output_type": "execute_result"
    }
   ],
   "source": [
    "scale, zero_point"
   ]
  },
  {
   "cell_type": "code",
   "execution_count": 8,
   "id": "39f8f9d4-707c-4227-8c86-0fbe4fe91efb",
   "metadata": {},
   "outputs": [],
   "source": [
    "quantized_tensor = quantize_dequantize.linear_q_with_scale_zero_point(test_tensor, scale, zero_point)"
   ]
  },
  {
   "cell_type": "code",
   "execution_count": 9,
   "id": "d6712c82-4eec-41f3-b073-92a69f651a24",
   "metadata": {},
   "outputs": [
    {
     "data": {
      "text/plain": [
       "tensor([[  25, -128,  119],\n",
       "        [ 127,  -42,  101],\n",
       "        [-116,  -87,  116]], dtype=torch.int8)"
      ]
     },
     "execution_count": 9,
     "metadata": {},
     "output_type": "execute_result"
    }
   ],
   "source": [
    "quantized_tensor"
   ]
  },
  {
   "cell_type": "code",
   "execution_count": 10,
   "id": "9ed4b646-2b1b-4b08-9d44-ed7cbd743a07",
   "metadata": {},
   "outputs": [],
   "source": [
    "dequantized_tensor = quantize_dequantize.linear_dq(quantized_tensor, scale, zero_point)"
   ]
  },
  {
   "cell_type": "code",
   "execution_count": 11,
   "id": "49293665-7393-41f4-9fe8-85c4dc66d8cb",
   "metadata": {},
   "outputs": [
    {
     "data": {
      "text/plain": [
       "tensor([[ 0.1891, -0.6620,  0.7120],\n",
       "        [ 0.7565, -0.1836,  0.6119],\n",
       "        [-0.5952, -0.4339,  0.6953]])"
      ]
     },
     "execution_count": 11,
     "metadata": {},
     "output_type": "execute_result"
    }
   ],
   "source": [
    "dequantized_tensor"
   ]
  },
  {
   "cell_type": "code",
   "execution_count": 16,
   "id": "43ca35c7-4941-4dc8-9637-546cc1492b3f",
   "metadata": {},
   "outputs": [
    {
     "data": {
      "text/plain": [
       "tensor(4.7723e-06)"
      ]
     },
     "execution_count": 16,
     "metadata": {},
     "output_type": "execute_result"
    }
   ],
   "source": [
    "torch.mean(torch.square(test_tensor - dequantized_tensor))"
   ]
  },
  {
   "cell_type": "code",
   "execution_count": null,
   "id": "a5607974-6991-41de-ba40-bd3b2c605f83",
   "metadata": {},
   "outputs": [],
   "source": []
  }
 ],
 "metadata": {
  "kernelspec": {
   "display_name": "py311",
   "language": "python",
   "name": "pytorch"
  },
  "language_info": {
   "codemirror_mode": {
    "name": "ipython",
    "version": 3
   },
   "file_extension": ".py",
   "mimetype": "text/x-python",
   "name": "python",
   "nbconvert_exporter": "python",
   "pygments_lexer": "ipython3",
   "version": "3.11.4"
  }
 },
 "nbformat": 4,
 "nbformat_minor": 5
}
