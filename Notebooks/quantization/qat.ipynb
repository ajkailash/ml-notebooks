{
 "cells": [
  {
   "cell_type": "code",
   "execution_count": 28,
   "id": "ea8f4a64-99e6-4ed7-a7b8-f6dc1c82e8ef",
   "metadata": {},
   "outputs": [],
   "source": [
    "import torch\n",
    "import torch.nn as nn"
   ]
  },
  {
   "cell_type": "markdown",
   "id": "06cab07b-02d1-4e49-812b-3748c63f458e",
   "metadata": {},
   "source": [
    "### Example Module"
   ]
  },
  {
   "cell_type": "code",
   "execution_count": 29,
   "id": "544bc88b-fe06-400d-806b-373f8f158c15",
   "metadata": {},
   "outputs": [],
   "source": [
    "class ConvBNAct(nn.Module):\n",
    "    def __init__(self, in_channels, out_channels, kernel_size):\n",
    "        super().__init__()\n",
    "        self.conv = nn.Conv2d(in_channels, out_channels, kernel_size, bias=False)\n",
    "        self.bn = nn.BatchNorm2d(out_channels)\n",
    "        self.act = nn.ReLU()\n",
    "\n",
    "    def forward(self, x):\n",
    "        x = self.conv(x)\n",
    "        x = self.bn(x)\n",
    "        return self.act(x)"
   ]
  },
  {
   "cell_type": "code",
   "execution_count": 30,
   "id": "f8456f5d-7044-46c2-8d94-09ac926e06ce",
   "metadata": {},
   "outputs": [],
   "source": [
    "class SampleModel(nn.Module):\n",
    "    def __init__(self):\n",
    "        super().__init__()\n",
    "        self.block1 = ConvBNAct(3, 16, 3)\n",
    "        self.block2 = ConvBNAct(16, 32, 3)\n",
    "\n",
    "    def forward(self, x):\n",
    "        x = self.block1(x)\n",
    "        return self.block2(x)"
   ]
  },
  {
   "cell_type": "code",
   "execution_count": 31,
   "id": "04182aa6-4d33-499e-b5b1-5232dd532c5c",
   "metadata": {},
   "outputs": [],
   "source": [
    "model = SampleModel()"
   ]
  },
  {
   "cell_type": "code",
   "execution_count": 32,
   "id": "011c271a-8ec0-4ee2-b42f-9812ca364289",
   "metadata": {},
   "outputs": [
    {
     "data": {
      "text/plain": [
       "SampleModel(\n",
       "  (block1): ConvBNAct(\n",
       "    (conv): Conv2d(3, 16, kernel_size=(3, 3), stride=(1, 1), bias=False)\n",
       "    (bn): BatchNorm2d(16, eps=1e-05, momentum=0.1, affine=True, track_running_stats=True)\n",
       "    (act): ReLU()\n",
       "  )\n",
       "  (block2): ConvBNAct(\n",
       "    (conv): Conv2d(16, 32, kernel_size=(3, 3), stride=(1, 1), bias=False)\n",
       "    (bn): BatchNorm2d(32, eps=1e-05, momentum=0.1, affine=True, track_running_stats=True)\n",
       "    (act): ReLU()\n",
       "  )\n",
       ")"
      ]
     },
     "execution_count": 32,
     "metadata": {},
     "output_type": "execute_result"
    }
   ],
   "source": [
    "model"
   ]
  },
  {
   "cell_type": "code",
   "execution_count": 13,
   "id": "b6db5d88-ad3a-44fa-8cb2-d2dee9266a83",
   "metadata": {},
   "outputs": [],
   "source": [
    "#Fuse"
   ]
  },
  {
   "cell_type": "code",
   "execution_count": 33,
   "id": "92588453-c41f-49a9-b409-68a41eded027",
   "metadata": {},
   "outputs": [],
   "source": [
    "# model.eval()\n",
    "# print()"
   ]
  },
  {
   "cell_type": "code",
   "execution_count": 36,
   "id": "8f9ea337-f294-48fe-adb2-904a53625b85",
   "metadata": {},
   "outputs": [
    {
     "data": {
      "text/plain": [
       "SampleModel(\n",
       "  (block1): ConvBNAct(\n",
       "    (conv): ConvBnReLU2d(\n",
       "      (0): Conv2d(3, 16, kernel_size=(3, 3), stride=(1, 1), bias=False)\n",
       "      (1): BatchNorm2d(16, eps=1e-05, momentum=0.1, affine=True, track_running_stats=True)\n",
       "      (2): ReLU()\n",
       "    )\n",
       "    (bn): Identity()\n",
       "    (act): Identity()\n",
       "  )\n",
       "  (block2): ConvBNAct(\n",
       "    (conv): ConvBnReLU2d(\n",
       "      (0): Conv2d(16, 32, kernel_size=(3, 3), stride=(1, 1), bias=False)\n",
       "      (1): BatchNorm2d(32, eps=1e-05, momentum=0.1, affine=True, track_running_stats=True)\n",
       "      (2): ReLU()\n",
       "    )\n",
       "    (bn): Identity()\n",
       "    (act): Identity()\n",
       "  )\n",
       ")"
      ]
     },
     "execution_count": 36,
     "metadata": {},
     "output_type": "execute_result"
    }
   ],
   "source": [
    "torch.ao.quantization.fuse_modules_qat(model, [[\"block1.conv\", \"block1.bn\", \"block1.act\"], \n",
    "                                        [\"block2.conv\", \"block2.bn\", \"block2.act\"]])"
   ]
  },
  {
   "cell_type": "code",
   "execution_count": 21,
   "id": "63eea209-60b4-4d72-bd80-0437aefd1caa",
   "metadata": {},
   "outputs": [
    {
     "data": {
      "text/plain": [
       "__main__.ConvBNAct"
      ]
     },
     "execution_count": 21,
     "metadata": {},
     "output_type": "execute_result"
    }
   ],
   "source": [
    "type(model.block1)"
   ]
  },
  {
   "cell_type": "code",
   "execution_count": null,
   "id": "7f932acc-48df-4f17-8ca4-f2adc54c5843",
   "metadata": {},
   "outputs": [],
   "source": []
  }
 ],
 "metadata": {
  "kernelspec": {
   "display_name": "py311",
   "language": "python",
   "name": "pytorch"
  },
  "language_info": {
   "codemirror_mode": {
    "name": "ipython",
    "version": 3
   },
   "file_extension": ".py",
   "mimetype": "text/x-python",
   "name": "python",
   "nbconvert_exporter": "python",
   "pygments_lexer": "ipython3",
   "version": "3.11.4"
  }
 },
 "nbformat": 4,
 "nbformat_minor": 5
}
