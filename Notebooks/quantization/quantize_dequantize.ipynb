{
 "cells": [
  {
   "cell_type": "markdown",
   "id": "a08f18c8-d194-4985-9c4e-8baeb1e8b112",
   "metadata": {},
   "source": [
    "## Quantization"
   ]
  },
  {
   "cell_type": "markdown",
   "id": "815c0c21-dd9c-4979-9ff6-f730b260749f",
   "metadata": {},
   "source": [
    "What you can quantize?\n",
    "- weights (parameters of the neural network)\n",
    "- activations (intermediate representations or the values that propagate through the network)\n",
    "- PTQ (post training quantization)"
   ]
  },
  {
   "cell_type": "code",
   "execution_count": 1,
   "id": "a64edffa-cfca-4ee9-8e0e-2b9364e0de8b",
   "metadata": {},
   "outputs": [],
   "source": [
    "# formula to de-quantize\n",
    "#r = s(q - z)\n",
    "\n",
    "# formula to quantize\n",
    "# q = int(round(r/s + z))\n",
    "\n",
    "#s: scale, #z: zeropoint\n",
    "#q = quantized tensor, #r = unquantized tensor"
   ]
  },
  {
   "cell_type": "code",
   "execution_count": 2,
   "id": "5a3e2743-a4e5-45d0-b79a-4c68431db15c",
   "metadata": {},
   "outputs": [
    {
     "data": {
      "text/plain": [
       "<torch._C.Generator at 0x10977f970>"
      ]
     },
     "execution_count": 2,
     "metadata": {},
     "output_type": "execute_result"
    }
   ],
   "source": [
    "import torch\n",
    "torch.manual_seed(-1)"
   ]
  },
  {
   "cell_type": "code",
   "execution_count": 3,
   "id": "95d4f825-5852-4ad4-be06-15e97a92e3f9",
   "metadata": {},
   "outputs": [],
   "source": [
    "def linear_q_with_scale_zero_point(tensor, scale, zeropoint, dtype=torch.int8):\n",
    "    scaled_shifted_tensor =  tensor / scale + zeropoint\n",
    "\n",
    "    rounded_tensor = torch.round(scaled_shifted_tensor)\n",
    "\n",
    "    q_min, q_max = torch.iinfo(dtype).min, torch.iinfo(dtype).max\n",
    "\n",
    "    q_tensor = torch.clamp(rounded_tensor, min=q_min, max=q_max).to(dtype)\n",
    "\n",
    "    return q_tensor"
   ]
  },
  {
   "cell_type": "code",
   "execution_count": 22,
   "id": "e7130bf6-8fea-4212-b97d-8d56308b3a17",
   "metadata": {},
   "outputs": [],
   "source": [
    "def linear_dq(quantized_tensor, scale, zero_point):\n",
    "    return scale * (quantized_tensor.float() - zero_point)"
   ]
  },
  {
   "cell_type": "code",
   "execution_count": 23,
   "id": "fcd7d876-b48e-48bf-a3f3-61b7d2c6c095",
   "metadata": {},
   "outputs": [],
   "source": [
    "test_tensor = torch.randn((3, 3))"
   ]
  },
  {
   "cell_type": "code",
   "execution_count": 24,
   "id": "5d37c788-5064-4302-b513-723d09905111",
   "metadata": {},
   "outputs": [
    {
     "data": {
      "text/plain": [
       "tensor([[-1.2638,  1.2812,  2.2326],\n",
       "        [ 0.3689, -1.3515, -1.6983],\n",
       "        [ 2.0415,  0.9185,  0.8641]])"
      ]
     },
     "execution_count": 24,
     "metadata": {},
     "output_type": "execute_result"
    }
   ],
   "source": [
    "test_tensor"
   ]
  },
  {
   "cell_type": "code",
   "execution_count": 25,
   "id": "197f211e-77b5-4ec9-aa6b-e03ebd2ff019",
   "metadata": {},
   "outputs": [],
   "source": [
    "#random scale and zero-point values\n",
    "scale = 0.01 #dataype should be the same as the input tensor\n",
    "zero_point = -9 #datatype should be same as quantized tensor"
   ]
  },
  {
   "cell_type": "code",
   "execution_count": 26,
   "id": "aab734aa-0bb5-4a75-a3b0-bf924c47ad4d",
   "metadata": {},
   "outputs": [],
   "source": [
    "quantized_tensor = linear_q_with_scale_zero_point(test_tensor, scale, zero_point)"
   ]
  },
  {
   "cell_type": "code",
   "execution_count": 27,
   "id": "aceda19d-a0a4-4785-9d74-e99e89b1713b",
   "metadata": {},
   "outputs": [
    {
     "data": {
      "text/plain": [
       "tensor([[-128,  119,  127],\n",
       "        [  28, -128, -128],\n",
       "        [ 127,   83,   77]], dtype=torch.int8)"
      ]
     },
     "execution_count": 27,
     "metadata": {},
     "output_type": "execute_result"
    }
   ],
   "source": [
    "quantized_tensor"
   ]
  },
  {
   "cell_type": "code",
   "execution_count": 28,
   "id": "4b926b79-8a57-422e-9ce5-f16aa75d9981",
   "metadata": {},
   "outputs": [],
   "source": [
    "dequanized_tensor = linear_dq(quantized_tensor, scale, zero_point)"
   ]
  },
  {
   "cell_type": "code",
   "execution_count": 29,
   "id": "e57a7ec2-2eca-4f8d-aac1-af4ec69b920f",
   "metadata": {},
   "outputs": [
    {
     "data": {
      "text/plain": [
       "tensor([[-1.1900,  1.2800,  1.3600],\n",
       "        [ 0.3700, -1.1900, -1.1900],\n",
       "        [ 1.3600,  0.9200,  0.8600]])"
      ]
     },
     "execution_count": 29,
     "metadata": {},
     "output_type": "execute_result"
    }
   ],
   "source": [
    "dequanized_tensor"
   ]
  },
  {
   "cell_type": "code",
   "execution_count": 30,
   "id": "f7e905ed-3bcb-4ebd-915b-0872f83fbe95",
   "metadata": {},
   "outputs": [
    {
     "data": {
      "text/plain": [
       "tensor([[-1.2638,  1.2812,  2.2326],\n",
       "        [ 0.3689, -1.3515, -1.6983],\n",
       "        [ 2.0415,  0.9185,  0.8641]])"
      ]
     },
     "execution_count": 30,
     "metadata": {},
     "output_type": "execute_result"
    }
   ],
   "source": [
    "test_tensor"
   ]
  },
  {
   "cell_type": "code",
   "execution_count": null,
   "id": "8e85aca0-39dd-47aa-9a41-c03c0b59182f",
   "metadata": {},
   "outputs": [],
   "source": []
  }
 ],
 "metadata": {
  "kernelspec": {
   "display_name": "py311",
   "language": "python",
   "name": "pytorch"
  },
  "language_info": {
   "codemirror_mode": {
    "name": "ipython",
    "version": 3
   },
   "file_extension": ".py",
   "mimetype": "text/x-python",
   "name": "python",
   "nbconvert_exporter": "python",
   "pygments_lexer": "ipython3",
   "version": "3.11.4"
  }
 },
 "nbformat": 4,
 "nbformat_minor": 5
}
