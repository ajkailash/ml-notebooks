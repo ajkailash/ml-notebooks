{
 "cells": [
  {
   "cell_type": "code",
   "execution_count": 26,
   "id": "2a747c6a-2ad7-4b83-b303-cdb761402754",
   "metadata": {},
   "outputs": [],
   "source": [
    "from transformers import AutoTokenizer, AutoModelForCausalLM\n",
    "from quanto import quantize, freeze\n",
    "import torch"
   ]
  },
  {
   "cell_type": "code",
   "execution_count": 2,
   "id": "b2949314-947f-4d32-8f28-d237e339fd19",
   "metadata": {},
   "outputs": [],
   "source": [
    "model_name = \"EleutherAI/pythia-410m\""
   ]
  },
  {
   "cell_type": "code",
   "execution_count": 3,
   "id": "154d75d5-cc25-46c4-8f1d-c06e7b6c370e",
   "metadata": {},
   "outputs": [
    {
     "name": "stderr",
     "output_type": "stream",
     "text": [
      "/Users/lakshmi-4250/miniconda3/envs/torch/lib/python3.11/site-packages/huggingface_hub/file_download.py:1132: FutureWarning: `resume_download` is deprecated and will be removed in version 1.0.0. Downloads always resume when possible. If you want to force a new download, use `force_download=True`.\n",
      "  warnings.warn(\n",
      "/Users/lakshmi-4250/miniconda3/envs/torch/lib/python3.11/site-packages/huggingface_hub/file_download.py:1132: FutureWarning: `resume_download` is deprecated and will be removed in version 1.0.0. Downloads always resume when possible. If you want to force a new download, use `force_download=True`.\n",
      "  warnings.warn(\n"
     ]
    }
   ],
   "source": [
    "model = AutoModelForCausalLM.from_pretrained(model_name, low_cpu_mem_usage=True)"
   ]
  },
  {
   "cell_type": "code",
   "execution_count": 4,
   "id": "a56c6c26-4fbc-4007-af63-211adcc75c61",
   "metadata": {},
   "outputs": [
    {
     "name": "stderr",
     "output_type": "stream",
     "text": [
      "Special tokens have been added in the vocabulary, make sure the associated word embeddings are fine-tuned or trained.\n"
     ]
    }
   ],
   "source": [
    "tokenizer = AutoTokenizer.from_pretrained(model_name)"
   ]
  },
  {
   "cell_type": "code",
   "execution_count": 5,
   "id": "c8bcd5e2-6326-4efe-896f-c72ae6093806",
   "metadata": {},
   "outputs": [],
   "source": [
    "text = \"Hello, my name is\""
   ]
  },
  {
   "cell_type": "code",
   "execution_count": 6,
   "id": "7cabbf60-759d-40cf-a91e-d08898e456ae",
   "metadata": {},
   "outputs": [],
   "source": [
    "inputs = tokenizer(text, return_tensors=\"pt\")"
   ]
  },
  {
   "cell_type": "code",
   "execution_count": 7,
   "id": "e748af86-62d3-4d46-a382-40c7ef6bab8c",
   "metadata": {},
   "outputs": [
    {
     "name": "stderr",
     "output_type": "stream",
     "text": [
      "Setting `pad_token_id` to `eos_token_id`:0 for open-end generation.\n"
     ]
    }
   ],
   "source": [
    "outputs = model.generate(**inputs, max_new_tokens=10)"
   ]
  },
  {
   "cell_type": "code",
   "execution_count": 8,
   "id": "2ac1eacf-bd76-4d15-996b-c1ca0270ffc3",
   "metadata": {},
   "outputs": [
    {
     "data": {
      "text/plain": [
       "'Hello, my name is John.\" \"I\\'m a lawyer.\" \"I'"
      ]
     },
     "execution_count": 8,
     "metadata": {},
     "output_type": "execute_result"
    }
   ],
   "source": [
    "tokenizer.decode(outputs[0], skip_special_tokens=True)"
   ]
  },
  {
   "cell_type": "code",
   "execution_count": 9,
   "id": "f47bccab-31b0-4ad1-99b7-b032416543e8",
   "metadata": {},
   "outputs": [],
   "source": [
    "def compute_model_sizes(model):\n",
    "    param_size = 0\n",
    "    for p in model.parameters():\n",
    "        param_size += p.nelement() * p.element_size()\n",
    "        \n",
    "    buffer_size = 0\n",
    "    for b in model.buffers():\n",
    "        buffer_size += b.nelement() * b.element_size()\n",
    "        \n",
    "    all_size = (param_size + buffer_size) / 1024**3\n",
    "    return all_size"
   ]
  },
  {
   "cell_type": "code",
   "execution_count": 10,
   "id": "714684e9-f281-4cd6-a254-e70ca12cdd19",
   "metadata": {},
   "outputs": [
    {
     "name": "stdout",
     "output_type": "stream",
     "text": [
      "The model size is 1.6095970571041107 GB\n"
     ]
    }
   ],
   "source": [
    "model_size = compute_model_sizes(model)\n",
    "print(f\"The model size is {model_size} GB\")"
   ]
  },
  {
   "cell_type": "code",
   "execution_count": 11,
   "id": "014d808b-a69b-4719-b05d-2b3ac96b3d60",
   "metadata": {},
   "outputs": [],
   "source": [
    "quantize(model, weights=torch.int8, activations=None)"
   ]
  },
  {
   "cell_type": "code",
   "execution_count": 12,
   "id": "8378e760-115e-4cd1-be99-8ac7f3c3e1f1",
   "metadata": {},
   "outputs": [
    {
     "data": {
      "text/plain": [
       "GPTNeoXForCausalLM(\n",
       "  (gpt_neox): GPTNeoXModel(\n",
       "    (embed_in): Embedding(50304, 1024)\n",
       "    (emb_dropout): Dropout(p=0.0, inplace=False)\n",
       "    (layers): ModuleList(\n",
       "      (0-23): 24 x GPTNeoXLayer(\n",
       "        (input_layernorm): LayerNorm((1024,), eps=1e-05, elementwise_affine=True)\n",
       "        (post_attention_layernorm): LayerNorm((1024,), eps=1e-05, elementwise_affine=True)\n",
       "        (post_attention_dropout): Dropout(p=0.0, inplace=False)\n",
       "        (post_mlp_dropout): Dropout(p=0.0, inplace=False)\n",
       "        (attention): GPTNeoXAttention(\n",
       "          (rotary_emb): GPTNeoXRotaryEmbedding()\n",
       "          (query_key_value): QLinear(in_features=1024, out_features=3072, bias=True)\n",
       "          (dense): QLinear(in_features=1024, out_features=1024, bias=True)\n",
       "          (attention_dropout): Dropout(p=0.0, inplace=False)\n",
       "        )\n",
       "        (mlp): GPTNeoXMLP(\n",
       "          (dense_h_to_4h): QLinear(in_features=1024, out_features=4096, bias=True)\n",
       "          (dense_4h_to_h): QLinear(in_features=4096, out_features=1024, bias=True)\n",
       "          (act): GELUActivation()\n",
       "        )\n",
       "      )\n",
       "    )\n",
       "    (final_layer_norm): LayerNorm((1024,), eps=1e-05, elementwise_affine=True)\n",
       "  )\n",
       "  (embed_out): QLinear(in_features=1024, out_features=50304, bias=False)\n",
       ")"
      ]
     },
     "execution_count": 12,
     "metadata": {},
     "output_type": "execute_result"
    }
   ],
   "source": [
    "model"
   ]
  },
  {
   "cell_type": "code",
   "execution_count": 13,
   "id": "71dd7272-ed11-421b-8c46-76360ccee942",
   "metadata": {},
   "outputs": [
    {
     "data": {
      "text/plain": [
       "GPTNeoXModel(\n",
       "  (embed_in): Embedding(50304, 1024)\n",
       "  (emb_dropout): Dropout(p=0.0, inplace=False)\n",
       "  (layers): ModuleList(\n",
       "    (0-23): 24 x GPTNeoXLayer(\n",
       "      (input_layernorm): LayerNorm((1024,), eps=1e-05, elementwise_affine=True)\n",
       "      (post_attention_layernorm): LayerNorm((1024,), eps=1e-05, elementwise_affine=True)\n",
       "      (post_attention_dropout): Dropout(p=0.0, inplace=False)\n",
       "      (post_mlp_dropout): Dropout(p=0.0, inplace=False)\n",
       "      (attention): GPTNeoXAttention(\n",
       "        (rotary_emb): GPTNeoXRotaryEmbedding()\n",
       "        (query_key_value): QLinear(in_features=1024, out_features=3072, bias=True)\n",
       "        (dense): QLinear(in_features=1024, out_features=1024, bias=True)\n",
       "        (attention_dropout): Dropout(p=0.0, inplace=False)\n",
       "      )\n",
       "      (mlp): GPTNeoXMLP(\n",
       "        (dense_h_to_4h): QLinear(in_features=1024, out_features=4096, bias=True)\n",
       "        (dense_4h_to_h): QLinear(in_features=4096, out_features=1024, bias=True)\n",
       "        (act): GELUActivation()\n",
       "      )\n",
       "    )\n",
       "  )\n",
       "  (final_layer_norm): LayerNorm((1024,), eps=1e-05, elementwise_affine=True)\n",
       ")"
      ]
     },
     "execution_count": 13,
     "metadata": {},
     "output_type": "execute_result"
    }
   ],
   "source": [
    "model.gpt_neox"
   ]
  },
  {
   "cell_type": "code",
   "execution_count": 24,
   "id": "209741a4-3f72-4c81-b95a-d966f4b99ceb",
   "metadata": {},
   "outputs": [
    {
     "data": {
      "text/plain": [
       "Parameter containing:\n",
       "tensor([[ 0.0061, -0.0016, -0.0068,  ..., -0.0062,  0.0138,  0.0222],\n",
       "        [ 0.0077,  0.0157, -0.0090,  ...,  0.0013, -0.0132,  0.0109],\n",
       "        [-0.0330,  0.0008,  0.0281,  ...,  0.0026,  0.0456, -0.0077],\n",
       "        ...,\n",
       "        [-0.0105,  0.0091, -0.0137,  ..., -0.0046,  0.0371, -0.0077],\n",
       "        [-0.0063,  0.0035,  0.0147,  ...,  0.0220,  0.0158,  0.0224],\n",
       "        [-0.0299,  0.0129,  0.0208,  ..., -0.0040, -0.0065,  0.0122]],\n",
       "       requires_grad=True)"
      ]
     },
     "execution_count": 24,
     "metadata": {},
     "output_type": "execute_result"
    }
   ],
   "source": [
    "model.gpt_neox.layers[0].attention.dense.weight"
   ]
  },
  {
   "cell_type": "code",
   "execution_count": 27,
   "id": "40d9a807-406f-4517-b70d-41daf170f5ea",
   "metadata": {},
   "outputs": [],
   "source": [
    "freeze(model)"
   ]
  },
  {
   "cell_type": "code",
   "execution_count": 28,
   "id": "fc1e14f1-5337-42f1-83c7-3950d6c7f535",
   "metadata": {},
   "outputs": [
    {
     "data": {
      "text/plain": [
       "QTensor(tensor([[ 12,  -3, -14,  ..., -12,  28,  45],\n",
       "        [ 18,  37, -21,  ...,   3, -31,  26],\n",
       "        [-75,   2,  64,  ...,   6, 104, -18],\n",
       "        ...,\n",
       "        [-25,  22, -33,  ..., -11,  89, -19],\n",
       "        [-14,   8,  33,  ...,  49,  35,  50],\n",
       "        [-56,  24,  39,  ...,  -8, -12,  23]], dtype=torch.int8), scale=tensor([[0.0005],\n",
       "        [0.0004],\n",
       "        [0.0004],\n",
       "        ...,\n",
       "        [0.0004],\n",
       "        [0.0004],\n",
       "        [0.0005]]), public_dtype=torch.float32, requires_grad=True)"
      ]
     },
     "execution_count": 28,
     "metadata": {},
     "output_type": "execute_result"
    }
   ],
   "source": [
    "model.gpt_neox.layers[0].attention.dense.weight"
   ]
  },
  {
   "cell_type": "code",
   "execution_count": 29,
   "id": "067b1df6-4222-4a70-be50-02fb68339546",
   "metadata": {},
   "outputs": [
    {
     "data": {
      "text/plain": [
       "1.6095977798104286"
      ]
     },
     "execution_count": 29,
     "metadata": {},
     "output_type": "execute_result"
    }
   ],
   "source": [
    "compute_model_sizes(model)"
   ]
  },
  {
   "cell_type": "code",
   "execution_count": 31,
   "id": "fa375283-3a47-40bc-850e-26a0ab3c939a",
   "metadata": {},
   "outputs": [
    {
     "data": {
      "text/plain": [
       "GPTNeoXForCausalLM(\n",
       "  (gpt_neox): GPTNeoXModel(\n",
       "    (embed_in): Embedding(50304, 1024)\n",
       "    (emb_dropout): Dropout(p=0.0, inplace=False)\n",
       "    (layers): ModuleList(\n",
       "      (0-23): 24 x GPTNeoXLayer(\n",
       "        (input_layernorm): LayerNorm((1024,), eps=1e-05, elementwise_affine=True)\n",
       "        (post_attention_layernorm): LayerNorm((1024,), eps=1e-05, elementwise_affine=True)\n",
       "        (post_attention_dropout): Dropout(p=0.0, inplace=False)\n",
       "        (post_mlp_dropout): Dropout(p=0.0, inplace=False)\n",
       "        (attention): GPTNeoXAttention(\n",
       "          (rotary_emb): GPTNeoXRotaryEmbedding()\n",
       "          (query_key_value): QLinear(in_features=1024, out_features=3072, bias=True)\n",
       "          (dense): QLinear(in_features=1024, out_features=1024, bias=True)\n",
       "          (attention_dropout): Dropout(p=0.0, inplace=False)\n",
       "        )\n",
       "        (mlp): GPTNeoXMLP(\n",
       "          (dense_h_to_4h): QLinear(in_features=1024, out_features=4096, bias=True)\n",
       "          (dense_4h_to_h): QLinear(in_features=4096, out_features=1024, bias=True)\n",
       "          (act): GELUActivation()\n",
       "        )\n",
       "      )\n",
       "    )\n",
       "    (final_layer_norm): LayerNorm((1024,), eps=1e-05, elementwise_affine=True)\n",
       "  )\n",
       "  (embed_out): QLinear(in_features=1024, out_features=50304, bias=False)\n",
       ")"
      ]
     },
     "execution_count": 31,
     "metadata": {},
     "output_type": "execute_result"
    }
   ],
   "source": [
    "model"
   ]
  },
  {
   "cell_type": "code",
   "execution_count": null,
   "id": "cdeaa303-8063-456d-9c66-76a2738d41a9",
   "metadata": {},
   "outputs": [],
   "source": []
  }
 ],
 "metadata": {
  "kernelspec": {
   "display_name": "py311",
   "language": "python",
   "name": "pytorch"
  },
  "language_info": {
   "codemirror_mode": {
    "name": "ipython",
    "version": 3
   },
   "file_extension": ".py",
   "mimetype": "text/x-python",
   "name": "python",
   "nbconvert_exporter": "python",
   "pygments_lexer": "ipython3",
   "version": "3.11.4"
  }
 },
 "nbformat": 4,
 "nbformat_minor": 5
}
