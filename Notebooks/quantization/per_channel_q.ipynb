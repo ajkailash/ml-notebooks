{
 "cells": [
  {
   "cell_type": "code",
   "execution_count": 1,
   "id": "5e721001-0413-4fd9-9446-03cf7229e957",
   "metadata": {},
   "outputs": [],
   "source": [
    "import torch\n",
    "from helper import *"
   ]
  },
  {
   "cell_type": "code",
   "execution_count": 2,
   "id": "1a4e9c5a-1350-4483-94d7-50acd332a7d3",
   "metadata": {},
   "outputs": [],
   "source": [
    "def linear_q_symmetric_per_channel(r_tensor, dim, dtype=torch.int8):\n",
    "    output_dim = r_tensor.shape[dim]\n",
    "    scale = torch.zeros(output_dim)\n",
    "    for index in range(output_dim):\n",
    "        sub_tensor = torch.select(r_tensor, dim, index)\n",
    "        scale[index] = get_q_scale_symmetric(sub_tensor, dtype)\n",
    "\n",
    "    scale_shape = [1] * r_tensor.dim()\n",
    "    scale_shape[dim] = -1\n",
    "    scale = scale.view(scale_shape)\n",
    "\n",
    "    quantized_tensor = linear_q_with_scale_zero_point(r_tensor, scale, zeropoint=0)\n",
    "\n",
    "    return quantized_tensor, scale"
   ]
  },
  {
   "cell_type": "code",
   "execution_count": 4,
   "id": "20db1c21-88d4-4be6-ace1-28ceb31cb732",
   "metadata": {},
   "outputs": [],
   "source": [
    "test_tensor = torch.randn((3, 3))"
   ]
  },
  {
   "cell_type": "code",
   "execution_count": 5,
   "id": "e52901ab-b830-48d8-8eb5-b324b4b38605",
   "metadata": {},
   "outputs": [],
   "source": [
    "quantized_tensor, scale = linear_q_symmetric_per_channel(test_tensor, 0)"
   ]
  },
  {
   "cell_type": "code",
   "execution_count": 6,
   "id": "faaa2a32-9e54-4409-83cd-448463c982e2",
   "metadata": {},
   "outputs": [],
   "source": [
    "dequantized_tensor = linear_dequantization(quantized_tensor, scale=scale, zero_point=0)"
   ]
  },
  {
   "cell_type": "code",
   "execution_count": null,
   "id": "747b7f07-b632-4394-ba44-442031d70b50",
   "metadata": {},
   "outputs": [],
   "source": []
  }
 ],
 "metadata": {
  "kernelspec": {
   "display_name": "py311",
   "language": "python",
   "name": "pytorch"
  },
  "language_info": {
   "codemirror_mode": {
    "name": "ipython",
    "version": 3
   },
   "file_extension": ".py",
   "mimetype": "text/x-python",
   "name": "python",
   "nbconvert_exporter": "python",
   "pygments_lexer": "ipython3",
   "version": "3.11.4"
  }
 },
 "nbformat": 4,
 "nbformat_minor": 5
}
