{
 "cells": [
  {
   "cell_type": "code",
   "execution_count": 6,
   "id": "270d1095-1748-4860-b4f3-b68f01bf9b67",
   "metadata": {},
   "outputs": [],
   "source": [
    "def longestPalindrome(s: str) -> str:\n",
    "    pal_list = []\n",
    "    for idx, ch in enumerate(s):\n",
    "        sub_str = ''\n",
    "        for s_idx in range(idx+1, len(s)):\n",
    "            sub_str += s[s_idx]\n",
    "            curr_str = ch + sub_str\n",
    "            if  curr_str == curr_str[::-1]:\n",
    "                pal_list.append(curr_str)\n",
    "    if len(pal_list) > 0:\n",
    "        return sorted(pal_list, key=lambda x: len(x))[0]\n",
    "        "
   ]
  },
  {
   "cell_type": "code",
   "execution_count": 7,
   "id": "687a2927-dd99-4541-a988-1774f1e8bbea",
   "metadata": {},
   "outputs": [],
   "source": [
    "pal_list = longestPalindrome(\"babad\")"
   ]
  },
  {
   "cell_type": "code",
   "execution_count": 10,
   "id": "7d158b71-e3f2-4b30-a1d0-24441179fb5f",
   "metadata": {},
   "outputs": [
    {
     "data": {
      "text/plain": [
       "'bab'"
      ]
     },
     "execution_count": 10,
     "metadata": {},
     "output_type": "execute_result"
    }
   ],
   "source": [
    "sorted(pal_list, key=lambda x: len(x))[0]"
   ]
  },
  {
   "cell_type": "code",
   "execution_count": 13,
   "id": "f7081db4-0698-456b-9300-e226bc489c81",
   "metadata": {},
   "outputs": [
    {
     "data": {
      "text/plain": [
       "False"
      ]
     },
     "execution_count": 13,
     "metadata": {},
     "output_type": "execute_result"
    }
   ],
   "source": [
    "\"babcba\""
   ]
  },
  {
   "cell_type": "code",
   "execution_count": 17,
   "id": "60589a49-11df-4c06-b9c8-8786185c43eb",
   "metadata": {},
   "outputs": [
    {
     "data": {
      "text/plain": [
       "'abcba'"
      ]
     },
     "execution_count": 17,
     "metadata": {},
     "output_type": "execute_result"
    }
   ],
   "source": [
    "\"babcba\"[1:][::-1]"
   ]
  },
  {
   "cell_type": "code",
   "execution_count": 19,
   "id": "373e015c-d31d-4bb8-aa2f-45b3a7fb4a20",
   "metadata": {},
   "outputs": [],
   "source": [
    "s = \"PAYPALISHIRING\""
   ]
  },
  {
   "cell_type": "code",
   "execution_count": 22,
   "id": "3d3659ff-4d02-4c3a-b928-6f60d4a6c544",
   "metadata": {},
   "outputs": [
    {
     "data": {
      "text/plain": [
       "4"
      ]
     },
     "execution_count": 22,
     "metadata": {},
     "output_type": "execute_result"
    }
   ],
   "source": [
    "len(s) // 3"
   ]
  },
  {
   "cell_type": "code",
   "execution_count": null,
   "id": "e6289f95-6d4d-42d4-ba59-926e311f5843",
   "metadata": {},
   "outputs": [],
   "source": []
  }
 ],
 "metadata": {
  "kernelspec": {
   "display_name": "py311",
   "language": "python",
   "name": "pytorch"
  },
  "language_info": {
   "codemirror_mode": {
    "name": "ipython",
    "version": 3
   },
   "file_extension": ".py",
   "mimetype": "text/x-python",
   "name": "python",
   "nbconvert_exporter": "python",
   "pygments_lexer": "ipython3",
   "version": "3.11.4"
  }
 },
 "nbformat": 4,
 "nbformat_minor": 5
}
